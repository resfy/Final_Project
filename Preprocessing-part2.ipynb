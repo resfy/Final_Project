{
  "nbformat": 4,
  "nbformat_minor": 0,
  "metadata": {
    "colab": {
      "name": "DropBadSNR_2",
      "provenance": [],
      "collapsed_sections": [
        "8IquQ4PBp9P9",
        "FAWzzSHljjSB",
        "sZv4S-B6_Q0j",
        "eKwoeY556tUH",
        "amGLYvPfI65t",
        "iV1UGU6SWFAW",
        "-ein9IUxyAsO"
      ],
      "toc_visible": true,
      "authorship_tag": "ABX9TyO85hFvdCZiu1+9v0SR3P/V",
      "include_colab_link": true
    },
    "kernelspec": {
      "display_name": "Python 3",
      "name": "python3"
    },
    "language_info": {
      "name": "python"
    }
  },
  "cells": [
    {
      "cell_type": "markdown",
      "metadata": {
        "id": "view-in-github",
        "colab_type": "text"
      },
      "source": [
        "<a href=\"https://colab.research.google.com/github/resfy/Final_Project/blob/main/Preprocessing-part2.ipynb\" target=\"_parent\"><img src=\"https://colab.research.google.com/assets/colab-badge.svg\" alt=\"Open In Colab\"/></a>"
      ]
    },
    {
      "cell_type": "markdown",
      "metadata": {
        "id": "8IquQ4PBp9P9"
      },
      "source": [
        "# ENVIRONTMENT PREPARATION"
      ]
    },
    {
      "cell_type": "code",
      "metadata": {
        "colab": {
          "base_uri": "https://localhost:8080/"
        },
        "id": "ZcEbpIU_TCCe",
        "outputId": "dcc35821-db12-4ce1-97a3-6f17785b7a33"
      },
      "source": [
        "!pip install mne"
      ],
      "execution_count": null,
      "outputs": [
        {
          "output_type": "stream",
          "text": [
            "Collecting mne\n",
            "\u001b[?25l  Downloading https://files.pythonhosted.org/packages/60/f7/2bf5de3fad42b66d00ee27539bc3be0260b4e66fdecc12f740cdf2daf2e7/mne-0.23.0-py3-none-any.whl (6.9MB)\n",
            "\u001b[K     |████████████████████████████████| 7.0MB 10.3MB/s \n",
            "\u001b[?25hRequirement already satisfied: scipy>=1.1.0 in /usr/local/lib/python3.7/dist-packages (from mne) (1.4.1)\n",
            "Requirement already satisfied: numpy>=1.15.4 in /usr/local/lib/python3.7/dist-packages (from mne) (1.19.5)\n",
            "Installing collected packages: mne\n",
            "Successfully installed mne-0.23.0\n"
          ],
          "name": "stdout"
        }
      ]
    },
    {
      "cell_type": "code",
      "metadata": {
        "id": "eznS2GyMTNx4"
      },
      "source": [
        "import scipy\n",
        "import scipy.io as sio\n",
        "import numpy as np\n",
        "import mne\n",
        "import matplotlib.pyplot as plt\n",
        "import pandas as pd\n",
        "import math"
      ],
      "execution_count": null,
      "outputs": []
    },
    {
      "cell_type": "code",
      "metadata": {
        "id": "SAI-WU8lX-_F"
      },
      "source": [
        "from pydrive.auth import GoogleAuth\n",
        "from pydrive.drive import GoogleDrive\n",
        "from pydrive.files import GoogleDriveFile\n",
        "from google.colab import auth\n",
        "from oauth2client.client import GoogleCredentials\n",
        "\n",
        "from mne.preprocessing import ICA"
      ],
      "execution_count": null,
      "outputs": []
    },
    {
      "cell_type": "code",
      "metadata": {
        "id": "uptvD-I8TEPH"
      },
      "source": [
        "# 1. Authenticate and create the PyDrive client.\n",
        "auth.authenticate_user()\n",
        "gauth = GoogleAuth()\n",
        "gauth.credentials = GoogleCredentials.get_application_default()\n",
        "drive = GoogleDrive(gauth)"
      ],
      "execution_count": null,
      "outputs": []
    },
    {
      "cell_type": "markdown",
      "metadata": {
        "id": "FAWzzSHljjSB"
      },
      "source": [
        "#VARIABLE DECLARATION"
      ]
    },
    {
      "cell_type": "code",
      "metadata": {
        "id": "WE8-m9Czjpsn"
      },
      "source": [
        "#range file yang akan diolah\n",
        "r = 6\n",
        "\n",
        "#downsampling\n",
        "newSfreq = 200\n",
        "\n",
        "#filter\n",
        "lfreq= 0\n",
        "hfreq= 40\n",
        "transBW_h =2\n",
        "filt = 'fir'\n",
        "window = 'blackman'\n",
        "\n",
        "\n",
        "#epoching\n",
        "tmin = 0.0\n",
        "tmax = 0.85"
      ],
      "execution_count": null,
      "outputs": []
    },
    {
      "cell_type": "markdown",
      "metadata": {
        "id": "UQSAUfIQmBtD"
      },
      "source": [
        "# IMPORTING DATASET FROM GDRIVE\n",
        "dataset in .mat file is imported as structured numpy array and make it as MNE object.\n",
        "\n",
        "dataset contains:\n",
        "1. 21 (2 are reference channels) eeg channels and arranged using 10-20 eeg placement system\n",
        "2. 1 synchronization channels (X5) for marker and eeg timing synchronization\n",
        "3. 1 stimulus channels --> marker, stored in 1D array.\n",
        "4. another information: sampling frequency, sample lenght, subject ID"
      ]
    },
    {
      "cell_type": "code",
      "metadata": {
        "colab": {
          "base_uri": "https://localhost:8080/"
        },
        "id": "HQ-_qScrwKKF",
        "outputId": "4cb39a13-00ff-4951-8e10-f8884f2d1682"
      },
      "source": [
        "#untuk memastikan range dataset didalam list yang akan diolah (tidak dipakai)\n",
        "for i in range (r):\n",
        "  print (i+7)"
      ],
      "execution_count": null,
      "outputs": [
        {
          "output_type": "stream",
          "text": [
            "7\n",
            "8\n",
            "9\n",
            "10\n",
            "11\n",
            "12\n"
          ],
          "name": "stdout"
        }
      ]
    },
    {
      "cell_type": "code",
      "metadata": {
        "id": "F2KjkquuDFSc"
      },
      "source": [
        "# 2. Get .mat File\n",
        "#gunakan id folder tempat menyimpan dataset\n",
        "listed = drive.ListFile({'q': \"title contains '.mat' and '1FygSXJTomnDY9dAy-bqWdxtxmUSMN4-1' in parents\"}).GetList()\n",
        "list_id = []\n",
        "list_title = []\n",
        "#get file id and title\n",
        "for file in listed:\n",
        "    list_id.append(file['id'])\n",
        "    list_title.append(file['title'])\n",
        "\n"
      ],
      "execution_count": null,
      "outputs": []
    },
    {
      "cell_type": "code",
      "metadata": {
        "colab": {
          "base_uri": "https://localhost:8080/"
        },
        "id": "exEoBNEzFIZe",
        "outputId": "dc9f95a0-8d5d-4d64-c30d-08391421f62e"
      },
      "source": [
        "#list title yang berada didalam folder tersebut\n",
        "#sesuaikan variable range diatas dengan posisi dataset yang akan diolah di list_title\n",
        "list_title"
      ],
      "execution_count": null,
      "outputs": [
        {
          "output_type": "execute_result",
          "data": {
            "text/plain": [
              "['5F-SubjectE-160429-5St-SGLHand-HFREQ.mat',\n",
              " '5F-SubjectE-160415-5St-SGLHand-HFREQ.mat',\n",
              " '5F-SubjectG-160428-5St-SGLHand-HFREQ.mat',\n",
              " '5F-SubjectI-160723-5St-SGLHand-HFREQ.mat',\n",
              " '5F-SubjectB-160309-5St-SGLHand-HFREQ.mat',\n",
              " '5F-SubjectC-160429-5St-SGLHand-HFREQ.mat',\n",
              " '5F-SubjectE-160321-5St-SGLHand-HFREQ.mat',\n",
              " '5F-SubjectA-160408-5St-SGLHand-HFREQ.mat',\n",
              " '5F-SubjectB-160311-5St-SGLHand-HFREQ.mat',\n",
              " '5F-SubjectF-160210-5St-SGLHand-HFREQ.mat',\n",
              " '5F-SubjectI-160719-5St-SGLHand-HFREQ.mat',\n",
              " '5F-SubjectG-160413-5St-SGLHand-HFREQ.mat',\n",
              " '5F-SubjectH-160804-5St-SGLHand-HFREQ.mat']"
            ]
          },
          "metadata": {
            "tags": []
          },
          "execution_count": 8
        }
      ]
    },
    {
      "cell_type": "code",
      "metadata": {
        "id": "XhMxJ9SCFJRj",
        "colab": {
          "base_uri": "https://localhost:8080/"
        },
        "outputId": "6e540524-ee92-4f06-d0be-efd3663188a9"
      },
      "source": [
        "df = pd.DataFrame()\n",
        "#load each dataset file\n",
        "for i in range(r):\n",
        "    each_file = drive.CreateFile({'id': list_id[i+7]})\n",
        "    each_file.GetContentFile(list_title[i+7])\n",
        "    df_each_file = sio.loadmat(list_title[i+7])\n",
        "    df = df.append(df_each_file, ignore_index=True)\n",
        "\n",
        "df"
      ],
      "execution_count": null,
      "outputs": [
        {
          "output_type": "execute_result",
          "data": {
            "text/html": [
              "<div>\n",
              "<style scoped>\n",
              "    .dataframe tbody tr th:only-of-type {\n",
              "        vertical-align: middle;\n",
              "    }\n",
              "\n",
              "    .dataframe tbody tr th {\n",
              "        vertical-align: top;\n",
              "    }\n",
              "\n",
              "    .dataframe thead th {\n",
              "        text-align: right;\n",
              "    }\n",
              "</style>\n",
              "<table border=\"1\" class=\"dataframe\">\n",
              "  <thead>\n",
              "    <tr style=\"text-align: right;\">\n",
              "      <th></th>\n",
              "      <th>__globals__</th>\n",
              "      <th>__header__</th>\n",
              "      <th>__version__</th>\n",
              "      <th>o</th>\n",
              "    </tr>\n",
              "  </thead>\n",
              "  <tbody>\n",
              "    <tr>\n",
              "      <th>0</th>\n",
              "      <td>[]</td>\n",
              "      <td>b'MATLAB 5.0 MAT-file, Platform: PCWIN, Create...</td>\n",
              "      <td>1.0</td>\n",
              "      <td>[[[['201604081208.D091BB44'], ['NK-data import...</td>\n",
              "    </tr>\n",
              "    <tr>\n",
              "      <th>1</th>\n",
              "      <td>[]</td>\n",
              "      <td>b'MATLAB 5.0 MAT-file, Platform: PCWIN, Create...</td>\n",
              "      <td>1.0</td>\n",
              "      <td>[[[['201603111905.D091BB44'], ['NK-data import...</td>\n",
              "    </tr>\n",
              "    <tr>\n",
              "      <th>2</th>\n",
              "      <td>[]</td>\n",
              "      <td>b'MATLAB 5.0 MAT-file, Platform: PCWIN, Create...</td>\n",
              "      <td>1.0</td>\n",
              "      <td>[[[['201602101337.D091BB44'], ['NK-data import...</td>\n",
              "    </tr>\n",
              "    <tr>\n",
              "      <th>3</th>\n",
              "      <td>[]</td>\n",
              "      <td>b'MATLAB 5.0 MAT-file, Platform: PCWIN64, Crea...</td>\n",
              "      <td>1.0</td>\n",
              "      <td>[[[['201607191915.D091BB44'], ['NK-data import...</td>\n",
              "    </tr>\n",
              "    <tr>\n",
              "      <th>4</th>\n",
              "      <td>[]</td>\n",
              "      <td>b'MATLAB 5.0 MAT-file, Platform: PCWIN, Create...</td>\n",
              "      <td>1.0</td>\n",
              "      <td>[[[['201604131931.D091BB44'], ['NK-data import...</td>\n",
              "    </tr>\n",
              "    <tr>\n",
              "      <th>5</th>\n",
              "      <td>[]</td>\n",
              "      <td>b'MATLAB 5.0 MAT-file, Platform: PCWIN, Create...</td>\n",
              "      <td>1.0</td>\n",
              "      <td>[[[['201608041634.D091BB44'], ['NK-data import...</td>\n",
              "    </tr>\n",
              "  </tbody>\n",
              "</table>\n",
              "</div>"
            ],
            "text/plain": [
              "  __globals__  ...                                                  o\n",
              "0          []  ...  [[[['201604081208.D091BB44'], ['NK-data import...\n",
              "1          []  ...  [[[['201603111905.D091BB44'], ['NK-data import...\n",
              "2          []  ...  [[[['201602101337.D091BB44'], ['NK-data import...\n",
              "3          []  ...  [[[['201607191915.D091BB44'], ['NK-data import...\n",
              "4          []  ...  [[[['201604131931.D091BB44'], ['NK-data import...\n",
              "5          []  ...  [[[['201608041634.D091BB44'], ['NK-data import...\n",
              "\n",
              "[6 rows x 4 columns]"
            ]
          },
          "metadata": {
            "tags": []
          },
          "execution_count": 9
        }
      ]
    },
    {
      "cell_type": "code",
      "metadata": {
        "colab": {
          "base_uri": "https://localhost:8080/"
        },
        "id": "K546qzysrgJJ",
        "outputId": "1b416ba0-db01-49cf-d612-e629a5bc876b"
      },
      "source": [
        "df"
      ],
      "execution_count": null,
      "outputs": [
        {
          "output_type": "execute_result",
          "data": {
            "text/html": [
              "<div>\n",
              "<style scoped>\n",
              "    .dataframe tbody tr th:only-of-type {\n",
              "        vertical-align: middle;\n",
              "    }\n",
              "\n",
              "    .dataframe tbody tr th {\n",
              "        vertical-align: top;\n",
              "    }\n",
              "\n",
              "    .dataframe thead th {\n",
              "        text-align: right;\n",
              "    }\n",
              "</style>\n",
              "<table border=\"1\" class=\"dataframe\">\n",
              "  <thead>\n",
              "    <tr style=\"text-align: right;\">\n",
              "      <th></th>\n",
              "      <th>__globals__</th>\n",
              "      <th>__header__</th>\n",
              "      <th>__version__</th>\n",
              "      <th>o</th>\n",
              "    </tr>\n",
              "  </thead>\n",
              "  <tbody>\n",
              "    <tr>\n",
              "      <th>0</th>\n",
              "      <td>[]</td>\n",
              "      <td>b'MATLAB 5.0 MAT-file, Platform: PCWIN, Create...</td>\n",
              "      <td>1.0</td>\n",
              "      <td>[[[['201604081208.D091BB44'], ['NK-data import...</td>\n",
              "    </tr>\n",
              "    <tr>\n",
              "      <th>1</th>\n",
              "      <td>[]</td>\n",
              "      <td>b'MATLAB 5.0 MAT-file, Platform: PCWIN, Create...</td>\n",
              "      <td>1.0</td>\n",
              "      <td>[[[['201603111905.D091BB44'], ['NK-data import...</td>\n",
              "    </tr>\n",
              "    <tr>\n",
              "      <th>2</th>\n",
              "      <td>[]</td>\n",
              "      <td>b'MATLAB 5.0 MAT-file, Platform: PCWIN, Create...</td>\n",
              "      <td>1.0</td>\n",
              "      <td>[[[['201602101337.D091BB44'], ['NK-data import...</td>\n",
              "    </tr>\n",
              "    <tr>\n",
              "      <th>3</th>\n",
              "      <td>[]</td>\n",
              "      <td>b'MATLAB 5.0 MAT-file, Platform: PCWIN64, Crea...</td>\n",
              "      <td>1.0</td>\n",
              "      <td>[[[['201607191915.D091BB44'], ['NK-data import...</td>\n",
              "    </tr>\n",
              "    <tr>\n",
              "      <th>4</th>\n",
              "      <td>[]</td>\n",
              "      <td>b'MATLAB 5.0 MAT-file, Platform: PCWIN, Create...</td>\n",
              "      <td>1.0</td>\n",
              "      <td>[[[['201604131931.D091BB44'], ['NK-data import...</td>\n",
              "    </tr>\n",
              "    <tr>\n",
              "      <th>5</th>\n",
              "      <td>[]</td>\n",
              "      <td>b'MATLAB 5.0 MAT-file, Platform: PCWIN, Create...</td>\n",
              "      <td>1.0</td>\n",
              "      <td>[[[['201608041634.D091BB44'], ['NK-data import...</td>\n",
              "    </tr>\n",
              "  </tbody>\n",
              "</table>\n",
              "</div>"
            ],
            "text/plain": [
              "  __globals__  ...                                                  o\n",
              "0          []  ...  [[[['201604081208.D091BB44'], ['NK-data import...\n",
              "1          []  ...  [[[['201603111905.D091BB44'], ['NK-data import...\n",
              "2          []  ...  [[[['201602101337.D091BB44'], ['NK-data import...\n",
              "3          []  ...  [[[['201607191915.D091BB44'], ['NK-data import...\n",
              "4          []  ...  [[[['201604131931.D091BB44'], ['NK-data import...\n",
              "5          []  ...  [[[['201608041634.D091BB44'], ['NK-data import...\n",
              "\n",
              "[6 rows x 4 columns]"
            ]
          },
          "metadata": {
            "tags": []
          },
          "execution_count": 10
        }
      ]
    },
    {
      "cell_type": "code",
      "metadata": {
        "id": "4zpgaZeSomTK",
        "colab": {
          "base_uri": "https://localhost:8080/"
        },
        "outputId": "ecadc39c-d74a-4649-ca03-83982c43dc4c"
      },
      "source": [
        "#get EEG data from file\n",
        "file_content = df[\"o\"]\n",
        "file_content"
      ],
      "execution_count": null,
      "outputs": [
        {
          "output_type": "execute_result",
          "data": {
            "text/plain": [
              "0    [[[['201604081208.D091BB44'], ['NK-data import...\n",
              "1    [[[['201603111905.D091BB44'], ['NK-data import...\n",
              "2    [[[['201602101337.D091BB44'], ['NK-data import...\n",
              "3    [[[['201607191915.D091BB44'], ['NK-data import...\n",
              "4    [[[['201604131931.D091BB44'], ['NK-data import...\n",
              "5    [[[['201608041634.D091BB44'], ['NK-data import...\n",
              "Name: o, dtype: object"
            ]
          },
          "metadata": {
            "tags": []
          },
          "execution_count": 11
        }
      ]
    },
    {
      "cell_type": "code",
      "metadata": {
        "id": "vefYT4Z9A_a2",
        "colab": {
          "base_uri": "https://localhost:8080/"
        },
        "outputId": "7a8c5481-9b06-43ee-fbe5-d16517eb813b"
      },
      "source": [
        "dataset = []\n",
        "for subject in file_content.index:\n",
        "    \n",
        "  #get channels names\n",
        "  chnames = []\n",
        "  for channel in range (len(file_content[subject]['chnames'][0,0])):\n",
        "    chnames = chnames + [(file_content[subject][\"chnames\"][0,0][channel][0][0])]\n",
        "\n",
        "  #get sampling frequency\n",
        "  sampFreq = (np.hstack((file_content[subject]['sampFreq'][0,0][0])))\n",
        "\n",
        "  #assign ch_types\n",
        "  ch_types = ['eeg']*21 + ['misc']\n",
        "\n",
        "  #make a MNE object\n",
        "  info_EEG = mne.create_info(chnames,sampFreq,ch_types=ch_types)\n",
        "  data = file_content[subject][\"data\"][0,0]\n",
        "  EEG = mne.io.RawArray(data.transpose(),info_EEG)\n",
        "  dataset.append(EEG)\n",
        "\n",
        "  #make digization info (EEG montage configuration)\n",
        "  montage = mne.channels.make_standard_montage('standard_1020')\n",
        "  dataset[subject].set_montage(montage)\n",
        "\n",
        "  #add event marker data\n",
        "  stim_data = file_content[subject]['marker'][0,0]\n",
        "  info = mne.create_info(['STI'],dataset[subject].info['sfreq'],['stim'])\n",
        "  stim_raw = mne.io.RawArray(stim_data.transpose(), info)\n",
        "  dataset[subject].add_channels([stim_raw], force_update_info=True)\n",
        "\n",
        "#print MNE object\n",
        "dataset"
      ],
      "execution_count": null,
      "outputs": [
        {
          "output_type": "stream",
          "text": [
            "Creating RawArray with float64 data, n_channels=22, n_times=3595000\n",
            "    Range : 0 ... 3594999 =      0.000 ...  3594.999 secs\n",
            "Ready.\n",
            "Creating RawArray with float64 data, n_channels=1, n_times=3595000\n",
            "    Range : 0 ... 3594999 =      0.000 ...  3594.999 secs\n",
            "Ready.\n",
            "Creating RawArray with float64 data, n_channels=22, n_times=3596000\n",
            "    Range : 0 ... 3595999 =      0.000 ...  3595.999 secs\n",
            "Ready.\n",
            "Creating RawArray with float64 data, n_channels=1, n_times=3596000\n",
            "    Range : 0 ... 3595999 =      0.000 ...  3595.999 secs\n",
            "Ready.\n",
            "Creating RawArray with float64 data, n_channels=22, n_times=3590000\n",
            "    Range : 0 ... 3589999 =      0.000 ...  3589.999 secs\n",
            "Ready.\n",
            "Creating RawArray with float64 data, n_channels=1, n_times=3590000\n",
            "    Range : 0 ... 3589999 =      0.000 ...  3589.999 secs\n",
            "Ready.\n",
            "Creating RawArray with float64 data, n_channels=22, n_times=4041000\n",
            "    Range : 0 ... 4040999 =      0.000 ...  4040.999 secs\n",
            "Ready.\n",
            "Creating RawArray with float64 data, n_channels=1, n_times=4041000\n",
            "    Range : 0 ... 4040999 =      0.000 ...  4040.999 secs\n",
            "Ready.\n",
            "Creating RawArray with float64 data, n_channels=22, n_times=3591000\n",
            "    Range : 0 ... 3590999 =      0.000 ...  3590.999 secs\n",
            "Ready.\n",
            "Creating RawArray with float64 data, n_channels=1, n_times=3591000\n",
            "    Range : 0 ... 3590999 =      0.000 ...  3590.999 secs\n",
            "Ready.\n",
            "Creating RawArray with float64 data, n_channels=22, n_times=3582000\n",
            "    Range : 0 ... 3581999 =      0.000 ...  3581.999 secs\n",
            "Ready.\n",
            "Creating RawArray with float64 data, n_channels=1, n_times=3582000\n",
            "    Range : 0 ... 3581999 =      0.000 ...  3581.999 secs\n",
            "Ready.\n"
          ],
          "name": "stdout"
        },
        {
          "output_type": "execute_result",
          "data": {
            "text/plain": [
              "[<RawArray | 23 x 3595000 (3595.0 s), ~630.9 MB, data loaded>,\n",
              " <RawArray | 23 x 3596000 (3596.0 s), ~631.0 MB, data loaded>,\n",
              " <RawArray | 23 x 3590000 (3590.0 s), ~630.0 MB, data loaded>,\n",
              " <RawArray | 23 x 4041000 (4041.0 s), ~709.1 MB, data loaded>,\n",
              " <RawArray | 23 x 3591000 (3591.0 s), ~630.2 MB, data loaded>,\n",
              " <RawArray | 23 x 3582000 (3582.0 s), ~628.6 MB, data loaded>]"
            ]
          },
          "metadata": {
            "tags": []
          },
          "execution_count": 12
        }
      ]
    },
    {
      "cell_type": "code",
      "metadata": {
        "id": "xo9aWIEvYVKS",
        "colab": {
          "base_uri": "https://localhost:8080/"
        },
        "outputId": "5a25b6ae-e3ab-4a86-e5a9-d7348989944b"
      },
      "source": [
        "events = []\n",
        "for subject in file_content.index:\n",
        "  event = mne.find_events(dataset[subject], stim_channel='STI')\n",
        "  events.append(event)"
      ],
      "execution_count": null,
      "outputs": [
        {
          "output_type": "stream",
          "text": [
            "946 events found\n",
            "Event IDs: [ 1  2  3  4  5 90 91 99]\n",
            "967 events found\n",
            "Event IDs: [ 1  2  3  4  5 91 92 99]\n",
            "959 events found\n",
            "Event IDs: [1 2 3 4 5]\n",
            "967 events found\n",
            "Event IDs: [ 1  2  3  4  5 91 92 99]\n",
            "954 events found\n",
            "Event IDs: [ 1  2  3  4  5 91 92 99]\n",
            "927 events found\n",
            "Event IDs: [ 1  2  3  4  5 91 92 99]\n"
          ],
          "name": "stdout"
        }
      ]
    },
    {
      "cell_type": "code",
      "metadata": {
        "id": "S-ZYaY7dvz6Y",
        "colab": {
          "base_uri": "https://localhost:8080/"
        },
        "outputId": "72f4458c-f190-47c6-ba2b-ec764a850610"
      },
      "source": [
        "#cek lagi judul file yang akan kita olah\n",
        "title = []\n",
        "for i in range (r):\n",
        "  title.append(list_title[i+7])\n",
        "title"
      ],
      "execution_count": null,
      "outputs": [
        {
          "output_type": "execute_result",
          "data": {
            "text/plain": [
              "['5F-SubjectA-160408-5St-SGLHand-HFREQ.mat',\n",
              " '5F-SubjectB-160311-5St-SGLHand-HFREQ.mat',\n",
              " '5F-SubjectF-160210-5St-SGLHand-HFREQ.mat',\n",
              " '5F-SubjectI-160719-5St-SGLHand-HFREQ.mat',\n",
              " '5F-SubjectG-160413-5St-SGLHand-HFREQ.mat',\n",
              " '5F-SubjectH-160804-5St-SGLHand-HFREQ.mat']"
            ]
          },
          "metadata": {
            "tags": []
          },
          "execution_count": 14
        }
      ]
    },
    {
      "cell_type": "code",
      "metadata": {
        "id": "9DpQwk6gZB_V"
      },
      "source": [
        "#beberapa dataset memiliki event yang berbeda, tapi yang akan digunakan hanya id 1 sd 5 aja (jari tangan)\n",
        "event_dict = {'thumb': 1, 'index': 2, 'middle': 3, 'ring': 4, 'pinky':5}"
      ],
      "execution_count": null,
      "outputs": []
    },
    {
      "cell_type": "code",
      "metadata": {
        "id": "SrS3YPG3JJTz"
      },
      "source": [
        "for subject in dataset:\n",
        "   subject.drop_channels('A1')\n",
        "   subject.drop_channels('A2')\n",
        "   subject.drop_channels('X5')"
      ],
      "execution_count": null,
      "outputs": []
    },
    {
      "cell_type": "markdown",
      "metadata": {
        "id": "xCuNxEsM2f16"
      },
      "source": [
        "#Epoching Raw Data"
      ]
    },
    {
      "cell_type": "code",
      "metadata": {
        "colab": {
          "base_uri": "https://localhost:8080/"
        },
        "id": "kPjUsjnc2iU8",
        "outputId": "3c9a91a8-9a97-4473-9ca2-e28fa836396b"
      },
      "source": [
        "#epoching raw EEG\n",
        "raw_epochs =[]\n",
        "for subject in file_content.index: \n",
        "  epoch = mne.Epochs(dataset[subject], events=events[subject],\n",
        "                     tmin=tmin,tmax=tmax,event_id=event_dict,baseline=None, \n",
        "                     preload=True)\n",
        "  #resampling hanya untuk dataset yang sfreqnya 1000 Hz\n",
        "  epoch.resample(newSfreq)\n",
        "  raw_epochs.append(epoch)"
      ],
      "execution_count": null,
      "outputs": [
        {
          "output_type": "stream",
          "text": [
            "Not setting metadata\n",
            "Not setting metadata\n",
            "867 matching events found\n",
            "No baseline correction applied\n",
            "0 projection items activated\n",
            "Loading data for 867 events and 851 original time points ...\n",
            "0 bad epochs dropped\n",
            "Not setting metadata\n",
            "Not setting metadata\n",
            "959 matching events found\n",
            "No baseline correction applied\n",
            "0 projection items activated\n",
            "Loading data for 959 events and 851 original time points ...\n",
            "0 bad epochs dropped\n",
            "Not setting metadata\n",
            "Not setting metadata\n",
            "959 matching events found\n",
            "No baseline correction applied\n",
            "0 projection items activated\n",
            "Loading data for 959 events and 851 original time points ...\n",
            "0 bad epochs dropped\n",
            "Not setting metadata\n",
            "Not setting metadata\n",
            "959 matching events found\n",
            "No baseline correction applied\n",
            "0 projection items activated\n",
            "Loading data for 959 events and 851 original time points ...\n",
            "0 bad epochs dropped\n",
            "Not setting metadata\n",
            "Not setting metadata\n",
            "946 matching events found\n",
            "No baseline correction applied\n",
            "0 projection items activated\n",
            "Loading data for 946 events and 851 original time points ...\n",
            "0 bad epochs dropped\n",
            "Not setting metadata\n",
            "Not setting metadata\n",
            "922 matching events found\n",
            "No baseline correction applied\n",
            "0 projection items activated\n",
            "Loading data for 922 events and 851 original time points ...\n",
            "0 bad epochs dropped\n"
          ],
          "name": "stdout"
        }
      ]
    },
    {
      "cell_type": "code",
      "metadata": {
        "colab": {
          "base_uri": "https://localhost:8080/"
        },
        "id": "gog80uyx3xTr",
        "outputId": "97f4449b-3d80-4241-ca91-9ed5f586950e"
      },
      "source": [
        "raw_epochs"
      ],
      "execution_count": null,
      "outputs": [
        {
          "output_type": "execute_result",
          "data": {
            "text/plain": [
              "[<Epochs |  867 events (all good), 0 - 0.845 sec, baseline off, ~22.5 MB, data loaded,\n",
              "  'index': 161\n",
              "  'middle': 179\n",
              "  'pinky': 162\n",
              "  'ring': 169\n",
              "  'thumb': 196>,\n",
              " <Epochs |  959 events (all good), 0 - 0.845 sec, baseline off, ~24.9 MB, data loaded,\n",
              "  'index': 173\n",
              "  'middle': 198\n",
              "  'pinky': 189\n",
              "  'ring': 190\n",
              "  'thumb': 209>,\n",
              " <Epochs |  959 events (all good), 0 - 0.845 sec, baseline off, ~24.9 MB, data loaded,\n",
              "  'index': 173\n",
              "  'middle': 198\n",
              "  'pinky': 189\n",
              "  'ring': 191\n",
              "  'thumb': 208>,\n",
              " <Epochs |  959 events (all good), 0 - 0.845 sec, baseline off, ~24.9 MB, data loaded,\n",
              "  'index': 172\n",
              "  'middle': 198\n",
              "  'pinky': 189\n",
              "  'ring': 191\n",
              "  'thumb': 209>,\n",
              " <Epochs |  946 events (all good), 0 - 0.845 sec, baseline off, ~24.6 MB, data loaded,\n",
              "  'index': 169\n",
              "  'middle': 198\n",
              "  'pinky': 186\n",
              "  'ring': 187\n",
              "  'thumb': 206>,\n",
              " <Epochs |  922 events (all good), 0 - 0.845 sec, baseline off, ~24.0 MB, data loaded,\n",
              "  'index': 167\n",
              "  'middle': 186\n",
              "  'pinky': 182\n",
              "  'ring': 184\n",
              "  'thumb': 203>]"
            ]
          },
          "metadata": {
            "tags": []
          },
          "execution_count": 18
        }
      ]
    },
    {
      "cell_type": "markdown",
      "metadata": {
        "id": "sZv4S-B6_Q0j"
      },
      "source": [
        "#Lowpass Filter"
      ]
    },
    {
      "cell_type": "code",
      "metadata": {
        "colab": {
          "base_uri": "https://localhost:8080/"
        },
        "id": "4a2qQllF6Z1L",
        "outputId": "670d35b7-ca3a-49b9-b1c3-ce4881f49741"
      },
      "source": [
        "#bandpass filtering to get signal of interest\n",
        "##create bandpass filter parameter\n",
        "#visualsisasi parameter filter\n",
        "filter_params = mne.filter.create_filter(dataset[0].get_data(), dataset[0].info['sfreq'],\n",
        "                                         l_freq=lfreq, h_freq=hfreq, method=filt, fir_window=window,\n",
        "                                         h_trans_bandwidth = transBW_h)"
      ],
      "execution_count": null,
      "outputs": [
        {
          "output_type": "stream",
          "text": [
            "Setting up low-pass filter at 40 Hz\n",
            "\n",
            "FIR filter parameters\n",
            "---------------------\n",
            "Designing a one-pass, zero-phase, non-causal lowpass filter:\n",
            "- Windowed time-domain design (firwin) method\n",
            "- Blackman window with 0.0017 passband ripple and 74 dB stopband attenuation\n",
            "- Upper passband edge: 40.00 Hz\n",
            "- Upper transition bandwidth: 2.00 Hz (-6 dB cutoff frequency: 41.00 Hz)\n",
            "- Filter length: 2501 samples (2.501 sec)\n",
            "\n"
          ],
          "name": "stdout"
        }
      ]
    },
    {
      "cell_type": "code",
      "metadata": {
        "colab": {
          "base_uri": "https://localhost:8080/"
        },
        "id": "U4nDge529TD_",
        "outputId": "1d36050b-3071-485f-94d4-2b492b788ef6"
      },
      "source": [
        "mne.viz.plot_filter(filter_params, dataset[0].info['sfreq'])\n",
        "print('\\n')"
      ],
      "execution_count": null,
      "outputs": [
        {
          "output_type": "display_data",
          "data": {
            "image/png": "[encoded data removed]",
            "text/plain": [
              "<Figure size 432x288 with 3 Axes>"
            ]
          },
          "metadata": {
            "tags": [],
            "needs_background": "light"
          }
        },
        {
          "output_type": "stream",
          "text": [
            "\n",
            "\n"
          ],
          "name": "stdout"
        }
      ]
    },
    {
      "cell_type": "code",
      "metadata": {
        "colab": {
          "base_uri": "https://localhost:8080/"
        },
        "id": "atoLaR2sBG8Q",
        "outputId": "152105e6-f1ba-4baf-ed7a-0e2bcba62833"
      },
      "source": [
        "#filtering the signal\n",
        "#masih rentang 8-40 hz\n",
        "for subject in file_content.index :\n",
        "  dataset[subject].filter(l_freq = lfreq, h_freq = hfreq, picks=None, filter_length='auto',\n",
        "                          l_trans_bandwidth='auto', h_trans_bandwidth=transBW_h,\n",
        "                          method=filt,fir_window=window)"
      ],
      "execution_count": null,
      "outputs": [
        {
          "output_type": "stream",
          "text": [
            "Filtering raw data in 1 contiguous segment\n",
            "Setting up low-pass filter at 40 Hz\n",
            "\n",
            "FIR filter parameters\n",
            "---------------------\n",
            "Designing a one-pass, zero-phase, non-causal lowpass filter:\n",
            "- Windowed time-domain design (firwin) method\n",
            "- Blackman window with 0.0017 passband ripple and 74 dB stopband attenuation\n",
            "- Upper passband edge: 40.00 Hz\n",
            "- Upper transition bandwidth: 2.00 Hz (-6 dB cutoff frequency: 41.00 Hz)\n",
            "- Filter length: 2501 samples (2.501 sec)\n",
            "\n",
            "Filtering raw data in 1 contiguous segment\n",
            "Setting up low-pass filter at 40 Hz\n",
            "\n",
            "FIR filter parameters\n",
            "---------------------\n",
            "Designing a one-pass, zero-phase, non-causal lowpass filter:\n",
            "- Windowed time-domain design (firwin) method\n",
            "- Blackman window with 0.0017 passband ripple and 74 dB stopband attenuation\n",
            "- Upper passband edge: 40.00 Hz\n",
            "- Upper transition bandwidth: 2.00 Hz (-6 dB cutoff frequency: 41.00 Hz)\n",
            "- Filter length: 2501 samples (2.501 sec)\n",
            "\n",
            "Filtering raw data in 1 contiguous segment\n",
            "Setting up low-pass filter at 40 Hz\n",
            "\n",
            "FIR filter parameters\n",
            "---------------------\n",
            "Designing a one-pass, zero-phase, non-causal lowpass filter:\n",
            "- Windowed time-domain design (firwin) method\n",
            "- Blackman window with 0.0017 passband ripple and 74 dB stopband attenuation\n",
            "- Upper passband edge: 40.00 Hz\n",
            "- Upper transition bandwidth: 2.00 Hz (-6 dB cutoff frequency: 41.00 Hz)\n",
            "- Filter length: 2501 samples (2.501 sec)\n",
            "\n",
            "Filtering raw data in 1 contiguous segment\n",
            "Setting up low-pass filter at 40 Hz\n",
            "\n",
            "FIR filter parameters\n",
            "---------------------\n",
            "Designing a one-pass, zero-phase, non-causal lowpass filter:\n",
            "- Windowed time-domain design (firwin) method\n",
            "- Blackman window with 0.0017 passband ripple and 74 dB stopband attenuation\n",
            "- Upper passband edge: 40.00 Hz\n",
            "- Upper transition bandwidth: 2.00 Hz (-6 dB cutoff frequency: 41.00 Hz)\n",
            "- Filter length: 2501 samples (2.501 sec)\n",
            "\n",
            "Filtering raw data in 1 contiguous segment\n",
            "Setting up low-pass filter at 40 Hz\n",
            "\n",
            "FIR filter parameters\n",
            "---------------------\n",
            "Designing a one-pass, zero-phase, non-causal lowpass filter:\n",
            "- Windowed time-domain design (firwin) method\n",
            "- Blackman window with 0.0017 passband ripple and 74 dB stopband attenuation\n",
            "- Upper passband edge: 40.00 Hz\n",
            "- Upper transition bandwidth: 2.00 Hz (-6 dB cutoff frequency: 41.00 Hz)\n",
            "- Filter length: 2501 samples (2.501 sec)\n",
            "\n",
            "Filtering raw data in 1 contiguous segment\n",
            "Setting up low-pass filter at 40 Hz\n",
            "\n",
            "FIR filter parameters\n",
            "---------------------\n",
            "Designing a one-pass, zero-phase, non-causal lowpass filter:\n",
            "- Windowed time-domain design (firwin) method\n",
            "- Blackman window with 0.0017 passband ripple and 74 dB stopband attenuation\n",
            "- Upper passband edge: 40.00 Hz\n",
            "- Upper transition bandwidth: 2.00 Hz (-6 dB cutoff frequency: 41.00 Hz)\n",
            "- Filter length: 2501 samples (2.501 sec)\n",
            "\n"
          ],
          "name": "stdout"
        }
      ]
    },
    {
      "cell_type": "markdown",
      "metadata": {
        "id": "6CS4MxDXBVXn"
      },
      "source": [
        "##Epoching & Downsampling\n",
        "\n",
        "penting untuk menghilangkan bad epoch, amplituda maksimal eeg = +- 100 uV"
      ]
    },
    {
      "cell_type": "code",
      "metadata": {
        "colab": {
          "base_uri": "https://localhost:8080/"
        },
        "id": "LqOIX1i0K_jG",
        "outputId": "a251479b-67e1-42b9-8a38-da641076e078"
      },
      "source": [
        "#reject kriteria\n",
        "#apabila sinyal eeg ada yang lebih dari 100uV dianggap noise dan di hilangkan\n",
        "#reject_criteria = dict (eeg = 100)\n",
        "\n",
        "#epoching raw EEG\n",
        "filtered_epochs =[]\n",
        "for subject in file_content.index: \n",
        "  epoch = mne.Epochs(dataset[subject], events=events[subject],\n",
        "                     tmin=tmin,tmax=tmax,event_id=event_dict, baseline=None,\n",
        "                     preload=True)\n",
        "  #resampling hanya untuk dataset yang sfreqnya 1000 Hz\n",
        "  epoch.resample(newSfreq)\n",
        "  filtered_epochs.append(epoch)\n"
      ],
      "execution_count": null,
      "outputs": [
        {
          "output_type": "stream",
          "text": [
            "Not setting metadata\n",
            "Not setting metadata\n",
            "867 matching events found\n",
            "No baseline correction applied\n",
            "0 projection items activated\n",
            "Loading data for 867 events and 851 original time points ...\n",
            "0 bad epochs dropped\n",
            "Not setting metadata\n",
            "Not setting metadata\n",
            "959 matching events found\n",
            "No baseline correction applied\n",
            "0 projection items activated\n",
            "Loading data for 959 events and 851 original time points ...\n",
            "0 bad epochs dropped\n",
            "Not setting metadata\n",
            "Not setting metadata\n",
            "959 matching events found\n",
            "No baseline correction applied\n",
            "0 projection items activated\n",
            "Loading data for 959 events and 851 original time points ...\n",
            "0 bad epochs dropped\n",
            "Not setting metadata\n",
            "Not setting metadata\n",
            "959 matching events found\n",
            "No baseline correction applied\n",
            "0 projection items activated\n",
            "Loading data for 959 events and 851 original time points ...\n",
            "0 bad epochs dropped\n",
            "Not setting metadata\n",
            "Not setting metadata\n",
            "946 matching events found\n",
            "No baseline correction applied\n",
            "0 projection items activated\n",
            "Loading data for 946 events and 851 original time points ...\n",
            "0 bad epochs dropped\n",
            "Not setting metadata\n",
            "Not setting metadata\n",
            "922 matching events found\n",
            "No baseline correction applied\n",
            "0 projection items activated\n",
            "Loading data for 922 events and 851 original time points ...\n",
            "0 bad epochs dropped\n"
          ],
          "name": "stdout"
        }
      ]
    },
    {
      "cell_type": "markdown",
      "metadata": {
        "id": "OvTU-cHZZwwz"
      },
      "source": [
        "epoch yang diambil dari t= -2 sekon hingga t=0.75s sesuai dengan rentang waktu terjadinya ERS/ERD.  Tapi di Kaya dkk, dari 0-0.85"
      ]
    },
    {
      "cell_type": "markdown",
      "metadata": {
        "id": "eKwoeY556tUH"
      },
      "source": [
        "#Drop trial with bad SNR"
      ]
    },
    {
      "cell_type": "code",
      "metadata": {
        "id": "BVvi2HqC8sMm"
      },
      "source": [
        "def dropBadSNR(filtered,drop_indices):\n",
        "  filtered.drop(drop_indices,reason='badSNR',verbose=None)  "
      ],
      "execution_count": null,
      "outputs": []
    },
    {
      "cell_type": "code",
      "metadata": {
        "id": "Dzcshj9E7PYY"
      },
      "source": [
        "def calculateSNR(raw_data,filtered_data):\n",
        "  '''\n",
        "  input : raw epoch\n",
        "          filtered epoch\n",
        "\n",
        "  '''\n",
        "\n",
        "  raw = raw_data.get_data(picks='eeg')\n",
        "  filtered = filtered_data.get_data(picks='eeg')\n",
        "\n",
        "  snrlist=[]\n",
        "  freq = scipy.fft.rfftfreq(170, 1./200)\n",
        "\n",
        "  for raw_trial,filtered_trial in zip(raw,filtered):\n",
        "    temp=[]\n",
        "    for raw_chan,filtered_chan in zip(raw_trial,filtered_trial):\n",
        "      #PAKAI FFT AJA\n",
        "      raw_fft = scipy.fft.rfft(raw_chan)\n",
        "      filtered_fft = scipy.fft.rfft(filtered_chan)\n",
        "      noise_fft = raw_fft - filtered_fft\n",
        "\n",
        "      filtered_psd = np.sum(np.abs(filtered_fft)**2)\n",
        "      noise_psd = np.sum(np.abs(noise_fft)**2)\n",
        "\n",
        "      #HITUNG PAKAI LOG ==> nilai noisenya kadang ada yg negatif\n",
        "      #if noise_psd >0:\n",
        "      snr = filtered_psd/noise_psd\n",
        "      snr = 10*np.log10(snr)\n",
        "      temp.append(snr)\n",
        "            \n",
        "    snrlist.append(temp)\n",
        "\n",
        "  return snrlist"
      ],
      "execution_count": null,
      "outputs": []
    },
    {
      "cell_type": "code",
      "metadata": {
        "id": "IywF4cpnsdIS"
      },
      "source": [
        "from sklearn import preprocessing\n",
        "def getgoodSNR(snrlist,filtered_data):\n",
        "\n",
        "  filtered = filtered_data.get_data(picks='eeg')\n",
        "\n",
        "  normSNR = snrlist #preprocessing.normalize(snrlist)\n",
        "  #print(normSNR)\n",
        "\n",
        "  drop_indices = []\n",
        "  count = 0\n",
        "\n",
        "  meansnr = np.mean(snrlist, axis=1)\n",
        "  Q2 = np.quantile(meansnr,.5,axis=0)\n",
        "  \n",
        "\n",
        "  for trialSNR in normSNR:\n",
        "    #rata2 snr dari semua kanal di masing-masing trial\n",
        "    chanSNR = np.mean(trialSNR)\n",
        "  \n",
        "    if chanSNR<Q2:\n",
        "      drop_indices.append(count)\n",
        "    count+=1\n",
        "  print('count of bad trials :\\n',len(drop_indices))\n",
        "  print('bad trials are :\\n',drop_indices)\n",
        "  if drop_indices is not None:\n",
        "    goodSNRtrial = dropBadSNR(filtered_data,drop_indices)\n",
        "  else: \n",
        "    goodSNRtrial =filtered\n",
        "\n",
        "  #return goodSNRtrial"
      ],
      "execution_count": null,
      "outputs": []
    },
    {
      "cell_type": "code",
      "metadata": {
        "colab": {
          "base_uri": "https://localhost:8080/"
        },
        "id": "JW8-dHzJ_ZaX",
        "outputId": "9ecaafde-59f8-44fb-b47e-c291879787c0"
      },
      "source": [
        "for raw,filtered in zip(raw_epochs,filtered_epochs):\n",
        "  snrlist = calculateSNR(raw,filtered)\n",
        "  goodtrial = getgoodSNR(snrlist,filtered)"
      ],
      "execution_count": null,
      "outputs": [
        {
          "output_type": "stream",
          "text": [
            "count of bad trials :\n",
            " 433\n",
            "bad trials are :\n",
            " [3, 7, 23, 25, 43, 46, 51, 54, 55, 57, 59, 60, 61, 62, 63, 64, 65, 66, 67, 68, 69, 70, 71, 72, 73, 74, 75, 76, 78, 79, 82, 83, 85, 86, 87, 88, 91, 92, 93, 94, 95, 96, 97, 99, 101, 105, 106, 107, 109, 111, 112, 115, 116, 117, 118, 119, 122, 123, 124, 130, 131, 133, 141, 142, 143, 144, 145, 149, 151, 154, 155, 157, 158, 159, 162, 163, 165, 167, 168, 169, 172, 173, 175, 176, 177, 178, 179, 180, 181, 182, 183, 185, 186, 187, 188, 189, 190, 191, 192, 193, 194, 195, 196, 197, 198, 199, 200, 205, 206, 207, 208, 209, 210, 211, 212, 215, 216, 217, 218, 219, 220, 221, 223, 224, 225, 226, 227, 228, 229, 230, 232, 234, 235, 237, 238, 240, 242, 244, 247, 249, 253, 257, 258, 259, 260, 261, 263, 264, 265, 266, 269, 271, 272, 274, 275, 276, 277, 278, 280, 281, 282, 283, 284, 285, 286, 288, 290, 291, 292, 293, 294, 295, 297, 298, 300, 301, 302, 304, 305, 306, 308, 310, 311, 312, 313, 314, 315, 318, 319, 320, 321, 322, 324, 326, 327, 329, 330, 331, 332, 333, 334, 335, 336, 337, 338, 339, 340, 341, 342, 343, 344, 346, 347, 348, 349, 351, 352, 353, 354, 355, 356, 357, 358, 360, 361, 362, 364, 365, 366, 367, 368, 369, 370, 371, 373, 374, 375, 376, 377, 378, 379, 380, 381, 382, 383, 384, 385, 386, 387, 388, 389, 391, 392, 393, 394, 395, 396, 397, 398, 399, 400, 401, 403, 404, 405, 408, 409, 418, 422, 425, 426, 428, 429, 430, 431, 433, 437, 438, 439, 440, 448, 449, 454, 458, 460, 461, 465, 470, 471, 472, 474, 475, 480, 481, 489, 490, 509, 511, 512, 513, 514, 516, 517, 518, 519, 522, 523, 524, 525, 526, 527, 530, 532, 533, 535, 537, 538, 539, 541, 542, 543, 545, 546, 547, 548, 549, 550, 551, 552, 553, 554, 556, 557, 558, 559, 560, 561, 562, 563, 564, 565, 566, 568, 569, 570, 571, 572, 588, 589, 591, 594, 598, 601, 606, 607, 608, 612, 614, 617, 620, 621, 622, 623, 624, 625, 626, 627, 629, 630, 631, 632, 633, 634, 635, 636, 637, 643, 647, 648, 649, 653, 654, 659, 662, 663, 666, 667, 668, 669, 670, 671, 672, 673, 674, 675, 676, 678, 680, 681, 682, 683, 684, 685, 686, 687, 690, 702, 703, 708, 709, 711, 717, 721, 724, 725, 726, 736, 744, 745, 762, 763, 775, 788, 791, 793, 805, 817, 819, 821, 831, 837, 858, 861]\n",
            "Dropped 433 epochs: 3, 7, 23, 25, 43, 46, 51, 54, 55, 57, 59, 60, 61, 62, 63, 64, 65, 66, 67, 68, 69, 70, 71, 72, 73, 74, 75, 76, 78, 79, 82, 83, 85, 86, 87, 88, 91, 92, 93, 94, 95, 96, 97, 99, 101, 105, 106, 107, 109, 111, 112, 115, 116, 117, 118, 119, 122, 123, 124, 130, 131, 133, 141, 142, 143, 144, 145, 149, 151, 154, 155, 157, 158, 159, 162, 163, 165, 167, 168, 169, 172, 173, 175, 176, 177, 178, 179, 180, 181, 182, 183, 185, 186, 187, 188, 189, 190, 191, 192, 193, 194, 195, 196, 197, 198, 199, 200, 205, 206, 207, 208, 209, 210, 211, 212, 215, 216, 217, 218, 219, 220, 221, 223, 224, 225, 226, 227, 228, 229, 230, 232, 234, 235, 237, 238, 240, 242, 244, 247, 249, 253, 257, 258, 259, 260, 261, 263, 264, 265, 266, 269, 271, 272, 274, 275, 276, 277, 278, 280, 281, 282, 283, 284, 285, 286, 288, 290, 291, 292, 293, 294, 295, 297, 298, 300, 301, 302, 304, 305, 306, 308, 310, 311, 312, 313, 314, 315, 318, 319, 320, 321, 322, 324, 326, 327, 329, 330, 331, 332, 333, 334, 335, 336, 337, 338, 339, 340, 341, 342, 343, 344, 346, 347, 348, 349, 351, 352, 353, 354, 355, 356, 357, 358, 360, 361, 362, 364, 365, 366, 367, 368, 369, 370, 371, 373, 374, 375, 376, 377, 378, 379, 380, 381, 382, 383, 384, 385, 386, 387, 388, 389, 391, 392, 393, 394, 395, 396, 397, 398, 399, 400, 401, 403, 404, 405, 408, 409, 418, 422, 425, 426, 428, 429, 430, 431, 433, 437, 438, 439, 440, 448, 449, 454, 458, 460, 461, 465, 470, 471, 472, 474, 475, 480, 481, 489, 490, 509, 511, 512, 513, 514, 516, 517, 518, 519, 522, 523, 524, 525, 526, 527, 530, 532, 533, 535, 537, 538, 539, 541, 542, 543, 545, 546, 547, 548, 549, 550, 551, 552, 553, 554, 556, 557, 558, 559, 560, 561, 562, 563, 564, 565, 566, 568, 569, 570, 571, 572, 588, 589, 591, 594, 598, 601, 606, 607, 608, 612, 614, 617, 620, 621, 622, 623, 624, 625, 626, 627, 629, 630, 631, 632, 633, 634, 635, 636, 637, 643, 647, 648, 649, 653, 654, 659, 662, 663, 666, 667, 668, 669, 670, 671, 672, 673, 674, 675, 676, 678, 680, 681, 682, 683, 684, 685, 686, 687, 690, 702, 703, 708, 709, 711, 717, 721, 724, 725, 726, 736, 744, 745, 762, 763, 775, 788, 791, 793, 805, 817, 819, 821, 831, 837, 858, 861\n",
            "count of bad trials :\n",
            " 479\n",
            "bad trials are :\n",
            " [1, 2, 3, 7, 14, 20, 27, 37, 41, 43, 45, 48, 51, 55, 57, 58, 61, 62, 63, 66, 68, 69, 70, 71, 72, 73, 74, 75, 76, 79, 80, 82, 83, 84, 85, 86, 87, 88, 89, 90, 91, 92, 93, 96, 98, 99, 100, 101, 102, 103, 104, 105, 107, 109, 110, 111, 113, 114, 115, 117, 119, 120, 121, 122, 123, 124, 125, 126, 127, 128, 129, 130, 131, 132, 133, 134, 136, 137, 138, 139, 140, 141, 142, 143, 144, 145, 147, 148, 149, 150, 151, 153, 154, 155, 156, 157, 158, 159, 160, 161, 162, 163, 164, 165, 166, 167, 168, 170, 171, 172, 173, 174, 176, 177, 178, 179, 180, 181, 182, 183, 184, 185, 186, 187, 189, 190, 191, 192, 193, 194, 195, 196, 197, 198, 199, 200, 201, 202, 204, 205, 206, 208, 209, 210, 211, 212, 213, 214, 215, 216, 218, 219, 220, 221, 222, 223, 226, 227, 228, 229, 230, 231, 232, 233, 234, 235, 236, 237, 238, 239, 240, 241, 242, 244, 245, 246, 247, 248, 249, 250, 251, 252, 254, 255, 257, 258, 260, 261, 263, 264, 265, 266, 267, 268, 269, 270, 272, 273, 274, 275, 276, 277, 278, 279, 280, 281, 283, 284, 285, 286, 287, 288, 289, 290, 291, 292, 293, 294, 295, 296, 297, 298, 299, 300, 301, 302, 303, 304, 305, 306, 307, 309, 310, 311, 312, 313, 315, 316, 317, 318, 319, 324, 328, 329, 331, 334, 336, 338, 339, 340, 341, 343, 344, 345, 346, 347, 348, 350, 351, 352, 353, 354, 358, 360, 363, 365, 366, 367, 368, 370, 372, 373, 377, 380, 381, 385, 386, 387, 390, 391, 393, 396, 397, 400, 401, 402, 403, 404, 407, 411, 421, 424, 425, 426, 428, 429, 430, 434, 435, 438, 440, 441, 444, 445, 446, 449, 450, 451, 460, 462, 467, 468, 469, 471, 472, 477, 490, 504, 509, 519, 522, 525, 533, 544, 545, 546, 560, 572, 573, 576, 584, 608, 609, 610, 614, 616, 627, 645, 646, 665, 668, 673, 674, 675, 678, 681, 682, 683, 684, 685, 686, 687, 688, 690, 691, 693, 697, 700, 702, 705, 708, 709, 713, 719, 722, 723, 726, 727, 729, 730, 736, 737, 738, 739, 742, 743, 744, 746, 747, 748, 749, 751, 752, 754, 755, 756, 758, 759, 764, 767, 773, 775, 778, 780, 784, 789, 790, 793, 794, 796, 797, 800, 801, 803, 805, 806, 808, 809, 810, 812, 816, 817, 818, 819, 821, 822, 825, 834, 835, 836, 837, 838, 839, 847, 848, 850, 854, 861, 862, 866, 867, 869, 870, 872, 873, 874, 875, 877, 878, 879, 880, 881, 882, 883, 884, 885, 886, 892, 895, 896, 897, 899, 900, 902, 906, 907, 908, 909, 910, 911, 914, 916, 920, 921, 923, 926, 929, 932, 935, 938, 939, 940, 941, 942, 945, 948, 950, 955, 958]\n",
            "Dropped 479 epochs: 1, 2, 3, 7, 14, 20, 27, 37, 41, 43, 45, 48, 51, 55, 57, 58, 61, 62, 63, 66, 68, 69, 70, 71, 72, 73, 74, 75, 76, 79, 80, 82, 83, 84, 85, 86, 87, 88, 89, 90, 91, 92, 93, 96, 98, 99, 100, 101, 102, 103, 104, 105, 107, 109, 110, 111, 113, 114, 115, 117, 119, 120, 121, 122, 123, 124, 125, 126, 127, 128, 129, 130, 131, 132, 133, 134, 136, 137, 138, 139, 140, 141, 142, 143, 144, 145, 147, 148, 149, 150, 151, 153, 154, 155, 156, 157, 158, 159, 160, 161, 162, 163, 164, 165, 166, 167, 168, 170, 171, 172, 173, 174, 176, 177, 178, 179, 180, 181, 182, 183, 184, 185, 186, 187, 189, 190, 191, 192, 193, 194, 195, 196, 197, 198, 199, 200, 201, 202, 204, 205, 206, 208, 209, 210, 211, 212, 213, 214, 215, 216, 218, 219, 220, 221, 222, 223, 226, 227, 228, 229, 230, 231, 232, 233, 234, 235, 236, 237, 238, 239, 240, 241, 242, 244, 245, 246, 247, 248, 249, 250, 251, 252, 254, 255, 257, 258, 260, 261, 263, 264, 265, 266, 267, 268, 269, 270, 272, 273, 274, 275, 276, 277, 278, 279, 280, 281, 283, 284, 285, 286, 287, 288, 289, 290, 291, 292, 293, 294, 295, 296, 297, 298, 299, 300, 301, 302, 303, 304, 305, 306, 307, 309, 310, 311, 312, 313, 315, 316, 317, 318, 319, 324, 328, 329, 331, 334, 336, 338, 339, 340, 341, 343, 344, 345, 346, 347, 348, 350, 351, 352, 353, 354, 358, 360, 363, 365, 366, 367, 368, 370, 372, 373, 377, 380, 381, 385, 386, 387, 390, 391, 393, 396, 397, 400, 401, 402, 403, 404, 407, 411, 421, 424, 425, 426, 428, 429, 430, 434, 435, 438, 440, 441, 444, 445, 446, 449, 450, 451, 460, 462, 467, 468, 469, 471, 472, 477, 490, 504, 509, 519, 522, 525, 533, 544, 545, 546, 560, 572, 573, 576, 584, 608, 609, 610, 614, 616, 627, 645, 646, 665, 668, 673, 674, 675, 678, 681, 682, 683, 684, 685, 686, 687, 688, 690, 691, 693, 697, 700, 702, 705, 708, 709, 713, 719, 722, 723, 726, 727, 729, 730, 736, 737, 738, 739, 742, 743, 744, 746, 747, 748, 749, 751, 752, 754, 755, 756, 758, 759, 764, 767, 773, 775, 778, 780, 784, 789, 790, 793, 794, 796, 797, 800, 801, 803, 805, 806, 808, 809, 810, 812, 816, 817, 818, 819, 821, 822, 825, 834, 835, 836, 837, 838, 839, 847, 848, 850, 854, 861, 862, 866, 867, 869, 870, 872, 873, 874, 875, 877, 878, 879, 880, 881, 882, 883, 884, 885, 886, 892, 895, 896, 897, 899, 900, 902, 906, 907, 908, 909, 910, 911, 914, 916, 920, 921, 923, 926, 929, 932, 935, 938, 939, 940, 941, 942, 945, 948, 950, 955, 958\n",
            "count of bad trials :\n",
            " 479\n",
            "bad trials are :\n",
            " [64, 71, 79, 81, 82, 90, 91, 92, 93, 94, 95, 96, 97, 98, 99, 100, 101, 102, 103, 104, 105, 106, 107, 108, 109, 110, 111, 112, 113, 114, 115, 116, 117, 118, 119, 120, 121, 122, 123, 124, 125, 126, 127, 128, 129, 131, 132, 133, 134, 135, 136, 137, 138, 139, 140, 141, 142, 143, 144, 145, 146, 147, 148, 150, 151, 152, 153, 154, 155, 156, 157, 158, 159, 160, 161, 162, 163, 164, 165, 166, 167, 169, 170, 173, 176, 177, 178, 179, 180, 181, 183, 184, 185, 186, 187, 188, 190, 191, 192, 194, 195, 197, 198, 200, 201, 202, 203, 204, 205, 206, 207, 208, 209, 210, 211, 212, 213, 214, 215, 216, 217, 218, 219, 220, 221, 222, 223, 224, 225, 226, 227, 228, 229, 230, 231, 232, 233, 235, 237, 238, 239, 241, 242, 244, 245, 246, 247, 249, 250, 251, 252, 253, 254, 255, 256, 257, 258, 259, 260, 262, 263, 264, 265, 266, 267, 268, 269, 270, 271, 272, 273, 274, 275, 276, 277, 278, 279, 280, 281, 282, 283, 284, 285, 286, 287, 289, 290, 291, 294, 295, 296, 297, 298, 299, 300, 301, 302, 303, 304, 305, 306, 307, 308, 309, 310, 311, 312, 314, 315, 316, 317, 318, 323, 324, 326, 327, 329, 331, 336, 340, 393, 402, 403, 404, 405, 406, 407, 409, 421, 438, 439, 444, 450, 456, 457, 466, 474, 475, 477, 478, 479, 485, 487, 488, 492, 494, 495, 496, 497, 499, 500, 501, 502, 503, 505, 506, 507, 508, 509, 510, 511, 513, 514, 516, 517, 519, 520, 521, 522, 523, 524, 525, 526, 532, 533, 535, 537, 538, 540, 542, 543, 544, 545, 548, 549, 550, 552, 553, 555, 556, 559, 560, 563, 564, 566, 567, 568, 569, 570, 571, 572, 573, 574, 575, 577, 578, 581, 582, 584, 585, 588, 589, 594, 597, 598, 600, 603, 604, 605, 606, 607, 608, 609, 610, 611, 612, 613, 614, 617, 618, 620, 621, 623, 625, 627, 628, 629, 631, 634, 635, 636, 637, 638, 639, 647, 648, 649, 650, 651, 652, 653, 655, 658, 660, 662, 664, 665, 666, 668, 680, 681, 683, 684, 700, 707, 708, 710, 711, 712, 714, 715, 719, 721, 722, 724, 725, 726, 730, 731, 733, 736, 738, 748, 772, 794, 804, 808, 816, 825, 826, 827, 829, 832, 839, 840, 841, 843, 844, 845, 847, 850, 851, 854, 856, 857, 859, 860, 861, 863, 864, 867, 868, 869, 871, 872, 873, 874, 875, 876, 877, 879, 880, 881, 883, 884, 886, 889, 890, 891, 892, 893, 896, 897, 898, 899, 900, 901, 902, 903, 904, 905, 906, 907, 908, 909, 910, 912, 913, 914, 916, 917, 918, 919, 920, 921, 923, 925, 926, 927, 932, 933, 934, 935, 936, 937, 938, 939, 940, 941, 943, 946, 948, 949, 950, 951, 954, 955, 956, 957]\n",
            "Dropped 479 epochs: 64, 71, 79, 81, 82, 90, 91, 92, 93, 94, 95, 96, 97, 98, 99, 100, 101, 102, 103, 104, 105, 106, 107, 108, 109, 110, 111, 112, 113, 114, 115, 116, 117, 118, 119, 120, 121, 122, 123, 124, 125, 126, 127, 128, 129, 131, 132, 133, 134, 135, 136, 137, 138, 139, 140, 141, 142, 143, 144, 145, 146, 147, 148, 150, 151, 152, 153, 154, 155, 156, 157, 158, 159, 160, 161, 162, 163, 164, 165, 166, 167, 169, 170, 173, 176, 177, 178, 179, 180, 181, 183, 184, 185, 186, 187, 188, 190, 191, 192, 194, 195, 197, 198, 200, 201, 202, 203, 204, 205, 206, 207, 208, 209, 210, 211, 212, 213, 214, 215, 216, 217, 218, 219, 220, 221, 222, 223, 224, 225, 226, 227, 228, 229, 230, 231, 232, 233, 235, 237, 238, 239, 241, 242, 244, 245, 246, 247, 249, 250, 251, 252, 253, 254, 255, 256, 257, 258, 259, 260, 262, 263, 264, 265, 266, 267, 268, 269, 270, 271, 272, 273, 274, 275, 276, 277, 278, 279, 280, 281, 282, 283, 284, 285, 286, 287, 289, 290, 291, 294, 295, 296, 297, 298, 299, 300, 301, 302, 303, 304, 305, 306, 307, 308, 309, 310, 311, 312, 314, 315, 316, 317, 318, 323, 324, 326, 327, 329, 331, 336, 340, 393, 402, 403, 404, 405, 406, 407, 409, 421, 438, 439, 444, 450, 456, 457, 466, 474, 475, 477, 478, 479, 485, 487, 488, 492, 494, 495, 496, 497, 499, 500, 501, 502, 503, 505, 506, 507, 508, 509, 510, 511, 513, 514, 516, 517, 519, 520, 521, 522, 523, 524, 525, 526, 532, 533, 535, 537, 538, 540, 542, 543, 544, 545, 548, 549, 550, 552, 553, 555, 556, 559, 560, 563, 564, 566, 567, 568, 569, 570, 571, 572, 573, 574, 575, 577, 578, 581, 582, 584, 585, 588, 589, 594, 597, 598, 600, 603, 604, 605, 606, 607, 608, 609, 610, 611, 612, 613, 614, 617, 618, 620, 621, 623, 625, 627, 628, 629, 631, 634, 635, 636, 637, 638, 639, 647, 648, 649, 650, 651, 652, 653, 655, 658, 660, 662, 664, 665, 666, 668, 680, 681, 683, 684, 700, 707, 708, 710, 711, 712, 714, 715, 719, 721, 722, 724, 725, 726, 730, 731, 733, 736, 738, 748, 772, 794, 804, 808, 816, 825, 826, 827, 829, 832, 839, 840, 841, 843, 844, 845, 847, 850, 851, 854, 856, 857, 859, 860, 861, 863, 864, 867, 868, 869, 871, 872, 873, 874, 875, 876, 877, 879, 880, 881, 883, 884, 886, 889, 890, 891, 892, 893, 896, 897, 898, 899, 900, 901, 902, 903, 904, 905, 906, 907, 908, 909, 910, 912, 913, 914, 916, 917, 918, 919, 920, 921, 923, 925, 926, 927, 932, 933, 934, 935, 936, 937, 938, 939, 940, 941, 943, 946, 948, 949, 950, 951, 954, 955, 956, 957\n",
            "count of bad trials :\n",
            " 479\n",
            "bad trials are :\n",
            " [0, 5, 6, 7, 8, 9, 11, 12, 13, 14, 16, 17, 18, 19, 20, 22, 24, 25, 26, 28, 29, 31, 32, 33, 34, 35, 36, 37, 38, 40, 41, 42, 43, 44, 45, 46, 47, 49, 50, 51, 52, 53, 54, 55, 56, 57, 58, 59, 60, 61, 62, 63, 64, 65, 67, 68, 69, 70, 71, 73, 74, 75, 76, 77, 78, 79, 80, 81, 82, 83, 84, 85, 86, 87, 88, 89, 90, 91, 92, 94, 97, 100, 103, 105, 108, 109, 111, 112, 115, 116, 117, 118, 119, 121, 122, 124, 125, 126, 127, 128, 129, 130, 132, 133, 134, 136, 137, 138, 141, 143, 145, 146, 147, 148, 149, 150, 154, 155, 157, 159, 161, 162, 164, 165, 166, 167, 168, 169, 170, 171, 172, 173, 174, 175, 176, 177, 178, 179, 180, 181, 182, 183, 184, 185, 186, 187, 188, 189, 191, 192, 193, 194, 195, 196, 198, 200, 201, 203, 208, 209, 210, 211, 212, 213, 214, 215, 216, 217, 218, 220, 221, 222, 223, 224, 225, 226, 228, 230, 231, 233, 234, 235, 236, 237, 238, 239, 240, 241, 244, 245, 246, 247, 248, 251, 254, 255, 256, 262, 263, 265, 268, 269, 272, 279, 282, 283, 284, 285, 286, 287, 289, 290, 291, 292, 293, 294, 295, 299, 300, 302, 306, 320, 322, 334, 341, 404, 405, 408, 409, 410, 411, 412, 413, 416, 417, 418, 419, 420, 421, 422, 423, 424, 426, 427, 428, 429, 430, 432, 441, 443, 449, 452, 453, 454, 456, 457, 458, 459, 460, 461, 462, 464, 465, 466, 467, 468, 469, 470, 471, 472, 474, 475, 476, 477, 478, 479, 480, 481, 482, 483, 484, 485, 486, 488, 489, 490, 491, 492, 493, 494, 495, 496, 497, 498, 499, 500, 501, 502, 503, 504, 505, 507, 508, 509, 510, 512, 513, 514, 515, 516, 517, 519, 520, 522, 528, 529, 530, 534, 535, 536, 537, 541, 542, 544, 545, 547, 548, 552, 553, 559, 561, 563, 564, 568, 579, 582, 630, 631, 632, 633, 634, 635, 636, 639, 640, 641, 643, 644, 646, 647, 648, 650, 651, 652, 653, 654, 655, 656, 657, 658, 659, 660, 661, 662, 663, 664, 665, 666, 667, 668, 670, 671, 673, 677, 682, 687, 688, 690, 693, 699, 700, 708, 710, 711, 712, 713, 714, 716, 718, 719, 734, 739, 744, 745, 748, 749, 750, 762, 789, 841, 842, 843, 844, 845, 846, 847, 848, 849, 850, 851, 852, 853, 854, 855, 856, 857, 858, 859, 860, 861, 862, 863, 864, 866, 884, 890, 895, 899, 902, 903, 904, 905, 906, 907, 908, 909, 910, 911, 912, 913, 914, 915, 916, 917, 918, 919, 920, 921, 922, 923, 924, 925, 926, 927, 928, 929, 930, 931, 932, 933, 934, 935, 936, 937, 938, 939, 940, 941, 942, 943, 946, 947, 948, 949, 950, 951, 954, 956, 957]\n",
            "Dropped 479 epochs: 0, 5, 6, 7, 8, 9, 11, 12, 13, 14, 16, 17, 18, 19, 20, 22, 24, 25, 26, 28, 29, 31, 32, 33, 34, 35, 36, 37, 38, 40, 41, 42, 43, 44, 45, 46, 47, 49, 50, 51, 52, 53, 54, 55, 56, 57, 58, 59, 60, 61, 62, 63, 64, 65, 67, 68, 69, 70, 71, 73, 74, 75, 76, 77, 78, 79, 80, 81, 82, 83, 84, 85, 86, 87, 88, 89, 90, 91, 92, 94, 97, 100, 103, 105, 108, 109, 111, 112, 115, 116, 117, 118, 119, 121, 122, 124, 125, 126, 127, 128, 129, 130, 132, 133, 134, 136, 137, 138, 141, 143, 145, 146, 147, 148, 149, 150, 154, 155, 157, 159, 161, 162, 164, 165, 166, 167, 168, 169, 170, 171, 172, 173, 174, 175, 176, 177, 178, 179, 180, 181, 182, 183, 184, 185, 186, 187, 188, 189, 191, 192, 193, 194, 195, 196, 198, 200, 201, 203, 208, 209, 210, 211, 212, 213, 214, 215, 216, 217, 218, 220, 221, 222, 223, 224, 225, 226, 228, 230, 231, 233, 234, 235, 236, 237, 238, 239, 240, 241, 244, 245, 246, 247, 248, 251, 254, 255, 256, 262, 263, 265, 268, 269, 272, 279, 282, 283, 284, 285, 286, 287, 289, 290, 291, 292, 293, 294, 295, 299, 300, 302, 306, 320, 322, 334, 341, 404, 405, 408, 409, 410, 411, 412, 413, 416, 417, 418, 419, 420, 421, 422, 423, 424, 426, 427, 428, 429, 430, 432, 441, 443, 449, 452, 453, 454, 456, 457, 458, 459, 460, 461, 462, 464, 465, 466, 467, 468, 469, 470, 471, 472, 474, 475, 476, 477, 478, 479, 480, 481, 482, 483, 484, 485, 486, 488, 489, 490, 491, 492, 493, 494, 495, 496, 497, 498, 499, 500, 501, 502, 503, 504, 505, 507, 508, 509, 510, 512, 513, 514, 515, 516, 517, 519, 520, 522, 528, 529, 530, 534, 535, 536, 537, 541, 542, 544, 545, 547, 548, 552, 553, 559, 561, 563, 564, 568, 579, 582, 630, 631, 632, 633, 634, 635, 636, 639, 640, 641, 643, 644, 646, 647, 648, 650, 651, 652, 653, 654, 655, 656, 657, 658, 659, 660, 661, 662, 663, 664, 665, 666, 667, 668, 670, 671, 673, 677, 682, 687, 688, 690, 693, 699, 700, 708, 710, 711, 712, 713, 714, 716, 718, 719, 734, 739, 744, 745, 748, 749, 750, 762, 789, 841, 842, 843, 844, 845, 846, 847, 848, 849, 850, 851, 852, 853, 854, 855, 856, 857, 858, 859, 860, 861, 862, 863, 864, 866, 884, 890, 895, 899, 902, 903, 904, 905, 906, 907, 908, 909, 910, 911, 912, 913, 914, 915, 916, 917, 918, 919, 920, 921, 922, 923, 924, 925, 926, 927, 928, 929, 930, 931, 932, 933, 934, 935, 936, 937, 938, 939, 940, 941, 942, 943, 946, 947, 948, 949, 950, 951, 954, 956, 957\n",
            "count of bad trials :\n",
            " 473\n",
            "bad trials are :\n",
            " [0, 4, 5, 8, 11, 13, 15, 22, 23, 31, 33, 41, 45, 46, 47, 56, 57, 58, 62, 63, 67, 73, 80, 81, 86, 90, 92, 93, 98, 99, 101, 103, 104, 105, 106, 108, 109, 110, 112, 115, 116, 120, 121, 124, 125, 126, 127, 128, 141, 143, 147, 157, 158, 160, 162, 170, 173, 175, 176, 179, 181, 183, 198, 201, 202, 204, 207, 213, 218, 220, 224, 227, 230, 233, 238, 240, 242, 243, 247, 249, 255, 261, 262, 263, 264, 265, 266, 267, 268, 269, 270, 271, 272, 273, 274, 275, 276, 278, 279, 280, 281, 282, 283, 284, 285, 286, 287, 288, 289, 290, 291, 292, 293, 294, 295, 296, 297, 298, 299, 300, 301, 302, 303, 304, 305, 306, 307, 308, 309, 310, 311, 312, 313, 314, 315, 316, 317, 318, 319, 331, 338, 349, 362, 364, 366, 400, 401, 403, 430, 434, 435, 437, 438, 439, 440, 441, 442, 443, 444, 445, 446, 447, 448, 449, 450, 451, 452, 453, 454, 455, 456, 457, 458, 459, 460, 463, 464, 465, 466, 467, 468, 469, 470, 472, 473, 474, 475, 476, 477, 478, 479, 480, 481, 482, 484, 485, 486, 487, 488, 489, 490, 491, 492, 494, 496, 497, 498, 499, 500, 501, 502, 503, 505, 506, 507, 509, 510, 511, 512, 513, 514, 515, 516, 517, 518, 519, 520, 522, 523, 524, 525, 527, 528, 529, 530, 531, 532, 533, 534, 535, 536, 537, 538, 539, 540, 541, 542, 543, 544, 546, 547, 548, 549, 550, 551, 552, 553, 554, 555, 556, 557, 558, 559, 560, 561, 562, 563, 564, 565, 566, 567, 568, 569, 570, 571, 572, 573, 574, 575, 576, 577, 578, 579, 580, 582, 583, 584, 585, 587, 589, 590, 591, 593, 594, 597, 599, 600, 601, 602, 603, 604, 605, 606, 607, 608, 609, 610, 611, 612, 613, 614, 615, 616, 617, 618, 619, 620, 621, 622, 623, 624, 625, 626, 627, 628, 631, 632, 633, 638, 640, 642, 643, 644, 645, 648, 650, 651, 652, 653, 655, 656, 657, 660, 662, 663, 664, 667, 669, 670, 671, 672, 674, 676, 679, 681, 684, 688, 689, 690, 691, 694, 698, 699, 702, 703, 704, 707, 709, 713, 725, 726, 727, 728, 731, 732, 733, 736, 737, 738, 739, 740, 741, 743, 744, 746, 747, 749, 750, 753, 755, 759, 767, 768, 769, 771, 772, 777, 779, 788, 794, 795, 797, 798, 799, 800, 802, 804, 805, 807, 808, 809, 810, 811, 813, 814, 816, 817, 819, 820, 822, 827, 828, 829, 832, 834, 838, 839, 840, 841, 848, 851, 854, 855, 859, 861, 863, 864, 866, 870, 876, 880, 881, 882, 887, 888, 890, 893, 894, 895, 896, 902, 907, 909, 911, 912, 914, 915, 916, 917, 921, 923, 924, 925, 927, 928, 930, 936, 938, 939, 940, 943, 944, 945]\n",
            "Dropped 473 epochs: 0, 4, 5, 8, 11, 13, 15, 22, 23, 31, 33, 41, 45, 46, 47, 56, 57, 58, 62, 63, 67, 73, 80, 81, 86, 90, 92, 93, 98, 99, 101, 103, 104, 105, 106, 108, 109, 110, 112, 115, 116, 120, 121, 124, 125, 126, 127, 128, 141, 143, 147, 157, 158, 160, 162, 170, 173, 175, 176, 179, 181, 183, 198, 201, 202, 204, 207, 213, 218, 220, 224, 227, 230, 233, 238, 240, 242, 243, 247, 249, 255, 261, 262, 263, 264, 265, 266, 267, 268, 269, 270, 271, 272, 273, 274, 275, 276, 278, 279, 280, 281, 282, 283, 284, 285, 286, 287, 288, 289, 290, 291, 292, 293, 294, 295, 296, 297, 298, 299, 300, 301, 302, 303, 304, 305, 306, 307, 308, 309, 310, 311, 312, 313, 314, 315, 316, 317, 318, 319, 331, 338, 349, 362, 364, 366, 400, 401, 403, 430, 434, 435, 437, 438, 439, 440, 441, 442, 443, 444, 445, 446, 447, 448, 449, 450, 451, 452, 453, 454, 455, 456, 457, 458, 459, 460, 463, 464, 465, 466, 467, 468, 469, 470, 472, 473, 474, 475, 476, 477, 478, 479, 480, 481, 482, 484, 485, 486, 487, 488, 489, 490, 491, 492, 494, 496, 497, 498, 499, 500, 501, 502, 503, 505, 506, 507, 509, 510, 511, 512, 513, 514, 515, 516, 517, 518, 519, 520, 522, 523, 524, 525, 527, 528, 529, 530, 531, 532, 533, 534, 535, 536, 537, 538, 539, 540, 541, 542, 543, 544, 546, 547, 548, 549, 550, 551, 552, 553, 554, 555, 556, 557, 558, 559, 560, 561, 562, 563, 564, 565, 566, 567, 568, 569, 570, 571, 572, 573, 574, 575, 576, 577, 578, 579, 580, 582, 583, 584, 585, 587, 589, 590, 591, 593, 594, 597, 599, 600, 601, 602, 603, 604, 605, 606, 607, 608, 609, 610, 611, 612, 613, 614, 615, 616, 617, 618, 619, 620, 621, 622, 623, 624, 625, 626, 627, 628, 631, 632, 633, 638, 640, 642, 643, 644, 645, 648, 650, 651, 652, 653, 655, 656, 657, 660, 662, 663, 664, 667, 669, 670, 671, 672, 674, 676, 679, 681, 684, 688, 689, 690, 691, 694, 698, 699, 702, 703, 704, 707, 709, 713, 725, 726, 727, 728, 731, 732, 733, 736, 737, 738, 739, 740, 741, 743, 744, 746, 747, 749, 750, 753, 755, 759, 767, 768, 769, 771, 772, 777, 779, 788, 794, 795, 797, 798, 799, 800, 802, 804, 805, 807, 808, 809, 810, 811, 813, 814, 816, 817, 819, 820, 822, 827, 828, 829, 832, 834, 838, 839, 840, 841, 848, 851, 854, 855, 859, 861, 863, 864, 866, 870, 876, 880, 881, 882, 887, 888, 890, 893, 894, 895, 896, 902, 907, 909, 911, 912, 914, 915, 916, 917, 921, 923, 924, 925, 927, 928, 930, 936, 938, 939, 940, 943, 944, 945\n",
            "count of bad trials :\n",
            " 461\n",
            "bad trials are :\n",
            " [0, 1, 2, 3, 4, 5, 6, 7, 8, 10, 11, 12, 14, 15, 17, 18, 19, 20, 21, 22, 23, 24, 25, 26, 27, 29, 30, 31, 34, 35, 36, 40, 41, 42, 43, 44, 45, 46, 47, 48, 50, 51, 52, 53, 54, 55, 56, 58, 62, 65, 66, 68, 69, 70, 72, 73, 74, 77, 78, 83, 86, 87, 88, 102, 103, 112, 113, 115, 116, 117, 118, 119, 124, 125, 127, 131, 132, 133, 134, 136, 138, 141, 142, 216, 217, 219, 220, 221, 222, 223, 224, 225, 226, 227, 229, 231, 232, 233, 234, 235, 239, 247, 248, 254, 258, 263, 264, 268, 270, 274, 275, 277, 281, 284, 317, 321, 323, 324, 325, 326, 327, 328, 334, 335, 336, 337, 338, 339, 340, 342, 344, 345, 346, 347, 348, 349, 350, 353, 356, 357, 358, 361, 362, 369, 378, 381, 384, 387, 388, 389, 390, 391, 392, 394, 396, 397, 398, 399, 401, 402, 403, 404, 405, 407, 409, 410, 415, 417, 427, 434, 439, 443, 444, 445, 446, 447, 449, 450, 451, 452, 454, 455, 456, 457, 458, 459, 462, 463, 464, 465, 467, 470, 472, 473, 474, 477, 478, 484, 486, 487, 488, 489, 490, 491, 501, 507, 508, 509, 513, 517, 519, 521, 524, 525, 527, 528, 529, 530, 531, 534, 535, 538, 539, 541, 542, 543, 544, 545, 546, 548, 550, 551, 552, 553, 554, 555, 556, 557, 558, 559, 560, 561, 562, 563, 564, 565, 566, 569, 570, 571, 572, 573, 575, 577, 579, 580, 584, 585, 587, 590, 596, 599, 600, 601, 602, 603, 604, 605, 606, 607, 608, 609, 610, 611, 612, 613, 614, 615, 616, 617, 618, 619, 620, 621, 622, 623, 624, 625, 626, 627, 628, 629, 630, 631, 632, 633, 634, 635, 636, 637, 638, 639, 640, 641, 642, 643, 644, 645, 646, 647, 648, 649, 650, 651, 652, 653, 654, 655, 656, 657, 658, 659, 660, 661, 662, 663, 664, 665, 666, 667, 668, 669, 670, 671, 672, 673, 674, 675, 678, 681, 684, 685, 686, 689, 691, 692, 694, 695, 696, 697, 699, 700, 701, 702, 703, 706, 710, 717, 720, 724, 725, 726, 727, 728, 729, 730, 732, 733, 734, 735, 736, 737, 738, 739, 740, 741, 742, 743, 745, 746, 747, 752, 753, 754, 755, 756, 758, 762, 765, 766, 776, 779, 780, 781, 782, 783, 786, 787, 788, 789, 791, 793, 794, 796, 797, 802, 803, 804, 805, 806, 807, 808, 809, 810, 812, 814, 822, 824, 825, 826, 828, 834, 835, 837, 838, 839, 841, 843, 844, 845, 847, 848, 849, 850, 851, 855, 859, 863, 865, 868, 872, 873, 875, 879, 880, 881, 884, 890, 895, 897, 898, 900, 901, 905, 910, 911, 914, 917, 918, 920, 921]\n",
            "Dropped 461 epochs: 0, 1, 2, 3, 4, 5, 6, 7, 8, 10, 11, 12, 14, 15, 17, 18, 19, 20, 21, 22, 23, 24, 25, 26, 27, 29, 30, 31, 34, 35, 36, 40, 41, 42, 43, 44, 45, 46, 47, 48, 50, 51, 52, 53, 54, 55, 56, 58, 62, 65, 66, 68, 69, 70, 72, 73, 74, 77, 78, 83, 86, 87, 88, 102, 103, 112, 113, 115, 116, 117, 118, 119, 124, 125, 127, 131, 132, 133, 134, 136, 138, 141, 142, 216, 217, 219, 220, 221, 222, 223, 224, 225, 226, 227, 229, 231, 232, 233, 234, 235, 239, 247, 248, 254, 258, 263, 264, 268, 270, 274, 275, 277, 281, 284, 317, 321, 323, 324, 325, 326, 327, 328, 334, 335, 336, 337, 338, 339, 340, 342, 344, 345, 346, 347, 348, 349, 350, 353, 356, 357, 358, 361, 362, 369, 378, 381, 384, 387, 388, 389, 390, 391, 392, 394, 396, 397, 398, 399, 401, 402, 403, 404, 405, 407, 409, 410, 415, 417, 427, 434, 439, 443, 444, 445, 446, 447, 449, 450, 451, 452, 454, 455, 456, 457, 458, 459, 462, 463, 464, 465, 467, 470, 472, 473, 474, 477, 478, 484, 486, 487, 488, 489, 490, 491, 501, 507, 508, 509, 513, 517, 519, 521, 524, 525, 527, 528, 529, 530, 531, 534, 535, 538, 539, 541, 542, 543, 544, 545, 546, 548, 550, 551, 552, 553, 554, 555, 556, 557, 558, 559, 560, 561, 562, 563, 564, 565, 566, 569, 570, 571, 572, 573, 575, 577, 579, 580, 584, 585, 587, 590, 596, 599, 600, 601, 602, 603, 604, 605, 606, 607, 608, 609, 610, 611, 612, 613, 614, 615, 616, 617, 618, 619, 620, 621, 622, 623, 624, 625, 626, 627, 628, 629, 630, 631, 632, 633, 634, 635, 636, 637, 638, 639, 640, 641, 642, 643, 644, 645, 646, 647, 648, 649, 650, 651, 652, 653, 654, 655, 656, 657, 658, 659, 660, 661, 662, 663, 664, 665, 666, 667, 668, 669, 670, 671, 672, 673, 674, 675, 678, 681, 684, 685, 686, 689, 691, 692, 694, 695, 696, 697, 699, 700, 701, 702, 703, 706, 710, 717, 720, 724, 725, 726, 727, 728, 729, 730, 732, 733, 734, 735, 736, 737, 738, 739, 740, 741, 742, 743, 745, 746, 747, 752, 753, 754, 755, 756, 758, 762, 765, 766, 776, 779, 780, 781, 782, 783, 786, 787, 788, 789, 791, 793, 794, 796, 797, 802, 803, 804, 805, 806, 807, 808, 809, 810, 812, 814, 822, 824, 825, 826, 828, 834, 835, 837, 838, 839, 841, 843, 844, 845, 847, 848, 849, 850, 851, 855, 859, 863, 865, 868, 872, 873, 875, 879, 880, 881, 884, 890, 895, 897, 898, 900, 901, 905, 910, 911, 914, 917, 918, 920, 921\n"
          ],
          "name": "stdout"
        }
      ]
    },
    {
      "cell_type": "code",
      "metadata": {
        "colab": {
          "base_uri": "https://localhost:8080/"
        },
        "id": "JKhsvFT_ezCI",
        "outputId": "f6094209-7086-4cef-b36f-6e6a0788b1b2"
      },
      "source": [
        "for dataset in filtered_epochs: \n",
        "  print('thumb : ',len(dataset['thumb'].get_data(picks='eeg')))\n",
        "  print('index : ',len(dataset['index'].get_data(picks='eeg')))\n",
        "  print('middle : ',len(dataset['middle'].get_data(picks='eeg')))\n",
        "  print('ring : ',len(dataset['ring'].get_data(picks='eeg')))\n",
        "  print('pinky : ',len(dataset['pinky'].get_data(picks='eeg')))\n",
        "  print('\\n')\n"
      ],
      "execution_count": null,
      "outputs": [
        {
          "output_type": "stream",
          "text": [
            "thumb :  102\n",
            "index :  76\n",
            "middle :  82\n",
            "ring :  81\n",
            "pinky :  93\n",
            "\n",
            "\n",
            "thumb :  89\n",
            "index :  77\n",
            "middle :  103\n",
            "ring :  109\n",
            "pinky :  102\n",
            "\n",
            "\n",
            "thumb :  119\n",
            "index :  75\n",
            "middle :  97\n",
            "ring :  99\n",
            "pinky :  90\n",
            "\n",
            "\n",
            "thumb :  112\n",
            "index :  78\n",
            "middle :  96\n",
            "ring :  91\n",
            "pinky :  103\n",
            "\n",
            "\n",
            "thumb :  112\n",
            "index :  80\n",
            "middle :  99\n",
            "ring :  92\n",
            "pinky :  90\n",
            "\n",
            "\n",
            "thumb :  107\n",
            "index :  83\n",
            "middle :  91\n",
            "ring :  93\n",
            "pinky :  87\n",
            "\n",
            "\n"
          ],
          "name": "stdout"
        }
      ]
    },
    {
      "cell_type": "code",
      "metadata": {
        "colab": {
          "base_uri": "https://localhost:8080/"
        },
        "id": "fH97EIZ8I9KE",
        "outputId": "8869b17f-7ba6-457f-9320-984803f61687"
      },
      "source": [
        "print(len(snrlist[0]))"
      ],
      "execution_count": null,
      "outputs": [
        {
          "output_type": "stream",
          "text": [
            "19\n"
          ],
          "name": "stdout"
        }
      ]
    },
    {
      "cell_type": "code",
      "metadata": {
        "colab": {
          "base_uri": "https://localhost:8080/"
        },
        "id": "owP7vveoPPhv",
        "outputId": "042e9a9d-cb73-4709-f7c0-4902a38c039d"
      },
      "source": [
        "a=np.array(snrlist)\n",
        "print(a.shape)"
      ],
      "execution_count": null,
      "outputs": [
        {
          "output_type": "stream",
          "text": [
            "(922, 19)\n"
          ],
          "name": "stdout"
        }
      ]
    },
    {
      "cell_type": "code",
      "metadata": {
        "colab": {
          "base_uri": "https://localhost:8080/"
        },
        "id": "0xV_h1aWP932",
        "outputId": "94324cf0-7fbe-45e0-9b73-9dbe9b139dc1"
      },
      "source": [
        "nb=np.mean(snrlist,axis=1)\n",
        "print(nb[0])"
      ],
      "execution_count": null,
      "outputs": [
        {
          "output_type": "stream",
          "text": [
            "10.407562106019036\n"
          ],
          "name": "stdout"
        }
      ]
    },
    {
      "cell_type": "markdown",
      "metadata": {
        "id": "amGLYvPfI65t"
      },
      "source": [
        "#Drop Bad SNR (SNR using scipy.stats.signaltonoise)"
      ]
    },
    {
      "cell_type": "code",
      "metadata": {
        "id": "CIeeCnhTKiaV"
      },
      "source": [
        "def statsSNR (a, axis=0, ddof=0):\n",
        "    a = np.asanyarray(a)\n",
        "    m = a.mean(axis)\n",
        "    sd = a.std(axis=axis, ddof=ddof)\n",
        "    return np.where(sd == 0, 0, m/sd)"
      ],
      "execution_count": null,
      "outputs": []
    },
    {
      "cell_type": "code",
      "metadata": {
        "id": "MJJ5LEiuJBIH"
      },
      "source": [
        "from sklearn import preprocessing\n",
        "def getgoodSNR2(raw,filtered):\n",
        "\n",
        "  drop_indices = []\n",
        "  count = 0\n",
        "  \n",
        "  #Q2 = np.quantile(statsSNR(np.abs(trialSNR),axis=1),.5,axis=0)\n",
        "\n",
        "  for trialSNR in raw:\n",
        "    snrlist = np.mean(statsSNR(np.abs(trialSNR),axis=1))\n",
        "    if snrlist<0:\n",
        "      drop_indices.append(count)\n",
        "    count+=1\n",
        "    #print('snrlist : \\n',snrlist)\n",
        "    #print('stddev : \\n', np.std(statsSNR(np.abs(trialSNR),axis=1)))\n",
        "  print('bad trials are :\\n',drop_indices)\n",
        "  if drop_indices is not None:\n",
        "    goodSNRtrial = dropBadSNR(filtered,drop_indices)\n",
        "  else: \n",
        "    goodSNRtrial =filtered\n",
        "\n",
        "  #return goodSNRtrial"
      ],
      "execution_count": null,
      "outputs": []
    },
    {
      "cell_type": "code",
      "metadata": {
        "colab": {
          "base_uri": "https://localhost:8080/"
        },
        "id": "GYn0aqCpJyf2",
        "outputId": "3930023e-2457-4cf2-c972-c17c9a45bc73"
      },
      "source": [
        "for raw,filtered in zip(raw_epochs,filtered_epochs):\n",
        "  getgoodSNR2(raw,filtered)"
      ],
      "execution_count": null,
      "outputs": [
        {
          "output_type": "stream",
          "text": [
            "bad trials are :\n",
            " []\n",
            "Dropped 0 epochs: \n",
            "bad trials are :\n",
            " []\n",
            "Dropped 0 epochs: \n"
          ],
          "name": "stdout"
        },
        {
          "output_type": "stream",
          "text": [
            "/usr/local/lib/python3.7/dist-packages/ipykernel_launcher.py:5: RuntimeWarning: divide by zero encountered in true_divide\n",
            "  \"\"\"\n"
          ],
          "name": "stderr"
        },
        {
          "output_type": "stream",
          "text": [
            "bad trials are :\n",
            " []\n",
            "Dropped 0 epochs: \n",
            "bad trials are :\n",
            " []\n",
            "Dropped 0 epochs: \n",
            "bad trials are :\n",
            " []\n",
            "Dropped 0 epochs: \n",
            "bad trials are :\n",
            " []\n",
            "Dropped 0 epochs: \n"
          ],
          "name": "stdout"
        }
      ]
    },
    {
      "cell_type": "markdown",
      "metadata": {
        "id": "iV1UGU6SWFAW"
      },
      "source": [
        "#SAVE"
      ]
    },
    {
      "cell_type": "code",
      "metadata": {
        "id": "4i1peXkPWGlC"
      },
      "source": [
        "split = title[0].split('-')\n",
        "file_name = split[1] + '-' +  split[2] + '-epo.fif'\n",
        "filtered_epochs[0].save(file_name, overwrite=True)"
      ],
      "execution_count": null,
      "outputs": []
    },
    {
      "cell_type": "code",
      "metadata": {
        "id": "f7E8kYlmWPoc"
      },
      "source": [
        "split = title[1].split('-')\n",
        "file_name = split[1] + '-' +  split[2] + '-epo.fif'\n",
        "filtered_epochs[1].save(file_name, overwrite=True)"
      ],
      "execution_count": null,
      "outputs": []
    },
    {
      "cell_type": "code",
      "metadata": {
        "id": "0ynczywRWVuE"
      },
      "source": [
        "split = title[2].split('-')\n",
        "file_name = split[1] + '-' +  split[2] + '-epo.fif'\n",
        "filtered_epochs[2].save(file_name, overwrite=True)"
      ],
      "execution_count": null,
      "outputs": []
    },
    {
      "cell_type": "code",
      "metadata": {
        "id": "G5zo1xaGWYEf"
      },
      "source": [
        "split = title[3].split('-')\n",
        "file_name = split[1] + '-' +  split[2] + '-epo.fif'\n",
        "filtered_epochs[3].save(file_name, overwrite=True)"
      ],
      "execution_count": null,
      "outputs": []
    },
    {
      "cell_type": "code",
      "metadata": {
        "id": "nao6KWsjWbW3"
      },
      "source": [
        "split = title[4].split('-')\n",
        "file_name = split[1] + '-' +  split[2] + '-epo.fif'\n",
        "filtered_epochs[4].save(file_name, overwrite=True)"
      ],
      "execution_count": null,
      "outputs": []
    },
    {
      "cell_type": "code",
      "metadata": {
        "id": "g9rpYJ3ZWdt3"
      },
      "source": [
        "split = title[5].split('-')\n",
        "file_name = split[1] + '-' +  split[2] + '-epo.fif'\n",
        "filtered_epochs[5].save(file_name, overwrite=True)"
      ],
      "execution_count": null,
      "outputs": []
    },
    {
      "cell_type": "markdown",
      "metadata": {
        "id": "-ein9IUxyAsO"
      },
      "source": [
        "# MOVE TO FOLDER"
      ]
    },
    {
      "cell_type": "code",
      "metadata": {
        "id": "oYPw0iR4OkaY",
        "colab": {
          "base_uri": "https://localhost:8080/"
        },
        "outputId": "c2014960-ee90-49e0-9bc1-fa4456874d51"
      },
      "source": [
        "from google.colab import drive\n",
        "drive.mount('/content/drive')"
      ],
      "execution_count": null,
      "outputs": [
        {
          "output_type": "stream",
          "text": [
            "Mounted at /content/drive\n"
          ],
          "name": "stdout"
        }
      ]
    },
    {
      "cell_type": "code",
      "metadata": {
        "id": "GjLrawxt8pSg"
      },
      "source": [
        "currentpath = '/content'"
      ],
      "execution_count": null,
      "outputs": []
    },
    {
      "cell_type": "code",
      "metadata": {
        "id": "oUIBGLh5y1kb"
      },
      "source": [
        "newpath = 'drive/My Drive/preprocessed_EEG/Q2_f'"
      ],
      "execution_count": null,
      "outputs": []
    },
    {
      "cell_type": "code",
      "metadata": {
        "id": "fjWyD5Bi-MCK"
      },
      "source": [
        "import glob, os\n",
        "import shutil\n",
        "os.chdir(currentpath)\n",
        "for file in glob.glob(\"*.fif\"):\n",
        "  shutil.move(file, newpath)"
      ],
      "execution_count": null,
      "outputs": []
    }
  ]
}