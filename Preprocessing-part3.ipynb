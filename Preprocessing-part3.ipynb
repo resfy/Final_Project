{
  "nbformat": 4,
  "nbformat_minor": 0,
  "metadata": {
    "colab": {
      "name": "DropBadSNR_3",
      "provenance": [],
      "collapsed_sections": [
        "8IquQ4PBp9P9",
        "FAWzzSHljjSB",
        "UQSAUfIQmBtD",
        "xCuNxEsM2f16",
        "sZv4S-B6_Q0j",
        "eKwoeY556tUH",
        "iV1UGU6SWFAW",
        "-ein9IUxyAsO"
      ],
      "authorship_tag": "ABX9TyNUq2au5HzpxbKGnqbkXjHD",
      "include_colab_link": true
    },
    "kernelspec": {
      "display_name": "Python 3",
      "name": "python3"
    },
    "language_info": {
      "name": "python"
    }
  },
  "cells": [
    {
      "cell_type": "markdown",
      "metadata": {
        "id": "view-in-github",
        "colab_type": "text"
      },
      "source": [
        "<a href=\"https://colab.research.google.com/github/resfy/Final_Project/blob/main/Preprocessing-part3.ipynb\" target=\"_parent\"><img src=\"https://colab.research.google.com/assets/colab-badge.svg\" alt=\"Open In Colab\"/></a>"
      ]
    },
    {
      "cell_type": "markdown",
      "metadata": {
        "id": "8IquQ4PBp9P9"
      },
      "source": [
        "# ENVIRONTMENT PREPARATION"
      ]
    },
    {
      "cell_type": "code",
      "metadata": {
        "colab": {
          "base_uri": "https://localhost:8080/"
        },
        "id": "ZcEbpIU_TCCe",
        "outputId": "f5328f78-5444-40d8-f948-45723808db24"
      },
      "source": [
        "!pip install mne"
      ],
      "execution_count": null,
      "outputs": [
        {
          "output_type": "stream",
          "text": [
            "Collecting mne\n",
            "\u001b[?25l  Downloading https://files.pythonhosted.org/packages/60/f7/2bf5de3fad42b66d00ee27539bc3be0260b4e66fdecc12f740cdf2daf2e7/mne-0.23.0-py3-none-any.whl (6.9MB)\n",
            "\u001b[K     |████████████████████████████████| 7.0MB 5.4MB/s \n",
            "\u001b[?25hRequirement already satisfied: scipy>=1.1.0 in /usr/local/lib/python3.7/dist-packages (from mne) (1.4.1)\n",
            "Requirement already satisfied: numpy>=1.15.4 in /usr/local/lib/python3.7/dist-packages (from mne) (1.19.5)\n",
            "Installing collected packages: mne\n",
            "Successfully installed mne-0.23.0\n"
          ],
          "name": "stdout"
        }
      ]
    },
    {
      "cell_type": "code",
      "metadata": {
        "id": "eznS2GyMTNx4"
      },
      "source": [
        "import scipy\n",
        "import scipy.io as sio\n",
        "import numpy as np\n",
        "import mne\n",
        "import matplotlib.pyplot as plt\n",
        "import pandas as pd\n",
        "import math"
      ],
      "execution_count": null,
      "outputs": []
    },
    {
      "cell_type": "code",
      "metadata": {
        "id": "SAI-WU8lX-_F"
      },
      "source": [
        "from pydrive.auth import GoogleAuth\n",
        "from pydrive.drive import GoogleDrive\n",
        "from pydrive.files import GoogleDriveFile\n",
        "from google.colab import auth\n",
        "from oauth2client.client import GoogleCredentials\n",
        "\n",
        "from mne.preprocessing import ICA"
      ],
      "execution_count": null,
      "outputs": []
    },
    {
      "cell_type": "code",
      "metadata": {
        "id": "uptvD-I8TEPH"
      },
      "source": [
        "# 1. Authenticate and create the PyDrive client.\n",
        "auth.authenticate_user()\n",
        "gauth = GoogleAuth()\n",
        "gauth.credentials = GoogleCredentials.get_application_default()\n",
        "drive = GoogleDrive(gauth)"
      ],
      "execution_count": null,
      "outputs": []
    },
    {
      "cell_type": "markdown",
      "metadata": {
        "id": "FAWzzSHljjSB"
      },
      "source": [
        "#VARIABLE DECLARATION"
      ]
    },
    {
      "cell_type": "code",
      "metadata": {
        "id": "WE8-m9Czjpsn"
      },
      "source": [
        "#range file yang akan diolah\n",
        "r = 6\n",
        "\n",
        "#downsampling\n",
        "#newSfreq = 200\n",
        "\n",
        "#filter\n",
        "lfreq= 0\n",
        "hfreq= 40\n",
        "transBW_h =2\n",
        "filt = 'fir'\n",
        "window = 'blackman'\n",
        "\n",
        "\n",
        "#epoching\n",
        "tmin = 0.0\n",
        "tmax = 0.85"
      ],
      "execution_count": null,
      "outputs": []
    },
    {
      "cell_type": "markdown",
      "metadata": {
        "id": "UQSAUfIQmBtD"
      },
      "source": [
        "# IMPORTING DATASET FROM GDRIVE\n",
        "dataset in .mat file is imported as structured numpy array and make it as MNE object.\n",
        "\n",
        "dataset contains:\n",
        "1. 21 (2 are reference channels) eeg channels and arranged using 10-20 eeg placement system\n",
        "2. 1 synchronization channels (X5) for marker and eeg timing synchronization\n",
        "3. 1 stimulus channels --> marker, stored in 1D array.\n",
        "4. another information: sampling frequency, sample lenght, subject ID"
      ]
    },
    {
      "cell_type": "code",
      "metadata": {
        "colab": {
          "base_uri": "https://localhost:8080/"
        },
        "id": "HQ-_qScrwKKF",
        "outputId": "d6fc4610-d261-41dc-ac1e-a6e6fdd6a85e"
      },
      "source": [
        "#untuk memastikan range dataset didalam list yang akan diolah (tidak dipakai)\n",
        "for i in range (r):\n",
        "  print (i)"
      ],
      "execution_count": null,
      "outputs": [
        {
          "output_type": "stream",
          "text": [
            "0\n",
            "1\n",
            "2\n",
            "3\n",
            "4\n",
            "5\n"
          ],
          "name": "stdout"
        }
      ]
    },
    {
      "cell_type": "code",
      "metadata": {
        "id": "F2KjkquuDFSc"
      },
      "source": [
        "# 2. Get .mat File\n",
        "#gunakan id folder tempat menyimpan dataset\n",
        "listed = drive.ListFile({'q': \"title contains '.mat' and '15wj3fRya057lEmsbTfZY_C3YUFH_h1Ka' in parents\"}).GetList()\n",
        "list_id = []\n",
        "list_title = []\n",
        "#get file id and title\n",
        "for file in listed:\n",
        "    list_id.append(file['id'])\n",
        "    list_title.append(file['title'])\n",
        "\n"
      ],
      "execution_count": null,
      "outputs": []
    },
    {
      "cell_type": "code",
      "metadata": {
        "colab": {
          "base_uri": "https://localhost:8080/"
        },
        "id": "exEoBNEzFIZe",
        "outputId": "d52dc47c-bb7a-4aaf-b8bd-4d54b822c8e5"
      },
      "source": [
        "#list title yang berada didalam folder tersebut\n",
        "#sesuaikan variable range diatas dengan posisi dataset yang akan diolah di list_title\n",
        "list_title"
      ],
      "execution_count": null,
      "outputs": [
        {
          "output_type": "execute_result",
          "data": {
            "text/plain": [
              "['5F-SubjectA-160405-5St-SGLHand.mat',\n",
              " '5F-SubjectF-160209-5St-SGLHand.mat',\n",
              " '5F-SubjectF-151027-5St-SGLHand.mat',\n",
              " '5F-SubjectB-160316-5St-SGLHand.mat',\n",
              " '5F-SubjectC-151204-5St-SGLHand.mat',\n",
              " '5F-SubjectB-151110-5St-SGLHand.mat']"
            ]
          },
          "metadata": {
            "tags": []
          },
          "execution_count": 8
        }
      ]
    },
    {
      "cell_type": "code",
      "metadata": {
        "id": "XhMxJ9SCFJRj",
        "colab": {
          "base_uri": "https://localhost:8080/"
        },
        "outputId": "5b6f0b20-1fc1-4012-e345-e2fe1bce1ea4"
      },
      "source": [
        "df = pd.DataFrame()\n",
        "#load each dataset file\n",
        "for i in range(r):\n",
        "    each_file = drive.CreateFile({'id': list_id[i]})\n",
        "    each_file.GetContentFile(list_title[i])\n",
        "    df_each_file = sio.loadmat(list_title[i])\n",
        "    df = df.append(df_each_file, ignore_index=True)\n",
        "\n",
        "df"
      ],
      "execution_count": null,
      "outputs": [
        {
          "output_type": "execute_result",
          "data": {
            "text/html": [
              "<div>\n",
              "<style scoped>\n",
              "    .dataframe tbody tr th:only-of-type {\n",
              "        vertical-align: middle;\n",
              "    }\n",
              "\n",
              "    .dataframe tbody tr th {\n",
              "        vertical-align: top;\n",
              "    }\n",
              "\n",
              "    .dataframe thead th {\n",
              "        text-align: right;\n",
              "    }\n",
              "</style>\n",
              "<table border=\"1\" class=\"dataframe\">\n",
              "  <thead>\n",
              "    <tr style=\"text-align: right;\">\n",
              "      <th></th>\n",
              "      <th>__globals__</th>\n",
              "      <th>__header__</th>\n",
              "      <th>__version__</th>\n",
              "      <th>o</th>\n",
              "    </tr>\n",
              "  </thead>\n",
              "  <tbody>\n",
              "    <tr>\n",
              "      <th>0</th>\n",
              "      <td>[]</td>\n",
              "      <td>b'MATLAB 5.0 MAT-file, Platform: PCWIN, Create...</td>\n",
              "      <td>1.0</td>\n",
              "      <td>[[[['201604051923.D091BB44'], ['NK-data import...</td>\n",
              "    </tr>\n",
              "    <tr>\n",
              "      <th>1</th>\n",
              "      <td>[]</td>\n",
              "      <td>b'MATLAB 5.0 MAT-file, Platform: PCWIN, Create...</td>\n",
              "      <td>1.0</td>\n",
              "      <td>[[[['201602091352.D091BB44'], ['NK-data import...</td>\n",
              "    </tr>\n",
              "    <tr>\n",
              "      <th>2</th>\n",
              "      <td>[]</td>\n",
              "      <td>b'MATLAB 5.0 MAT-file, Platform: PCWIN, Create...</td>\n",
              "      <td>1.0</td>\n",
              "      <td>[[[['201510271827.D091BB44'], ['NK-data import...</td>\n",
              "    </tr>\n",
              "    <tr>\n",
              "      <th>3</th>\n",
              "      <td>[]</td>\n",
              "      <td>b'MATLAB 5.0 MAT-file, Platform: GLNXA64, Crea...</td>\n",
              "      <td>1.0</td>\n",
              "      <td>[[[['201603161935.D091BB44'], ['NK-data import...</td>\n",
              "    </tr>\n",
              "    <tr>\n",
              "      <th>4</th>\n",
              "      <td>[]</td>\n",
              "      <td>b'MATLAB 5.0 MAT-file, Platform: PCWIN, Create...</td>\n",
              "      <td>1.0</td>\n",
              "      <td>[[[['201512041924.951FEF1D'], ['NK-data import...</td>\n",
              "    </tr>\n",
              "    <tr>\n",
              "      <th>5</th>\n",
              "      <td>[]</td>\n",
              "      <td>b'MATLAB 5.0 MAT-file, Platform: PCWIN, Create...</td>\n",
              "      <td>1.0</td>\n",
              "      <td>[[[['201511101935.2DE0AC81'], ['NK-data import...</td>\n",
              "    </tr>\n",
              "  </tbody>\n",
              "</table>\n",
              "</div>"
            ],
            "text/plain": [
              "  __globals__  ...                                                  o\n",
              "0          []  ...  [[[['201604051923.D091BB44'], ['NK-data import...\n",
              "1          []  ...  [[[['201602091352.D091BB44'], ['NK-data import...\n",
              "2          []  ...  [[[['201510271827.D091BB44'], ['NK-data import...\n",
              "3          []  ...  [[[['201603161935.D091BB44'], ['NK-data import...\n",
              "4          []  ...  [[[['201512041924.951FEF1D'], ['NK-data import...\n",
              "5          []  ...  [[[['201511101935.2DE0AC81'], ['NK-data import...\n",
              "\n",
              "[6 rows x 4 columns]"
            ]
          },
          "metadata": {
            "tags": []
          },
          "execution_count": 9
        }
      ]
    },
    {
      "cell_type": "code",
      "metadata": {
        "id": "4zpgaZeSomTK",
        "colab": {
          "base_uri": "https://localhost:8080/"
        },
        "outputId": "41041385-d467-4096-89df-cf7aef7546db"
      },
      "source": [
        "#get EEG data from file\n",
        "file_content = df[\"o\"]\n",
        "file_content"
      ],
      "execution_count": null,
      "outputs": [
        {
          "output_type": "execute_result",
          "data": {
            "text/plain": [
              "0    [[[['201604051923.D091BB44'], ['NK-data import...\n",
              "1    [[[['201602091352.D091BB44'], ['NK-data import...\n",
              "2    [[[['201510271827.D091BB44'], ['NK-data import...\n",
              "3    [[[['201603161935.D091BB44'], ['NK-data import...\n",
              "4    [[[['201512041924.951FEF1D'], ['NK-data import...\n",
              "5    [[[['201511101935.2DE0AC81'], ['NK-data import...\n",
              "Name: o, dtype: object"
            ]
          },
          "metadata": {
            "tags": []
          },
          "execution_count": 10
        }
      ]
    },
    {
      "cell_type": "code",
      "metadata": {
        "id": "vefYT4Z9A_a2",
        "colab": {
          "base_uri": "https://localhost:8080/"
        },
        "outputId": "4f4b2136-1a03-4b7f-f314-30aa27c7cd55"
      },
      "source": [
        "dataset = []\n",
        "for subject in file_content.index:\n",
        "    \n",
        "  #get channels names\n",
        "  chnames = []\n",
        "  for channel in range (len(file_content[subject]['chnames'][0,0])):\n",
        "    chnames = chnames + [(file_content[subject][\"chnames\"][0,0][channel][0][0])]\n",
        "\n",
        "  #get sampling frequency\n",
        "  sampFreq = (np.hstack((file_content[subject]['sampFreq'][0,0][0])))\n",
        "\n",
        "  #assign ch_types\n",
        "  ch_types = ['eeg']*21 + ['misc']\n",
        "\n",
        "  #make a MNE object\n",
        "  info_EEG = mne.create_info(chnames,sampFreq,ch_types=ch_types)\n",
        "  data = file_content[subject][\"data\"][0,0]\n",
        "  EEG = mne.io.RawArray(data.transpose(),info_EEG)\n",
        "  dataset.append(EEG)\n",
        "\n",
        "  #make digization info (EEG montage configuration)\n",
        "  montage = mne.channels.make_standard_montage('standard_1020')\n",
        "  dataset[subject].set_montage(montage)\n",
        "\n",
        "  #add event marker data\n",
        "  stim_data = file_content[subject]['marker'][0,0]\n",
        "  info = mne.create_info(['STI'],dataset[subject].info['sfreq'],['stim'])\n",
        "  stim_raw = mne.io.RawArray(stim_data.transpose(), info)\n",
        "  dataset[subject].add_channels([stim_raw], force_update_info=True)\n",
        "\n",
        "#print MNE object\n",
        "dataset"
      ],
      "execution_count": null,
      "outputs": [
        {
          "output_type": "stream",
          "text": [
            "Creating RawArray with float64 data, n_channels=22, n_times=718600\n",
            "    Range : 0 ... 718599 =      0.000 ...  3592.995 secs\n",
            "Ready.\n",
            "Creating RawArray with float64 data, n_channels=1, n_times=718600\n",
            "    Range : 0 ... 718599 =      0.000 ...  3592.995 secs\n",
            "Ready.\n",
            "Creating RawArray with float64 data, n_channels=22, n_times=718400\n",
            "    Range : 0 ... 718399 =      0.000 ...  3591.995 secs\n",
            "Ready.\n",
            "Creating RawArray with float64 data, n_channels=1, n_times=718400\n",
            "    Range : 0 ... 718399 =      0.000 ...  3591.995 secs\n",
            "Ready.\n",
            "Creating RawArray with float64 data, n_channels=22, n_times=736600\n",
            "    Range : 0 ... 736599 =      0.000 ...  3682.995 secs\n",
            "Ready.\n",
            "Creating RawArray with float64 data, n_channels=1, n_times=736600\n",
            "    Range : 0 ... 736599 =      0.000 ...  3682.995 secs\n",
            "Ready.\n",
            "Creating RawArray with float64 data, n_channels=22, n_times=718800\n",
            "    Range : 0 ... 718799 =      0.000 ...  3593.995 secs\n",
            "Ready.\n",
            "Creating RawArray with float64 data, n_channels=1, n_times=718800\n",
            "    Range : 0 ... 718799 =      0.000 ...  3593.995 secs\n",
            "Ready.\n",
            "Creating RawArray with float64 data, n_channels=22, n_times=722200\n",
            "    Range : 0 ... 722199 =      0.000 ...  3610.995 secs\n",
            "Ready.\n",
            "Creating RawArray with float64 data, n_channels=1, n_times=722200\n",
            "    Range : 0 ... 722199 =      0.000 ...  3610.995 secs\n",
            "Ready.\n",
            "Creating RawArray with float64 data, n_channels=22, n_times=724600\n",
            "    Range : 0 ... 724599 =      0.000 ...  3622.995 secs\n",
            "Ready.\n",
            "Creating RawArray with float64 data, n_channels=1, n_times=724600\n",
            "    Range : 0 ... 724599 =      0.000 ...  3622.995 secs\n",
            "Ready.\n"
          ],
          "name": "stdout"
        },
        {
          "output_type": "execute_result",
          "data": {
            "text/plain": [
              "[<RawArray | 23 x 718600 (3593.0 s), ~126.1 MB, data loaded>,\n",
              " <RawArray | 23 x 718400 (3592.0 s), ~126.1 MB, data loaded>,\n",
              " <RawArray | 23 x 736600 (3683.0 s), ~129.3 MB, data loaded>,\n",
              " <RawArray | 23 x 718800 (3594.0 s), ~126.2 MB, data loaded>,\n",
              " <RawArray | 23 x 722200 (3611.0 s), ~126.8 MB, data loaded>,\n",
              " <RawArray | 23 x 724600 (3623.0 s), ~127.2 MB, data loaded>]"
            ]
          },
          "metadata": {
            "tags": []
          },
          "execution_count": 11
        }
      ]
    },
    {
      "cell_type": "code",
      "metadata": {
        "id": "xo9aWIEvYVKS",
        "colab": {
          "base_uri": "https://localhost:8080/"
        },
        "outputId": "11e28d17-25ff-4fd7-bdde-29b40fd3269f"
      },
      "source": [
        "events = []\n",
        "for subject in file_content.index:\n",
        "  event = mne.find_events(dataset[subject], stim_channel='STI')\n",
        "  events.append(event)"
      ],
      "execution_count": null,
      "outputs": [
        {
          "output_type": "stream",
          "text": [
            "967 events found\n",
            "Event IDs: [ 1  2  3  4  5 91 92 99]\n",
            "958 events found\n",
            "Event IDs: [1 2 3 4 5]\n",
            "957 events found\n",
            "Event IDs: [1 2 3 4 5]\n",
            "967 events found\n",
            "Event IDs: [ 1  2  3  4  5 91 92 99]\n",
            "958 events found\n",
            "Event IDs: [1 2 3 4 5]\n",
            "958 events found\n",
            "Event IDs: [1 2 3 4 5]\n"
          ],
          "name": "stdout"
        }
      ]
    },
    {
      "cell_type": "code",
      "metadata": {
        "id": "S-ZYaY7dvz6Y",
        "colab": {
          "base_uri": "https://localhost:8080/"
        },
        "outputId": "0935977e-6cc7-4c62-e081-d4a7e87418f8"
      },
      "source": [
        "#cek lagi judul file yang akan kita olah\n",
        "title = []\n",
        "for i in range (r):\n",
        "  title.append(list_title[i])\n",
        "title"
      ],
      "execution_count": null,
      "outputs": [
        {
          "output_type": "execute_result",
          "data": {
            "text/plain": [
              "['5F-SubjectA-160405-5St-SGLHand.mat',\n",
              " '5F-SubjectF-160209-5St-SGLHand.mat',\n",
              " '5F-SubjectF-151027-5St-SGLHand.mat',\n",
              " '5F-SubjectB-160316-5St-SGLHand.mat',\n",
              " '5F-SubjectC-151204-5St-SGLHand.mat',\n",
              " '5F-SubjectB-151110-5St-SGLHand.mat']"
            ]
          },
          "metadata": {
            "tags": []
          },
          "execution_count": 13
        }
      ]
    },
    {
      "cell_type": "code",
      "metadata": {
        "id": "9DpQwk6gZB_V"
      },
      "source": [
        "#beberapa dataset memiliki event yang berbeda, tapi yang akan digunakan hanya id 1 sd 5 aja (jari tangan)\n",
        "event_dict = {'thumb': 1, 'index': 2, 'middle': 3, 'ring': 4, 'pinky':5}"
      ],
      "execution_count": null,
      "outputs": []
    },
    {
      "cell_type": "code",
      "metadata": {
        "id": "SrS3YPG3JJTz"
      },
      "source": [
        "for subject in dataset:\n",
        "   subject.drop_channels('A1')\n",
        "   subject.drop_channels('A2')\n",
        "   subject.drop_channels('X5')"
      ],
      "execution_count": null,
      "outputs": []
    },
    {
      "cell_type": "markdown",
      "metadata": {
        "id": "xCuNxEsM2f16"
      },
      "source": [
        "#Epoching Raw Data"
      ]
    },
    {
      "cell_type": "code",
      "metadata": {
        "colab": {
          "base_uri": "https://localhost:8080/"
        },
        "id": "kPjUsjnc2iU8",
        "outputId": "19deec78-aa28-4f49-9b4a-289c1e7124c0"
      },
      "source": [
        "#epoching raw EEG\n",
        "raw_epochs =[]\n",
        "for subject in file_content.index: \n",
        "  epoch = mne.Epochs(dataset[subject], events=events[subject],\n",
        "                     tmin=tmin,tmax=tmax,event_id=event_dict,baseline=None, \n",
        "                     preload=True)\n",
        "  #resampling hanya untuk dataset yang sfreqnya 1000 Hz\n",
        "  #epoch.resample(newSfreq)\n",
        "  raw_epochs.append(epoch)"
      ],
      "execution_count": null,
      "outputs": [
        {
          "output_type": "stream",
          "text": [
            "Not setting metadata\n",
            "Not setting metadata\n",
            "959 matching events found\n",
            "No baseline correction applied\n",
            "0 projection items activated\n",
            "Loading data for 959 events and 171 original time points ...\n",
            "0 bad epochs dropped\n",
            "Not setting metadata\n",
            "Not setting metadata\n",
            "958 matching events found\n",
            "No baseline correction applied\n",
            "0 projection items activated\n",
            "Loading data for 958 events and 171 original time points ...\n",
            "0 bad epochs dropped\n",
            "Not setting metadata\n",
            "Not setting metadata\n",
            "957 matching events found\n",
            "No baseline correction applied\n",
            "0 projection items activated\n",
            "Loading data for 957 events and 171 original time points ...\n",
            "0 bad epochs dropped\n",
            "Not setting metadata\n",
            "Not setting metadata\n",
            "959 matching events found\n",
            "No baseline correction applied\n",
            "0 projection items activated\n",
            "Loading data for 959 events and 171 original time points ...\n",
            "0 bad epochs dropped\n",
            "Not setting metadata\n",
            "Not setting metadata\n",
            "958 matching events found\n",
            "No baseline correction applied\n",
            "0 projection items activated\n",
            "Loading data for 958 events and 171 original time points ...\n",
            "0 bad epochs dropped\n",
            "Not setting metadata\n",
            "Not setting metadata\n",
            "958 matching events found\n",
            "No baseline correction applied\n",
            "0 projection items activated\n",
            "Loading data for 958 events and 171 original time points ...\n",
            "0 bad epochs dropped\n"
          ],
          "name": "stdout"
        }
      ]
    },
    {
      "cell_type": "code",
      "metadata": {
        "colab": {
          "base_uri": "https://localhost:8080/"
        },
        "id": "gog80uyx3xTr",
        "outputId": "c13232b8-61a8-4db3-da25-dfd48140c27e"
      },
      "source": [
        "raw_epochs"
      ],
      "execution_count": null,
      "outputs": [
        {
          "output_type": "execute_result",
          "data": {
            "text/plain": [
              "[<Epochs |  959 events (all good), 0 - 0.85 sec, baseline off, ~25.1 MB, data loaded,\n",
              "  'index': 172\n",
              "  'middle': 198\n",
              "  'pinky': 189\n",
              "  'ring': 191\n",
              "  'thumb': 209>,\n",
              " <Epochs |  958 events (all good), 0 - 0.85 sec, baseline off, ~25.0 MB, data loaded,\n",
              "  'index': 173\n",
              "  'middle': 198\n",
              "  'pinky': 188\n",
              "  'ring': 191\n",
              "  'thumb': 208>,\n",
              " <Epochs |  957 events (all good), 0 - 0.85 sec, baseline off, ~25.0 MB, data loaded,\n",
              "  'index': 173\n",
              "  'middle': 198\n",
              "  'pinky': 189\n",
              "  'ring': 191\n",
              "  'thumb': 206>,\n",
              " <Epochs |  959 events (all good), 0 - 0.85 sec, baseline off, ~25.1 MB, data loaded,\n",
              "  'index': 173\n",
              "  'middle': 197\n",
              "  'pinky': 189\n",
              "  'ring': 191\n",
              "  'thumb': 209>,\n",
              " <Epochs |  958 events (all good), 0 - 0.85 sec, baseline off, ~25.0 MB, data loaded,\n",
              "  'index': 202\n",
              "  'middle': 196\n",
              "  'pinky': 203\n",
              "  'ring': 190\n",
              "  'thumb': 167>,\n",
              " <Epochs |  958 events (all good), 0 - 0.85 sec, baseline off, ~25.0 MB, data loaded,\n",
              "  'index': 192\n",
              "  'middle': 186\n",
              "  'pinky': 181\n",
              "  'ring': 177\n",
              "  'thumb': 222>]"
            ]
          },
          "metadata": {
            "tags": []
          },
          "execution_count": 17
        }
      ]
    },
    {
      "cell_type": "markdown",
      "metadata": {
        "id": "sZv4S-B6_Q0j"
      },
      "source": [
        "#Lowpass Filter"
      ]
    },
    {
      "cell_type": "code",
      "metadata": {
        "colab": {
          "base_uri": "https://localhost:8080/"
        },
        "id": "4a2qQllF6Z1L",
        "outputId": "8a3b9e75-4948-45a2-99ac-038ab1296dd0"
      },
      "source": [
        "#bandpass filtering to get signal of interest\n",
        "##create bandpass filter parameter\n",
        "#visualsisasi parameter filter\n",
        "filter_params = mne.filter.create_filter(dataset[0].get_data(), dataset[0].info['sfreq'],\n",
        "                                         l_freq=lfreq, h_freq=hfreq, method=filt, fir_window=window,\n",
        "                                         h_trans_bandwidth = transBW_h)"
      ],
      "execution_count": null,
      "outputs": [
        {
          "output_type": "stream",
          "text": [
            "Setting up low-pass filter at 40 Hz\n",
            "\n",
            "FIR filter parameters\n",
            "---------------------\n",
            "Designing a one-pass, zero-phase, non-causal lowpass filter:\n",
            "- Windowed time-domain design (firwin) method\n",
            "- Blackman window with 0.0017 passband ripple and 74 dB stopband attenuation\n",
            "- Upper passband edge: 40.00 Hz\n",
            "- Upper transition bandwidth: 2.00 Hz (-6 dB cutoff frequency: 41.00 Hz)\n",
            "- Filter length: 501 samples (2.505 sec)\n",
            "\n"
          ],
          "name": "stdout"
        }
      ]
    },
    {
      "cell_type": "code",
      "metadata": {
        "colab": {
          "base_uri": "https://localhost:8080/"
        },
        "id": "U4nDge529TD_",
        "outputId": "63eacc9a-0c95-4865-8184-c0b1ae15c4bd"
      },
      "source": [
        "mne.viz.plot_filter(filter_params, dataset[0].info['sfreq'])\n",
        "print('\\n')"
      ],
      "execution_count": null,
      "outputs": [
        {
          "output_type": "display_data",
          "data": {
            "image/png": "[encoded data removed]",
            "text/plain": [
              "<Figure size 432x288 with 3 Axes>"
            ]
          },
          "metadata": {
            "tags": [],
            "needs_background": "light"
          }
        },
        {
          "output_type": "stream",
          "text": [
            "\n",
            "\n"
          ],
          "name": "stdout"
        }
      ]
    },
    {
      "cell_type": "code",
      "metadata": {
        "colab": {
          "base_uri": "https://localhost:8080/"
        },
        "id": "atoLaR2sBG8Q",
        "outputId": "de0e2371-4d6b-4dcb-9271-1f6971ec041d"
      },
      "source": [
        "#filtering the signal\n",
        "#masih rentang 8-40 hz\n",
        "for subject in file_content.index :\n",
        "  dataset[subject].filter(l_freq = lfreq, h_freq = hfreq, picks=None, filter_length='auto',\n",
        "                          l_trans_bandwidth='auto', h_trans_bandwidth=transBW_h,\n",
        "                          method=filt,fir_window=window)"
      ],
      "execution_count": null,
      "outputs": [
        {
          "output_type": "stream",
          "text": [
            "Filtering raw data in 1 contiguous segment\n",
            "Setting up low-pass filter at 40 Hz\n",
            "\n",
            "FIR filter parameters\n",
            "---------------------\n",
            "Designing a one-pass, zero-phase, non-causal lowpass filter:\n",
            "- Windowed time-domain design (firwin) method\n",
            "- Blackman window with 0.0017 passband ripple and 74 dB stopband attenuation\n",
            "- Upper passband edge: 40.00 Hz\n",
            "- Upper transition bandwidth: 2.00 Hz (-6 dB cutoff frequency: 41.00 Hz)\n",
            "- Filter length: 501 samples (2.505 sec)\n",
            "\n",
            "Filtering raw data in 1 contiguous segment\n",
            "Setting up low-pass filter at 40 Hz\n",
            "\n",
            "FIR filter parameters\n",
            "---------------------\n",
            "Designing a one-pass, zero-phase, non-causal lowpass filter:\n",
            "- Windowed time-domain design (firwin) method\n",
            "- Blackman window with 0.0017 passband ripple and 74 dB stopband attenuation\n",
            "- Upper passband edge: 40.00 Hz\n",
            "- Upper transition bandwidth: 2.00 Hz (-6 dB cutoff frequency: 41.00 Hz)\n",
            "- Filter length: 501 samples (2.505 sec)\n",
            "\n",
            "Filtering raw data in 1 contiguous segment\n",
            "Setting up low-pass filter at 40 Hz\n",
            "\n",
            "FIR filter parameters\n",
            "---------------------\n",
            "Designing a one-pass, zero-phase, non-causal lowpass filter:\n",
            "- Windowed time-domain design (firwin) method\n",
            "- Blackman window with 0.0017 passband ripple and 74 dB stopband attenuation\n",
            "- Upper passband edge: 40.00 Hz\n",
            "- Upper transition bandwidth: 2.00 Hz (-6 dB cutoff frequency: 41.00 Hz)\n",
            "- Filter length: 501 samples (2.505 sec)\n",
            "\n",
            "Filtering raw data in 1 contiguous segment\n",
            "Setting up low-pass filter at 40 Hz\n",
            "\n",
            "FIR filter parameters\n",
            "---------------------\n",
            "Designing a one-pass, zero-phase, non-causal lowpass filter:\n",
            "- Windowed time-domain design (firwin) method\n",
            "- Blackman window with 0.0017 passband ripple and 74 dB stopband attenuation\n",
            "- Upper passband edge: 40.00 Hz\n",
            "- Upper transition bandwidth: 2.00 Hz (-6 dB cutoff frequency: 41.00 Hz)\n",
            "- Filter length: 501 samples (2.505 sec)\n",
            "\n",
            "Filtering raw data in 1 contiguous segment\n",
            "Setting up low-pass filter at 40 Hz\n",
            "\n",
            "FIR filter parameters\n",
            "---------------------\n",
            "Designing a one-pass, zero-phase, non-causal lowpass filter:\n",
            "- Windowed time-domain design (firwin) method\n",
            "- Blackman window with 0.0017 passband ripple and 74 dB stopband attenuation\n",
            "- Upper passband edge: 40.00 Hz\n",
            "- Upper transition bandwidth: 2.00 Hz (-6 dB cutoff frequency: 41.00 Hz)\n",
            "- Filter length: 501 samples (2.505 sec)\n",
            "\n",
            "Filtering raw data in 1 contiguous segment\n",
            "Setting up low-pass filter at 40 Hz\n",
            "\n",
            "FIR filter parameters\n",
            "---------------------\n",
            "Designing a one-pass, zero-phase, non-causal lowpass filter:\n",
            "- Windowed time-domain design (firwin) method\n",
            "- Blackman window with 0.0017 passband ripple and 74 dB stopband attenuation\n",
            "- Upper passband edge: 40.00 Hz\n",
            "- Upper transition bandwidth: 2.00 Hz (-6 dB cutoff frequency: 41.00 Hz)\n",
            "- Filter length: 501 samples (2.505 sec)\n",
            "\n"
          ],
          "name": "stdout"
        }
      ]
    },
    {
      "cell_type": "markdown",
      "metadata": {
        "id": "6CS4MxDXBVXn"
      },
      "source": [
        "##Epoching & Downsampling\n",
        "\n",
        "penting untuk menghilangkan bad epoch, amplituda maksimal eeg = +- 100 uV"
      ]
    },
    {
      "cell_type": "code",
      "metadata": {
        "colab": {
          "base_uri": "https://localhost:8080/"
        },
        "id": "LqOIX1i0K_jG",
        "outputId": "0b759238-2ff3-482e-eb30-d2d15c94f937"
      },
      "source": [
        "#reject kriteria\n",
        "#apabila sinyal eeg ada yang lebih dari 100uV dianggap noise dan di hilangkan\n",
        "#reject_criteria = dict (eeg = 100)\n",
        "\n",
        "#epoching raw EEG\n",
        "filtered_epochs =[]\n",
        "for subject in file_content.index: \n",
        "  epoch = mne.Epochs(dataset[subject], events=events[subject],\n",
        "                     tmin=tmin,tmax=tmax,event_id=event_dict, baseline=None,\n",
        "                     preload=True)\n",
        "  #resampling hanya untuk dataset yang sfreqnya 1000 Hz\n",
        "  #epoch.resample(newSfreq)\n",
        "  filtered_epochs.append(epoch)\n"
      ],
      "execution_count": null,
      "outputs": [
        {
          "output_type": "stream",
          "text": [
            "Not setting metadata\n",
            "Not setting metadata\n",
            "959 matching events found\n",
            "No baseline correction applied\n",
            "0 projection items activated\n",
            "Loading data for 959 events and 171 original time points ...\n",
            "0 bad epochs dropped\n",
            "Not setting metadata\n",
            "Not setting metadata\n",
            "958 matching events found\n",
            "No baseline correction applied\n",
            "0 projection items activated\n",
            "Loading data for 958 events and 171 original time points ...\n",
            "0 bad epochs dropped\n",
            "Not setting metadata\n",
            "Not setting metadata\n",
            "957 matching events found\n",
            "No baseline correction applied\n",
            "0 projection items activated\n",
            "Loading data for 957 events and 171 original time points ...\n",
            "0 bad epochs dropped\n",
            "Not setting metadata\n",
            "Not setting metadata\n",
            "959 matching events found\n",
            "No baseline correction applied\n",
            "0 projection items activated\n",
            "Loading data for 959 events and 171 original time points ...\n",
            "0 bad epochs dropped\n",
            "Not setting metadata\n",
            "Not setting metadata\n",
            "958 matching events found\n",
            "No baseline correction applied\n",
            "0 projection items activated\n",
            "Loading data for 958 events and 171 original time points ...\n",
            "0 bad epochs dropped\n",
            "Not setting metadata\n",
            "Not setting metadata\n",
            "958 matching events found\n",
            "No baseline correction applied\n",
            "0 projection items activated\n",
            "Loading data for 958 events and 171 original time points ...\n",
            "0 bad epochs dropped\n"
          ],
          "name": "stdout"
        }
      ]
    },
    {
      "cell_type": "markdown",
      "metadata": {
        "id": "OvTU-cHZZwwz"
      },
      "source": [
        "epoch yang diambil dari t= -2 sekon hingga t=0.75s sesuai dengan rentang waktu terjadinya ERS/ERD.  Tapi di Kaya dkk, dari 0-0.85"
      ]
    },
    {
      "cell_type": "markdown",
      "metadata": {
        "id": "eKwoeY556tUH"
      },
      "source": [
        "#Drop trial with bad SNR"
      ]
    },
    {
      "cell_type": "code",
      "metadata": {
        "id": "BVvi2HqC8sMm"
      },
      "source": [
        "def dropBadSNR(filtered,drop_indices):\n",
        "  filtered.drop(drop_indices,reason='badSNR',verbose=None)  "
      ],
      "execution_count": null,
      "outputs": []
    },
    {
      "cell_type": "code",
      "metadata": {
        "id": "Dzcshj9E7PYY"
      },
      "source": [
        "def calculateSNR(raw_data,filtered_data):\n",
        "  '''\n",
        "  input : raw epoch\n",
        "          filtered epoch\n",
        "\n",
        "  '''\n",
        "\n",
        "  raw = raw_data.get_data(picks='eeg')\n",
        "  filtered = filtered_data.get_data(picks='eeg')\n",
        "\n",
        "  snrlist=[]\n",
        "  freq = scipy.fft.rfftfreq(170, 1./200)\n",
        "\n",
        "  for raw_trial,filtered_trial in zip(raw,filtered):\n",
        "    temp=[]\n",
        "    for raw_chan,filtered_chan in zip(raw_trial,filtered_trial):\n",
        "      #PAKAI FFT AJA\n",
        "      raw_fft = scipy.fft.rfft(raw_chan)\n",
        "      filtered_fft = scipy.fft.rfft(filtered_chan)\n",
        "      noise_fft = raw_fft - filtered_fft\n",
        "      \n",
        "      filtered_psd = np.sum(np.abs(filtered_fft)**2)\n",
        "      noise_psd = np.sum(np.abs(noise_fft)**2)\n",
        "\n",
        "      #HITUNG PAKAI LOG ==> nilai noisenya kadang ada yg negatif\n",
        "      #if noise_psd >0:\n",
        "      snr = filtered_psd/noise_psd\n",
        "      snr = 10*np.log10(snr)\n",
        "      temp.append(snr)\n",
        "            \n",
        "    snrlist.append(temp)\n",
        "\n",
        "  return snrlist"
      ],
      "execution_count": null,
      "outputs": []
    },
    {
      "cell_type": "code",
      "metadata": {
        "id": "IywF4cpnsdIS"
      },
      "source": [
        "from sklearn import preprocessing\n",
        "def getgoodSNR(snrlist,filtered_data):\n",
        "\n",
        "  filtered = filtered_data.get_data(picks='eeg')\n",
        "\n",
        "  normSNR = snrlist #preprocessing.normalize(snrlist)\n",
        "  #print(normSNR)\n",
        "\n",
        "  drop_indices = []\n",
        "  count = 0\n",
        "\n",
        "  meansnr = np.mean(snrlist, axis=1)\n",
        "  Q2 = np.quantile(meansnr,.5,axis=0)\n",
        "  \n",
        "\n",
        "  for trialSNR in normSNR:\n",
        "    #rata2 snr dari semua kanal di masing-masing trial\n",
        "    chanSNR = np.mean(trialSNR)\n",
        "  \n",
        "    if chanSNR< Q2:\n",
        "      drop_indices.append(count)\n",
        "    count+=1\n",
        "  print('count of bad trials :\\n',len(drop_indices))\n",
        "  print('bad trials are :\\n',drop_indices)\n",
        "  if drop_indices is not None:\n",
        "    goodSNRtrial = dropBadSNR(filtered_data,drop_indices)\n",
        "  else: \n",
        "    goodSNRtrial =filtered\n",
        "\n",
        "  #return goodSNRtrial"
      ],
      "execution_count": null,
      "outputs": []
    },
    {
      "cell_type": "code",
      "metadata": {
        "colab": {
          "base_uri": "https://localhost:8080/"
        },
        "id": "JW8-dHzJ_ZaX",
        "outputId": "9bcd727d-d447-4206-8bd1-58775e56e318"
      },
      "source": [
        "for raw,filtered in zip(raw_epochs,filtered_epochs):\n",
        "  snrlist = calculateSNR(raw,filtered)\n",
        "  goodtrial = getgoodSNR(snrlist,filtered)"
      ],
      "execution_count": null,
      "outputs": [
        {
          "output_type": "stream",
          "text": [
            "count of bad trials :\n",
            " 479\n",
            "bad trials are :\n",
            " [10, 15, 26, 32, 43, 46, 47, 53, 72, 80, 95, 96, 104, 105, 108, 114, 119, 123, 124, 125, 138, 147, 152, 154, 156, 158, 159, 160, 161, 162, 164, 166, 170, 171, 176, 183, 186, 189, 200, 213, 216, 218, 220, 224, 225, 226, 227, 228, 229, 234, 236, 239, 240, 245, 246, 248, 249, 250, 251, 252, 255, 257, 258, 259, 260, 262, 265, 267, 268, 271, 278, 279, 283, 286, 287, 290, 293, 295, 296, 297, 298, 299, 302, 304, 305, 306, 308, 314, 315, 316, 317, 318, 321, 323, 324, 329, 330, 331, 335, 347, 351, 352, 362, 366, 369, 372, 373, 386, 393, 395, 400, 401, 406, 414, 416, 420, 429, 430, 432, 435, 436, 437, 438, 439, 440, 441, 444, 447, 448, 451, 454, 456, 457, 466, 467, 473, 475, 476, 478, 481, 482, 484, 486, 488, 489, 492, 493, 496, 498, 500, 503, 505, 506, 507, 508, 510, 513, 515, 516, 518, 519, 520, 521, 522, 525, 526, 527, 528, 530, 532, 538, 545, 546, 553, 558, 561, 567, 569, 570, 571, 573, 577, 578, 580, 583, 586, 589, 591, 595, 597, 598, 600, 601, 603, 604, 605, 606, 607, 608, 609, 610, 611, 612, 613, 614, 616, 621, 622, 624, 625, 626, 629, 631, 633, 634, 637, 642, 644, 645, 647, 648, 650, 651, 652, 653, 654, 655, 656, 657, 658, 659, 660, 661, 662, 663, 664, 665, 666, 667, 668, 669, 671, 673, 674, 675, 676, 677, 679, 680, 681, 682, 683, 684, 685, 686, 689, 690, 691, 692, 693, 694, 695, 696, 698, 701, 703, 705, 706, 708, 709, 712, 715, 716, 717, 718, 719, 720, 721, 722, 723, 724, 725, 726, 727, 728, 729, 730, 731, 734, 735, 736, 738, 739, 740, 741, 742, 744, 745, 747, 749, 750, 752, 753, 754, 755, 756, 757, 758, 759, 760, 761, 762, 763, 764, 765, 766, 768, 770, 771, 772, 773, 774, 775, 776, 777, 778, 779, 780, 781, 782, 784, 785, 786, 787, 788, 789, 790, 791, 792, 793, 794, 797, 798, 799, 800, 801, 802, 803, 804, 805, 806, 807, 809, 810, 811, 812, 813, 814, 815, 816, 818, 819, 820, 821, 822, 823, 824, 825, 826, 829, 830, 831, 832, 833, 834, 837, 838, 839, 840, 841, 842, 843, 845, 846, 847, 848, 849, 850, 851, 852, 853, 854, 856, 859, 860, 861, 862, 863, 864, 865, 866, 867, 868, 869, 870, 871, 872, 873, 874, 875, 876, 877, 879, 880, 881, 882, 883, 884, 885, 886, 887, 888, 889, 891, 892, 893, 895, 896, 897, 898, 899, 901, 902, 903, 905, 906, 907, 908, 909, 910, 912, 913, 914, 915, 916, 917, 918, 919, 920, 921, 922, 924, 925, 927, 928, 929, 930, 931, 932, 933, 936, 937, 938, 939, 940, 941, 943, 945, 946, 947, 948, 949, 950, 951, 952, 954, 955, 957, 958]\n",
            "Dropped 479 epochs: 10, 15, 26, 32, 43, 46, 47, 53, 72, 80, 95, 96, 104, 105, 108, 114, 119, 123, 124, 125, 138, 147, 152, 154, 156, 158, 159, 160, 161, 162, 164, 166, 170, 171, 176, 183, 186, 189, 200, 213, 216, 218, 220, 224, 225, 226, 227, 228, 229, 234, 236, 239, 240, 245, 246, 248, 249, 250, 251, 252, 255, 257, 258, 259, 260, 262, 265, 267, 268, 271, 278, 279, 283, 286, 287, 290, 293, 295, 296, 297, 298, 299, 302, 304, 305, 306, 308, 314, 315, 316, 317, 318, 321, 323, 324, 329, 330, 331, 335, 347, 351, 352, 362, 366, 369, 372, 373, 386, 393, 395, 400, 401, 406, 414, 416, 420, 429, 430, 432, 435, 436, 437, 438, 439, 440, 441, 444, 447, 448, 451, 454, 456, 457, 466, 467, 473, 475, 476, 478, 481, 482, 484, 486, 488, 489, 492, 493, 496, 498, 500, 503, 505, 506, 507, 508, 510, 513, 515, 516, 518, 519, 520, 521, 522, 525, 526, 527, 528, 530, 532, 538, 545, 546, 553, 558, 561, 567, 569, 570, 571, 573, 577, 578, 580, 583, 586, 589, 591, 595, 597, 598, 600, 601, 603, 604, 605, 606, 607, 608, 609, 610, 611, 612, 613, 614, 616, 621, 622, 624, 625, 626, 629, 631, 633, 634, 637, 642, 644, 645, 647, 648, 650, 651, 652, 653, 654, 655, 656, 657, 658, 659, 660, 661, 662, 663, 664, 665, 666, 667, 668, 669, 671, 673, 674, 675, 676, 677, 679, 680, 681, 682, 683, 684, 685, 686, 689, 690, 691, 692, 693, 694, 695, 696, 698, 701, 703, 705, 706, 708, 709, 712, 715, 716, 717, 718, 719, 720, 721, 722, 723, 724, 725, 726, 727, 728, 729, 730, 731, 734, 735, 736, 738, 739, 740, 741, 742, 744, 745, 747, 749, 750, 752, 753, 754, 755, 756, 757, 758, 759, 760, 761, 762, 763, 764, 765, 766, 768, 770, 771, 772, 773, 774, 775, 776, 777, 778, 779, 780, 781, 782, 784, 785, 786, 787, 788, 789, 790, 791, 792, 793, 794, 797, 798, 799, 800, 801, 802, 803, 804, 805, 806, 807, 809, 810, 811, 812, 813, 814, 815, 816, 818, 819, 820, 821, 822, 823, 824, 825, 826, 829, 830, 831, 832, 833, 834, 837, 838, 839, 840, 841, 842, 843, 845, 846, 847, 848, 849, 850, 851, 852, 853, 854, 856, 859, 860, 861, 862, 863, 864, 865, 866, 867, 868, 869, 870, 871, 872, 873, 874, 875, 876, 877, 879, 880, 881, 882, 883, 884, 885, 886, 887, 888, 889, 891, 892, 893, 895, 896, 897, 898, 899, 901, 902, 903, 905, 906, 907, 908, 909, 910, 912, 913, 914, 915, 916, 917, 918, 919, 920, 921, 922, 924, 925, 927, 928, 929, 930, 931, 932, 933, 936, 937, 938, 939, 940, 941, 943, 945, 946, 947, 948, 949, 950, 951, 952, 954, 955, 957, 958\n",
            "count of bad trials :\n",
            " 479\n",
            "bad trials are :\n",
            " [44, 45, 46, 47, 48, 49, 73, 81, 83, 85, 89, 90, 91, 93, 95, 96, 97, 98, 100, 101, 106, 110, 111, 112, 113, 114, 115, 116, 121, 126, 133, 139, 142, 152, 153, 154, 155, 175, 179, 185, 187, 192, 193, 194, 195, 196, 197, 199, 200, 203, 205, 206, 207, 211, 212, 213, 214, 215, 216, 218, 219, 220, 221, 222, 223, 224, 225, 226, 228, 229, 230, 231, 232, 233, 234, 236, 237, 238, 240, 241, 242, 243, 244, 245, 246, 247, 249, 250, 251, 252, 253, 254, 255, 256, 257, 259, 260, 261, 262, 263, 264, 265, 266, 267, 270, 271, 272, 273, 274, 276, 277, 278, 279, 280, 282, 284, 285, 288, 290, 292, 293, 295, 296, 297, 298, 299, 300, 301, 302, 303, 304, 305, 306, 307, 308, 309, 310, 311, 312, 313, 314, 315, 316, 317, 320, 332, 334, 335, 340, 343, 344, 349, 352, 353, 354, 355, 356, 358, 362, 363, 364, 366, 369, 371, 377, 378, 379, 380, 381, 383, 384, 385, 386, 387, 388, 389, 390, 391, 392, 394, 395, 396, 398, 403, 404, 406, 407, 408, 409, 410, 411, 412, 414, 416, 417, 418, 419, 420, 422, 423, 424, 425, 426, 427, 428, 429, 430, 431, 432, 433, 434, 435, 436, 437, 439, 440, 441, 442, 443, 444, 446, 447, 448, 449, 450, 451, 453, 454, 455, 456, 457, 458, 459, 460, 461, 462, 463, 464, 468, 469, 470, 471, 472, 473, 475, 476, 479, 480, 481, 482, 484, 486, 487, 489, 490, 491, 493, 494, 496, 497, 498, 501, 502, 503, 505, 506, 507, 508, 509, 513, 514, 517, 521, 522, 523, 526, 527, 528, 529, 531, 534, 536, 538, 539, 540, 541, 542, 543, 544, 545, 548, 550, 551, 552, 553, 556, 558, 559, 562, 563, 566, 567, 568, 569, 571, 572, 575, 578, 579, 580, 581, 584, 585, 588, 591, 594, 595, 596, 600, 601, 602, 603, 604, 606, 608, 609, 613, 614, 615, 617, 618, 619, 620, 621, 622, 624, 625, 626, 627, 628, 629, 631, 632, 633, 634, 637, 638, 640, 652, 655, 659, 662, 666, 667, 668, 669, 670, 671, 672, 673, 674, 677, 678, 679, 681, 682, 683, 684, 686, 688, 689, 690, 692, 693, 694, 698, 701, 702, 703, 704, 705, 706, 707, 709, 711, 713, 715, 717, 718, 719, 720, 721, 722, 723, 724, 725, 727, 735, 744, 749, 750, 751, 752, 755, 756, 757, 760, 762, 766, 767, 772, 774, 776, 777, 778, 779, 780, 786, 790, 794, 795, 797, 801, 802, 805, 812, 813, 829, 830, 833, 835, 836, 838, 839, 841, 843, 844, 847, 849, 850, 852, 858, 859, 860, 861, 866, 867, 868, 872, 873, 874, 875, 876, 879, 880, 881, 883, 885, 886, 891, 896, 898, 917, 933, 934, 937, 945, 946, 947, 948, 949, 950, 951, 952, 953, 954, 955, 956, 957]\n",
            "Dropped 479 epochs: 44, 45, 46, 47, 48, 49, 73, 81, 83, 85, 89, 90, 91, 93, 95, 96, 97, 98, 100, 101, 106, 110, 111, 112, 113, 114, 115, 116, 121, 126, 133, 139, 142, 152, 153, 154, 155, 175, 179, 185, 187, 192, 193, 194, 195, 196, 197, 199, 200, 203, 205, 206, 207, 211, 212, 213, 214, 215, 216, 218, 219, 220, 221, 222, 223, 224, 225, 226, 228, 229, 230, 231, 232, 233, 234, 236, 237, 238, 240, 241, 242, 243, 244, 245, 246, 247, 249, 250, 251, 252, 253, 254, 255, 256, 257, 259, 260, 261, 262, 263, 264, 265, 266, 267, 270, 271, 272, 273, 274, 276, 277, 278, 279, 280, 282, 284, 285, 288, 290, 292, 293, 295, 296, 297, 298, 299, 300, 301, 302, 303, 304, 305, 306, 307, 308, 309, 310, 311, 312, 313, 314, 315, 316, 317, 320, 332, 334, 335, 340, 343, 344, 349, 352, 353, 354, 355, 356, 358, 362, 363, 364, 366, 369, 371, 377, 378, 379, 380, 381, 383, 384, 385, 386, 387, 388, 389, 390, 391, 392, 394, 395, 396, 398, 403, 404, 406, 407, 408, 409, 410, 411, 412, 414, 416, 417, 418, 419, 420, 422, 423, 424, 425, 426, 427, 428, 429, 430, 431, 432, 433, 434, 435, 436, 437, 439, 440, 441, 442, 443, 444, 446, 447, 448, 449, 450, 451, 453, 454, 455, 456, 457, 458, 459, 460, 461, 462, 463, 464, 468, 469, 470, 471, 472, 473, 475, 476, 479, 480, 481, 482, 484, 486, 487, 489, 490, 491, 493, 494, 496, 497, 498, 501, 502, 503, 505, 506, 507, 508, 509, 513, 514, 517, 521, 522, 523, 526, 527, 528, 529, 531, 534, 536, 538, 539, 540, 541, 542, 543, 544, 545, 548, 550, 551, 552, 553, 556, 558, 559, 562, 563, 566, 567, 568, 569, 571, 572, 575, 578, 579, 580, 581, 584, 585, 588, 591, 594, 595, 596, 600, 601, 602, 603, 604, 606, 608, 609, 613, 614, 615, 617, 618, 619, 620, 621, 622, 624, 625, 626, 627, 628, 629, 631, 632, 633, 634, 637, 638, 640, 652, 655, 659, 662, 666, 667, 668, 669, 670, 671, 672, 673, 674, 677, 678, 679, 681, 682, 683, 684, 686, 688, 689, 690, 692, 693, 694, 698, 701, 702, 703, 704, 705, 706, 707, 709, 711, 713, 715, 717, 718, 719, 720, 721, 722, 723, 724, 725, 727, 735, 744, 749, 750, 751, 752, 755, 756, 757, 760, 762, 766, 767, 772, 774, 776, 777, 778, 779, 780, 786, 790, 794, 795, 797, 801, 802, 805, 812, 813, 829, 830, 833, 835, 836, 838, 839, 841, 843, 844, 847, 849, 850, 852, 858, 859, 860, 861, 866, 867, 868, 872, 873, 874, 875, 876, 879, 880, 881, 883, 885, 886, 891, 896, 898, 917, 933, 934, 937, 945, 946, 947, 948, 949, 950, 951, 952, 953, 954, 955, 956, 957\n",
            "count of bad trials :\n",
            " 478\n",
            "bad trials are :\n",
            " [1, 3, 4, 11, 38, 41, 46, 111, 113, 116, 117, 118, 119, 122, 123, 126, 127, 128, 129, 130, 131, 132, 134, 136, 137, 139, 140, 141, 142, 143, 144, 145, 150, 151, 152, 153, 154, 155, 156, 157, 159, 161, 162, 163, 164, 165, 166, 167, 168, 170, 173, 175, 177, 179, 180, 183, 186, 187, 188, 191, 192, 194, 195, 196, 197, 198, 199, 203, 205, 206, 207, 208, 209, 210, 211, 212, 213, 214, 215, 216, 220, 221, 222, 223, 224, 225, 226, 228, 230, 231, 233, 234, 235, 236, 237, 239, 240, 241, 242, 243, 244, 245, 246, 247, 249, 250, 251, 252, 254, 255, 261, 262, 263, 265, 269, 270, 271, 272, 273, 276, 277, 278, 279, 280, 281, 282, 283, 284, 285, 286, 287, 288, 289, 290, 291, 292, 293, 294, 295, 296, 298, 299, 300, 301, 303, 304, 305, 307, 308, 309, 311, 313, 314, 315, 316, 350, 367, 382, 387, 393, 400, 404, 409, 410, 416, 419, 420, 421, 422, 424, 427, 428, 429, 431, 438, 442, 443, 444, 455, 456, 458, 459, 460, 462, 464, 465, 471, 477, 478, 480, 481, 482, 483, 484, 485, 487, 488, 492, 494, 495, 496, 497, 498, 502, 503, 504, 505, 506, 507, 508, 509, 510, 513, 514, 515, 516, 517, 518, 519, 520, 522, 524, 526, 527, 529, 532, 533, 534, 535, 536, 537, 538, 539, 540, 541, 542, 543, 545, 546, 547, 549, 550, 551, 553, 554, 555, 556, 557, 558, 559, 560, 561, 562, 563, 564, 565, 568, 569, 570, 571, 572, 573, 574, 575, 576, 577, 578, 580, 581, 582, 583, 584, 586, 587, 588, 589, 590, 591, 592, 593, 594, 595, 596, 597, 598, 600, 601, 602, 603, 605, 606, 607, 608, 610, 611, 612, 613, 614, 615, 616, 617, 618, 620, 621, 624, 627, 628, 631, 633, 635, 636, 686, 687, 694, 696, 698, 701, 702, 703, 706, 711, 715, 720, 721, 729, 730, 732, 733, 734, 737, 738, 739, 740, 742, 743, 745, 747, 748, 749, 752, 754, 755, 757, 760, 761, 762, 764, 766, 768, 771, 773, 775, 777, 778, 779, 785, 787, 788, 789, 792, 793, 794, 797, 798, 802, 803, 805, 807, 809, 810, 813, 815, 817, 818, 819, 820, 822, 823, 824, 827, 833, 834, 836, 838, 839, 841, 842, 846, 847, 848, 849, 851, 852, 854, 856, 858, 860, 862, 863, 864, 865, 869, 872, 874, 875, 877, 878, 879, 882, 883, 884, 885, 886, 887, 888, 890, 891, 892, 893, 894, 895, 897, 898, 899, 900, 901, 902, 903, 904, 905, 906, 907, 908, 909, 910, 911, 912, 913, 914, 915, 916, 917, 918, 919, 920, 921, 922, 923, 924, 925, 926, 927, 928, 929, 930, 931, 932, 933, 934, 937, 938, 940, 941, 942, 943, 944, 945, 946, 947, 948, 949, 950, 951, 952, 953, 954, 955, 956]\n",
            "Dropped 478 epochs: 1, 3, 4, 11, 38, 41, 46, 111, 113, 116, 117, 118, 119, 122, 123, 126, 127, 128, 129, 130, 131, 132, 134, 136, 137, 139, 140, 141, 142, 143, 144, 145, 150, 151, 152, 153, 154, 155, 156, 157, 159, 161, 162, 163, 164, 165, 166, 167, 168, 170, 173, 175, 177, 179, 180, 183, 186, 187, 188, 191, 192, 194, 195, 196, 197, 198, 199, 203, 205, 206, 207, 208, 209, 210, 211, 212, 213, 214, 215, 216, 220, 221, 222, 223, 224, 225, 226, 228, 230, 231, 233, 234, 235, 236, 237, 239, 240, 241, 242, 243, 244, 245, 246, 247, 249, 250, 251, 252, 254, 255, 261, 262, 263, 265, 269, 270, 271, 272, 273, 276, 277, 278, 279, 280, 281, 282, 283, 284, 285, 286, 287, 288, 289, 290, 291, 292, 293, 294, 295, 296, 298, 299, 300, 301, 303, 304, 305, 307, 308, 309, 311, 313, 314, 315, 316, 350, 367, 382, 387, 393, 400, 404, 409, 410, 416, 419, 420, 421, 422, 424, 427, 428, 429, 431, 438, 442, 443, 444, 455, 456, 458, 459, 460, 462, 464, 465, 471, 477, 478, 480, 481, 482, 483, 484, 485, 487, 488, 492, 494, 495, 496, 497, 498, 502, 503, 504, 505, 506, 507, 508, 509, 510, 513, 514, 515, 516, 517, 518, 519, 520, 522, 524, 526, 527, 529, 532, 533, 534, 535, 536, 537, 538, 539, 540, 541, 542, 543, 545, 546, 547, 549, 550, 551, 553, 554, 555, 556, 557, 558, 559, 560, 561, 562, 563, 564, 565, 568, 569, 570, 571, 572, 573, 574, 575, 576, 577, 578, 580, 581, 582, 583, 584, 586, 587, 588, 589, 590, 591, 592, 593, 594, 595, 596, 597, 598, 600, 601, 602, 603, 605, 606, 607, 608, 610, 611, 612, 613, 614, 615, 616, 617, 618, 620, 621, 624, 627, 628, 631, 633, 635, 636, 686, 687, 694, 696, 698, 701, 702, 703, 706, 711, 715, 720, 721, 729, 730, 732, 733, 734, 737, 738, 739, 740, 742, 743, 745, 747, 748, 749, 752, 754, 755, 757, 760, 761, 762, 764, 766, 768, 771, 773, 775, 777, 778, 779, 785, 787, 788, 789, 792, 793, 794, 797, 798, 802, 803, 805, 807, 809, 810, 813, 815, 817, 818, 819, 820, 822, 823, 824, 827, 833, 834, 836, 838, 839, 841, 842, 846, 847, 848, 849, 851, 852, 854, 856, 858, 860, 862, 863, 864, 865, 869, 872, 874, 875, 877, 878, 879, 882, 883, 884, 885, 886, 887, 888, 890, 891, 892, 893, 894, 895, 897, 898, 899, 900, 901, 902, 903, 904, 905, 906, 907, 908, 909, 910, 911, 912, 913, 914, 915, 916, 917, 918, 919, 920, 921, 922, 923, 924, 925, 926, 927, 928, 929, 930, 931, 932, 933, 934, 937, 938, 940, 941, 942, 943, 944, 945, 946, 947, 948, 949, 950, 951, 952, 953, 954, 955, 956\n",
            "count of bad trials :\n",
            " 479\n",
            "bad trials are :\n",
            " [0, 2, 3, 4, 6, 7, 8, 12, 13, 15, 16, 18, 19, 21, 22, 24, 25, 26, 28, 29, 31, 32, 33, 34, 35, 36, 37, 38, 39, 40, 41, 42, 46, 47, 48, 49, 50, 51, 52, 53, 57, 59, 62, 63, 64, 66, 68, 69, 70, 72, 75, 76, 78, 79, 80, 88, 90, 91, 94, 96, 103, 104, 106, 107, 108, 109, 111, 113, 115, 116, 117, 118, 120, 121, 123, 124, 126, 127, 128, 129, 130, 133, 134, 137, 138, 143, 146, 147, 149, 151, 152, 153, 156, 157, 158, 159, 160, 161, 163, 165, 166, 173, 176, 177, 181, 182, 185, 187, 191, 195, 197, 198, 203, 205, 209, 210, 213, 214, 216, 220, 225, 227, 230, 233, 234, 236, 238, 239, 241, 243, 244, 246, 247, 255, 257, 259, 262, 264, 265, 269, 271, 274, 276, 277, 281, 289, 292, 294, 296, 297, 298, 299, 300, 302, 303, 304, 305, 308, 309, 310, 312, 313, 314, 317, 319, 321, 322, 327, 335, 337, 339, 340, 343, 346, 347, 349, 350, 352, 358, 359, 361, 362, 364, 373, 377, 381, 383, 384, 387, 392, 393, 396, 397, 402, 410, 412, 413, 417, 420, 422, 423, 424, 425, 426, 427, 429, 430, 432, 434, 436, 437, 439, 440, 442, 444, 446, 447, 449, 450, 451, 454, 455, 458, 459, 464, 465, 468, 469, 470, 473, 474, 476, 480, 481, 482, 483, 485, 486, 487, 488, 489, 494, 497, 498, 499, 500, 501, 502, 503, 504, 506, 507, 508, 509, 510, 512, 514, 515, 516, 517, 518, 519, 520, 521, 522, 523, 526, 527, 528, 529, 530, 531, 532, 533, 534, 535, 536, 537, 538, 539, 541, 543, 544, 545, 546, 547, 550, 551, 552, 553, 554, 555, 556, 558, 559, 561, 562, 563, 564, 565, 567, 569, 570, 571, 572, 574, 575, 577, 578, 583, 586, 588, 589, 591, 592, 594, 595, 596, 597, 598, 599, 600, 601, 602, 604, 605, 606, 607, 609, 610, 611, 612, 613, 615, 616, 617, 619, 620, 621, 622, 623, 624, 625, 626, 627, 629, 630, 632, 633, 634, 635, 636, 637, 648, 655, 667, 681, 699, 707, 719, 736, 743, 744, 748, 751, 753, 754, 755, 760, 762, 764, 771, 773, 776, 786, 791, 795, 798, 800, 801, 802, 804, 811, 816, 818, 819, 820, 821, 822, 823, 824, 826, 827, 828, 829, 830, 832, 833, 835, 836, 838, 839, 840, 841, 842, 843, 846, 847, 849, 850, 851, 852, 854, 855, 856, 857, 861, 863, 864, 866, 869, 870, 871, 873, 874, 875, 876, 877, 878, 879, 880, 881, 883, 888, 889, 890, 891, 892, 894, 896, 898, 900, 901, 905, 906, 909, 910, 911, 912, 913, 914, 915, 917, 918, 922, 923, 924, 925, 926, 927, 931, 932, 933, 934, 936, 938, 940, 941, 942, 944, 945, 946, 947, 950, 952, 953, 955, 956, 957]\n",
            "Dropped 479 epochs: 0, 2, 3, 4, 6, 7, 8, 12, 13, 15, 16, 18, 19, 21, 22, 24, 25, 26, 28, 29, 31, 32, 33, 34, 35, 36, 37, 38, 39, 40, 41, 42, 46, 47, 48, 49, 50, 51, 52, 53, 57, 59, 62, 63, 64, 66, 68, 69, 70, 72, 75, 76, 78, 79, 80, 88, 90, 91, 94, 96, 103, 104, 106, 107, 108, 109, 111, 113, 115, 116, 117, 118, 120, 121, 123, 124, 126, 127, 128, 129, 130, 133, 134, 137, 138, 143, 146, 147, 149, 151, 152, 153, 156, 157, 158, 159, 160, 161, 163, 165, 166, 173, 176, 177, 181, 182, 185, 187, 191, 195, 197, 198, 203, 205, 209, 210, 213, 214, 216, 220, 225, 227, 230, 233, 234, 236, 238, 239, 241, 243, 244, 246, 247, 255, 257, 259, 262, 264, 265, 269, 271, 274, 276, 277, 281, 289, 292, 294, 296, 297, 298, 299, 300, 302, 303, 304, 305, 308, 309, 310, 312, 313, 314, 317, 319, 321, 322, 327, 335, 337, 339, 340, 343, 346, 347, 349, 350, 352, 358, 359, 361, 362, 364, 373, 377, 381, 383, 384, 387, 392, 393, 396, 397, 402, 410, 412, 413, 417, 420, 422, 423, 424, 425, 426, 427, 429, 430, 432, 434, 436, 437, 439, 440, 442, 444, 446, 447, 449, 450, 451, 454, 455, 458, 459, 464, 465, 468, 469, 470, 473, 474, 476, 480, 481, 482, 483, 485, 486, 487, 488, 489, 494, 497, 498, 499, 500, 501, 502, 503, 504, 506, 507, 508, 509, 510, 512, 514, 515, 516, 517, 518, 519, 520, 521, 522, 523, 526, 527, 528, 529, 530, 531, 532, 533, 534, 535, 536, 537, 538, 539, 541, 543, 544, 545, 546, 547, 550, 551, 552, 553, 554, 555, 556, 558, 559, 561, 562, 563, 564, 565, 567, 569, 570, 571, 572, 574, 575, 577, 578, 583, 586, 588, 589, 591, 592, 594, 595, 596, 597, 598, 599, 600, 601, 602, 604, 605, 606, 607, 609, 610, 611, 612, 613, 615, 616, 617, 619, 620, 621, 622, 623, 624, 625, 626, 627, 629, 630, 632, 633, 634, 635, 636, 637, 648, 655, 667, 681, 699, 707, 719, 736, 743, 744, 748, 751, 753, 754, 755, 760, 762, 764, 771, 773, 776, 786, 791, 795, 798, 800, 801, 802, 804, 811, 816, 818, 819, 820, 821, 822, 823, 824, 826, 827, 828, 829, 830, 832, 833, 835, 836, 838, 839, 840, 841, 842, 843, 846, 847, 849, 850, 851, 852, 854, 855, 856, 857, 861, 863, 864, 866, 869, 870, 871, 873, 874, 875, 876, 877, 878, 879, 880, 881, 883, 888, 889, 890, 891, 892, 894, 896, 898, 900, 901, 905, 906, 909, 910, 911, 912, 913, 914, 915, 917, 918, 922, 923, 924, 925, 926, 927, 931, 932, 933, 934, 936, 938, 940, 941, 942, 944, 945, 946, 947, 950, 952, 953, 955, 956, 957\n",
            "count of bad trials :\n",
            " 479\n",
            "bad trials are :\n",
            " [0, 1, 2, 3, 4, 5, 6, 7, 8, 14, 15, 16, 17, 18, 19, 20, 21, 22, 23, 24, 25, 26, 27, 28, 29, 30, 31, 32, 33, 34, 35, 36, 37, 38, 44, 45, 47, 50, 58, 95, 99, 100, 101, 102, 141, 142, 147, 148, 149, 150, 151, 152, 153, 154, 155, 156, 157, 158, 159, 160, 161, 162, 163, 164, 165, 166, 167, 168, 169, 170, 171, 172, 173, 174, 175, 176, 177, 178, 179, 180, 181, 182, 183, 184, 185, 186, 187, 188, 189, 190, 191, 199, 200, 201, 202, 203, 204, 205, 206, 207, 208, 209, 210, 211, 212, 213, 214, 215, 216, 217, 218, 219, 220, 221, 222, 223, 224, 225, 232, 233, 234, 237, 238, 239, 240, 241, 242, 243, 244, 245, 246, 247, 248, 249, 250, 251, 252, 253, 254, 255, 256, 257, 258, 259, 260, 266, 276, 277, 278, 279, 280, 281, 282, 286, 290, 291, 292, 293, 295, 297, 299, 300, 302, 305, 306, 308, 309, 310, 311, 312, 313, 316, 318, 319, 320, 321, 322, 323, 324, 325, 326, 327, 328, 329, 330, 331, 332, 333, 335, 336, 337, 344, 345, 346, 347, 348, 349, 350, 351, 352, 353, 354, 355, 356, 357, 358, 359, 360, 361, 362, 381, 382, 383, 384, 385, 386, 387, 388, 389, 390, 391, 392, 393, 394, 395, 396, 397, 398, 399, 400, 401, 402, 403, 404, 405, 406, 407, 408, 409, 410, 411, 412, 413, 414, 415, 416, 417, 418, 419, 420, 421, 422, 423, 424, 425, 426, 427, 428, 441, 442, 498, 499, 500, 501, 502, 503, 504, 505, 506, 507, 508, 509, 510, 511, 512, 513, 514, 515, 516, 517, 518, 519, 520, 521, 522, 523, 524, 525, 526, 527, 528, 529, 530, 531, 532, 533, 534, 535, 536, 537, 538, 539, 540, 541, 544, 551, 554, 555, 556, 557, 559, 561, 562, 564, 566, 573, 578, 579, 580, 581, 582, 583, 584, 585, 586, 587, 588, 589, 590, 591, 592, 593, 594, 595, 596, 597, 598, 599, 600, 601, 602, 603, 604, 605, 606, 607, 608, 609, 610, 611, 612, 613, 614, 615, 616, 617, 618, 619, 620, 622, 631, 637, 638, 639, 640, 641, 642, 646, 649, 654, 670, 674, 675, 676, 677, 678, 679, 680, 681, 682, 683, 684, 685, 686, 687, 688, 689, 690, 691, 692, 693, 712, 713, 714, 715, 716, 717, 718, 719, 720, 721, 722, 723, 724, 725, 726, 727, 728, 729, 730, 731, 732, 733, 734, 735, 736, 737, 738, 739, 740, 741, 742, 743, 744, 745, 746, 747, 749, 751, 752, 766, 767, 768, 770, 771, 827, 828, 829, 830, 831, 832, 833, 834, 835, 836, 837, 838, 839, 840, 841, 842, 844, 852, 855, 856, 857, 858, 859, 862, 867, 902, 903, 904, 905, 906, 907, 908, 909, 910, 911, 912, 913, 914, 915, 916, 917, 919, 922, 954]\n",
            "Dropped 479 epochs: 0, 1, 2, 3, 4, 5, 6, 7, 8, 14, 15, 16, 17, 18, 19, 20, 21, 22, 23, 24, 25, 26, 27, 28, 29, 30, 31, 32, 33, 34, 35, 36, 37, 38, 44, 45, 47, 50, 58, 95, 99, 100, 101, 102, 141, 142, 147, 148, 149, 150, 151, 152, 153, 154, 155, 156, 157, 158, 159, 160, 161, 162, 163, 164, 165, 166, 167, 168, 169, 170, 171, 172, 173, 174, 175, 176, 177, 178, 179, 180, 181, 182, 183, 184, 185, 186, 187, 188, 189, 190, 191, 199, 200, 201, 202, 203, 204, 205, 206, 207, 208, 209, 210, 211, 212, 213, 214, 215, 216, 217, 218, 219, 220, 221, 222, 223, 224, 225, 232, 233, 234, 237, 238, 239, 240, 241, 242, 243, 244, 245, 246, 247, 248, 249, 250, 251, 252, 253, 254, 255, 256, 257, 258, 259, 260, 266, 276, 277, 278, 279, 280, 281, 282, 286, 290, 291, 292, 293, 295, 297, 299, 300, 302, 305, 306, 308, 309, 310, 311, 312, 313, 316, 318, 319, 320, 321, 322, 323, 324, 325, 326, 327, 328, 329, 330, 331, 332, 333, 335, 336, 337, 344, 345, 346, 347, 348, 349, 350, 351, 352, 353, 354, 355, 356, 357, 358, 359, 360, 361, 362, 381, 382, 383, 384, 385, 386, 387, 388, 389, 390, 391, 392, 393, 394, 395, 396, 397, 398, 399, 400, 401, 402, 403, 404, 405, 406, 407, 408, 409, 410, 411, 412, 413, 414, 415, 416, 417, 418, 419, 420, 421, 422, 423, 424, 425, 426, 427, 428, 441, 442, 498, 499, 500, 501, 502, 503, 504, 505, 506, 507, 508, 509, 510, 511, 512, 513, 514, 515, 516, 517, 518, 519, 520, 521, 522, 523, 524, 525, 526, 527, 528, 529, 530, 531, 532, 533, 534, 535, 536, 537, 538, 539, 540, 541, 544, 551, 554, 555, 556, 557, 559, 561, 562, 564, 566, 573, 578, 579, 580, 581, 582, 583, 584, 585, 586, 587, 588, 589, 590, 591, 592, 593, 594, 595, 596, 597, 598, 599, 600, 601, 602, 603, 604, 605, 606, 607, 608, 609, 610, 611, 612, 613, 614, 615, 616, 617, 618, 619, 620, 622, 631, 637, 638, 639, 640, 641, 642, 646, 649, 654, 670, 674, 675, 676, 677, 678, 679, 680, 681, 682, 683, 684, 685, 686, 687, 688, 689, 690, 691, 692, 693, 712, 713, 714, 715, 716, 717, 718, 719, 720, 721, 722, 723, 724, 725, 726, 727, 728, 729, 730, 731, 732, 733, 734, 735, 736, 737, 738, 739, 740, 741, 742, 743, 744, 745, 746, 747, 749, 751, 752, 766, 767, 768, 770, 771, 827, 828, 829, 830, 831, 832, 833, 834, 835, 836, 837, 838, 839, 840, 841, 842, 844, 852, 855, 856, 857, 858, 859, 862, 867, 902, 903, 904, 905, 906, 907, 908, 909, 910, 911, 912, 913, 914, 915, 916, 917, 919, 922, 954\n",
            "count of bad trials :\n",
            " 479\n",
            "bad trials are :\n",
            " [0, 1, 3, 4, 7, 8, 21, 26, 34, 36, 38, 42, 44, 47, 49, 52, 55, 56, 57, 60, 61, 62, 64, 66, 67, 69, 70, 72, 73, 74, 75, 76, 77, 79, 80, 82, 83, 85, 86, 87, 88, 89, 91, 92, 93, 94, 96, 97, 98, 99, 100, 101, 103, 105, 107, 108, 110, 111, 113, 115, 119, 120, 121, 122, 123, 124, 126, 128, 129, 130, 131, 133, 137, 138, 141, 142, 143, 146, 148, 150, 151, 152, 154, 155, 157, 158, 159, 160, 163, 165, 168, 170, 173, 176, 180, 182, 183, 189, 205, 206, 208, 212, 219, 220, 226, 230, 236, 239, 240, 241, 244, 247, 248, 249, 250, 254, 255, 261, 263, 267, 269, 270, 271, 276, 277, 280, 281, 283, 284, 285, 290, 300, 302, 308, 311, 314, 315, 318, 319, 338, 352, 355, 363, 367, 368, 388, 391, 399, 403, 406, 407, 433, 434, 436, 437, 438, 439, 440, 441, 442, 445, 451, 452, 461, 466, 467, 468, 469, 470, 471, 472, 473, 476, 477, 488, 489, 490, 499, 509, 510, 516, 521, 522, 524, 525, 527, 528, 529, 533, 534, 538, 544, 550, 551, 552, 553, 557, 558, 562, 565, 567, 569, 570, 571, 572, 574, 575, 576, 578, 579, 580, 581, 584, 585, 586, 590, 591, 593, 595, 596, 598, 600, 602, 605, 606, 607, 608, 612, 613, 618, 620, 623, 625, 627, 629, 630, 631, 633, 634, 636, 637, 638, 639, 640, 641, 642, 645, 656, 659, 660, 662, 664, 667, 669, 670, 671, 672, 673, 674, 675, 677, 678, 684, 685, 686, 689, 693, 694, 696, 697, 700, 702, 703, 707, 708, 709, 710, 714, 723, 726, 728, 729, 732, 733, 734, 735, 736, 737, 738, 739, 740, 741, 743, 744, 745, 746, 747, 748, 750, 751, 752, 753, 754, 755, 756, 757, 758, 759, 760, 761, 762, 763, 764, 765, 766, 767, 768, 769, 770, 771, 772, 773, 774, 775, 776, 777, 778, 779, 780, 781, 782, 783, 784, 785, 788, 789, 790, 791, 792, 793, 794, 795, 796, 797, 798, 799, 800, 801, 802, 803, 804, 805, 806, 807, 808, 809, 810, 811, 812, 813, 814, 815, 816, 817, 818, 819, 820, 821, 822, 823, 824, 825, 826, 827, 828, 829, 830, 831, 833, 834, 835, 836, 837, 838, 839, 840, 841, 842, 843, 844, 845, 846, 847, 848, 849, 850, 851, 852, 853, 854, 855, 856, 857, 858, 859, 860, 861, 862, 863, 864, 865, 866, 867, 868, 869, 870, 871, 872, 873, 874, 875, 876, 877, 878, 879, 880, 881, 882, 883, 884, 885, 886, 887, 888, 889, 890, 891, 892, 893, 894, 895, 897, 898, 899, 901, 902, 903, 904, 905, 906, 907, 908, 909, 910, 911, 912, 913, 914, 917, 920, 921, 922, 925, 931, 932, 936, 937, 938, 941, 943, 945, 948, 950, 952, 953, 954, 955, 956, 957]\n",
            "Dropped 479 epochs: 0, 1, 3, 4, 7, 8, 21, 26, 34, 36, 38, 42, 44, 47, 49, 52, 55, 56, 57, 60, 61, 62, 64, 66, 67, 69, 70, 72, 73, 74, 75, 76, 77, 79, 80, 82, 83, 85, 86, 87, 88, 89, 91, 92, 93, 94, 96, 97, 98, 99, 100, 101, 103, 105, 107, 108, 110, 111, 113, 115, 119, 120, 121, 122, 123, 124, 126, 128, 129, 130, 131, 133, 137, 138, 141, 142, 143, 146, 148, 150, 151, 152, 154, 155, 157, 158, 159, 160, 163, 165, 168, 170, 173, 176, 180, 182, 183, 189, 205, 206, 208, 212, 219, 220, 226, 230, 236, 239, 240, 241, 244, 247, 248, 249, 250, 254, 255, 261, 263, 267, 269, 270, 271, 276, 277, 280, 281, 283, 284, 285, 290, 300, 302, 308, 311, 314, 315, 318, 319, 338, 352, 355, 363, 367, 368, 388, 391, 399, 403, 406, 407, 433, 434, 436, 437, 438, 439, 440, 441, 442, 445, 451, 452, 461, 466, 467, 468, 469, 470, 471, 472, 473, 476, 477, 488, 489, 490, 499, 509, 510, 516, 521, 522, 524, 525, 527, 528, 529, 533, 534, 538, 544, 550, 551, 552, 553, 557, 558, 562, 565, 567, 569, 570, 571, 572, 574, 575, 576, 578, 579, 580, 581, 584, 585, 586, 590, 591, 593, 595, 596, 598, 600, 602, 605, 606, 607, 608, 612, 613, 618, 620, 623, 625, 627, 629, 630, 631, 633, 634, 636, 637, 638, 639, 640, 641, 642, 645, 656, 659, 660, 662, 664, 667, 669, 670, 671, 672, 673, 674, 675, 677, 678, 684, 685, 686, 689, 693, 694, 696, 697, 700, 702, 703, 707, 708, 709, 710, 714, 723, 726, 728, 729, 732, 733, 734, 735, 736, 737, 738, 739, 740, 741, 743, 744, 745, 746, 747, 748, 750, 751, 752, 753, 754, 755, 756, 757, 758, 759, 760, 761, 762, 763, 764, 765, 766, 767, 768, 769, 770, 771, 772, 773, 774, 775, 776, 777, 778, 779, 780, 781, 782, 783, 784, 785, 788, 789, 790, 791, 792, 793, 794, 795, 796, 797, 798, 799, 800, 801, 802, 803, 804, 805, 806, 807, 808, 809, 810, 811, 812, 813, 814, 815, 816, 817, 818, 819, 820, 821, 822, 823, 824, 825, 826, 827, 828, 829, 830, 831, 833, 834, 835, 836, 837, 838, 839, 840, 841, 842, 843, 844, 845, 846, 847, 848, 849, 850, 851, 852, 853, 854, 855, 856, 857, 858, 859, 860, 861, 862, 863, 864, 865, 866, 867, 868, 869, 870, 871, 872, 873, 874, 875, 876, 877, 878, 879, 880, 881, 882, 883, 884, 885, 886, 887, 888, 889, 890, 891, 892, 893, 894, 895, 897, 898, 899, 901, 902, 903, 904, 905, 906, 907, 908, 909, 910, 911, 912, 913, 914, 917, 920, 921, 922, 925, 931, 932, 936, 937, 938, 941, 943, 945, 948, 950, 952, 953, 954, 955, 956, 957\n"
          ],
          "name": "stdout"
        }
      ]
    },
    {
      "cell_type": "code",
      "metadata": {
        "colab": {
          "base_uri": "https://localhost:8080/"
        },
        "id": "JKhsvFT_ezCI",
        "outputId": "24b20035-f8a2-4f23-ecd8-463820ea29be"
      },
      "source": [
        "for dataset in filtered_epochs: \n",
        "  print('thumb : ',len(dataset['thumb'].get_data(picks='eeg')))\n",
        "  print('index : ',len(dataset['index'].get_data(picks='eeg')))\n",
        "  print('middle : ',len(dataset['middle'].get_data(picks='eeg')))\n",
        "  print('ring : ',len(dataset['ring'].get_data(picks='eeg')))\n",
        "  print('pinky : ',len(dataset['pinky'].get_data(picks='eeg')))\n",
        "  print('\\n')\n"
      ],
      "execution_count": null,
      "outputs": [
        {
          "output_type": "stream",
          "text": [
            "thumb :  89\n",
            "index :  87\n",
            "middle :  98\n",
            "ring :  115\n",
            "pinky :  91\n",
            "\n",
            "\n",
            "thumb :  107\n",
            "index :  83\n",
            "middle :  97\n",
            "ring :  90\n",
            "pinky :  102\n",
            "\n",
            "\n",
            "thumb :  105\n",
            "index :  80\n",
            "middle :  92\n",
            "ring :  99\n",
            "pinky :  103\n",
            "\n",
            "\n",
            "thumb :  83\n",
            "index :  76\n",
            "middle :  98\n",
            "ring :  121\n",
            "pinky :  102\n",
            "\n",
            "\n",
            "thumb :  71\n",
            "index :  92\n",
            "middle :  112\n",
            "ring :  109\n",
            "pinky :  95\n",
            "\n",
            "\n",
            "thumb :  104\n",
            "index :  94\n",
            "middle :  104\n",
            "ring :  83\n",
            "pinky :  94\n",
            "\n",
            "\n"
          ],
          "name": "stdout"
        }
      ]
    },
    {
      "cell_type": "code",
      "metadata": {
        "colab": {
          "base_uri": "https://localhost:8080/"
        },
        "id": "fH97EIZ8I9KE",
        "outputId": "277cc36f-5685-43be-bfed-46e556417d5e"
      },
      "source": [
        "print(len(snrlist[0]))"
      ],
      "execution_count": null,
      "outputs": [
        {
          "output_type": "stream",
          "text": [
            "19\n"
          ],
          "name": "stdout"
        }
      ]
    },
    {
      "cell_type": "code",
      "metadata": {
        "colab": {
          "base_uri": "https://localhost:8080/"
        },
        "id": "owP7vveoPPhv",
        "outputId": "0989805c-d2d0-4f21-f60a-79cdff4fdba9"
      },
      "source": [
        "a=np.array(snrlist)\n",
        "print(a.shape)"
      ],
      "execution_count": null,
      "outputs": [
        {
          "output_type": "stream",
          "text": [
            "(958, 19)\n"
          ],
          "name": "stdout"
        }
      ]
    },
    {
      "cell_type": "code",
      "metadata": {
        "colab": {
          "base_uri": "https://localhost:8080/"
        },
        "id": "0xV_h1aWP932",
        "outputId": "0bef7a91-9885-4932-e65a-bf56fc838b44"
      },
      "source": [
        "nb=np.mean(snrlist,axis=1)\n",
        "print(nb[0])"
      ],
      "execution_count": null,
      "outputs": [
        {
          "output_type": "stream",
          "text": [
            "21.960759915955396\n"
          ],
          "name": "stdout"
        }
      ]
    },
    {
      "cell_type": "markdown",
      "metadata": {
        "id": "amGLYvPfI65t"
      },
      "source": [
        "#Drop Bad SNR (SNR using scipy.stats.signaltonoise)"
      ]
    },
    {
      "cell_type": "code",
      "metadata": {
        "id": "CIeeCnhTKiaV"
      },
      "source": [
        "def statsSNR (a, axis=0, ddof=0):\n",
        "    a = np.asanyarray(a)\n",
        "    m = a.mean(axis)\n",
        "    sd = a.std(axis=axis, ddof=ddof)\n",
        "    return np.where(sd == 0, 0, m/sd)"
      ],
      "execution_count": null,
      "outputs": []
    },
    {
      "cell_type": "code",
      "metadata": {
        "id": "MJJ5LEiuJBIH"
      },
      "source": [
        "from sklearn import preprocessing\n",
        "def getgoodSNR2(raw,filtered):\n",
        "\n",
        "  drop_indices = []\n",
        "  count = 0\n",
        "  \n",
        "  #Q2 = np.quantile(statsSNR(np.abs(trialSNR),axis=1),.5,axis=0)\n",
        "\n",
        "  for trialSNR in raw:\n",
        "    snrlist = np.mean(statsSNR(trialSNR,axis=1))\n",
        "    if snrlist<0:\n",
        "      drop_indices.append(count)\n",
        "    count+=1\n",
        "    #print('snrlist : \\n',snrlist)\n",
        "    #print('stddev : \\n', np.std(statsSNR(np.abs(trialSNR),axis=1)))\n",
        "  print('bad trials are :\\n',drop_indices)\n",
        "  if drop_indices is not None:\n",
        "    goodSNRtrial = dropBadSNR(filtered,drop_indices)\n",
        "  else: \n",
        "    goodSNRtrial =filtered\n",
        "\n",
        "  #return goodSNRtrial"
      ],
      "execution_count": null,
      "outputs": []
    },
    {
      "cell_type": "code",
      "metadata": {
        "colab": {
          "base_uri": "https://localhost:8080/"
        },
        "id": "GYn0aqCpJyf2",
        "outputId": "388fe06d-b4af-47bf-dc60-5d6a42801a75"
      },
      "source": [
        "for raw,filtered in zip(raw_epochs,filtered_epochs):\n",
        "  getgoodSNR2(raw,filtered)"
      ],
      "execution_count": null,
      "outputs": [
        {
          "output_type": "stream",
          "text": [
            "bad trials are :\n",
            " [2, 4, 5, 6, 7, 10, 13, 16, 20, 21, 24, 25, 27, 28, 29, 32, 33, 34, 35, 36, 37, 42, 49, 51, 54, 55, 56, 58, 62, 63, 65, 66, 68, 71, 72, 76, 77, 78, 79, 80, 83, 84, 85, 88, 91, 93, 94, 101, 102, 104, 106, 108, 109, 110, 112, 113, 115, 116, 117, 118, 119, 120, 126, 127, 129, 130, 131, 132, 134, 136, 137, 138, 140, 144, 145, 146, 147, 148, 149, 154, 156, 157, 159, 160, 161, 162, 163, 164, 168, 169, 171, 172, 175, 176, 177, 178, 179, 181, 182, 183, 184, 185, 188, 189, 192, 193, 195, 197, 199, 200, 202, 204, 205, 207, 208, 209, 210, 212, 215, 216, 217, 218, 219, 221, 222, 223, 226, 227, 231, 232, 233, 234, 235, 239, 241, 242, 243, 244, 247, 248, 250, 251, 254, 255, 257, 258, 259, 265, 270, 274, 275, 277, 285, 286, 287, 288, 293, 297, 298, 300, 301, 302, 303, 305, 306, 312, 313, 314, 316, 318, 320, 321, 322, 324, 325, 326, 327, 329, 333, 334, 335, 336, 337, 340, 341, 342, 343, 344, 346, 347, 350, 352, 354, 355, 357, 358, 360, 361, 362, 363, 364, 366, 367, 368, 371, 372, 373, 376, 377, 384, 386, 388, 389, 392, 393, 394, 396, 397, 400, 401, 402, 404, 405, 408, 409, 410, 412, 413, 414, 415, 416, 418, 419, 420, 421, 422, 424, 425, 427, 430, 431, 433, 434, 435, 436, 437, 438, 439, 440, 441, 442, 445, 446, 448, 449, 450, 451, 453, 456, 458, 459, 462, 463, 464, 465, 466, 467, 469, 470, 471, 472, 473, 474, 476, 481, 482, 484, 485, 486, 488, 489, 491, 492, 494, 499, 500, 504, 506, 508, 509, 510, 511, 512, 513, 515, 520, 523, 524, 526, 527, 529, 533, 535, 537, 540, 543, 547, 548, 550, 551, 553, 556, 558, 559, 561, 562, 565, 570, 571, 573, 574, 575, 577, 579, 580, 581, 583, 584, 585, 587, 588, 590, 591, 593, 594, 597, 603, 606, 608, 610, 611, 613, 616, 617, 618, 622, 623, 625, 627, 629, 633, 635, 637, 638, 642, 643, 646, 648, 652, 654, 656, 657, 659, 660, 661, 664, 666, 674, 675, 678, 679, 680, 682, 683, 684, 687, 690, 692, 693, 696, 701, 703, 705, 707, 709, 712, 717, 719, 720, 721, 722, 724, 725, 726, 729, 730, 733, 735, 736, 738, 741, 743, 746, 748, 749, 750, 753, 756, 757, 758, 759, 760, 763, 764, 766, 767, 768, 769, 777, 779, 780, 782, 787, 788, 790, 792, 796, 797, 800, 803, 804, 807, 809, 810, 811, 812, 813, 815, 816, 818, 819, 820, 821, 822, 824, 825, 834, 836, 840, 843, 847, 850, 852, 854, 859, 861, 862, 863, 865, 866, 868, 873, 875, 877, 879, 881, 882, 885, 888, 891, 893, 894, 895, 897, 898, 899, 900, 901, 904, 906, 910, 911, 912, 914, 915, 916, 917, 919, 921, 924, 926, 928, 929, 931, 933, 938, 939, 946, 947, 949, 952, 957, 958]\n",
            "Dropped 503 epochs: 2, 4, 5, 6, 7, 10, 13, 16, 20, 21, 24, 25, 27, 28, 29, 32, 33, 34, 35, 36, 37, 42, 49, 51, 54, 55, 56, 58, 62, 63, 65, 66, 68, 71, 72, 76, 77, 78, 79, 80, 83, 84, 85, 88, 91, 93, 94, 101, 102, 104, 106, 108, 109, 110, 112, 113, 115, 116, 117, 118, 119, 120, 126, 127, 129, 130, 131, 132, 134, 136, 137, 138, 140, 144, 145, 146, 147, 148, 149, 154, 156, 157, 159, 160, 161, 162, 163, 164, 168, 169, 171, 172, 175, 176, 177, 178, 179, 181, 182, 183, 184, 185, 188, 189, 192, 193, 195, 197, 199, 200, 202, 204, 205, 207, 208, 209, 210, 212, 215, 216, 217, 218, 219, 221, 222, 223, 226, 227, 231, 232, 233, 234, 235, 239, 241, 242, 243, 244, 247, 248, 250, 251, 254, 255, 257, 258, 259, 265, 270, 274, 275, 277, 285, 286, 287, 288, 293, 297, 298, 300, 301, 302, 303, 305, 306, 312, 313, 314, 316, 318, 320, 321, 322, 324, 325, 326, 327, 329, 333, 334, 335, 336, 337, 340, 341, 342, 343, 344, 346, 347, 350, 352, 354, 355, 357, 358, 360, 361, 362, 363, 364, 366, 367, 368, 371, 372, 373, 376, 377, 384, 386, 388, 389, 392, 393, 394, 396, 397, 400, 401, 402, 404, 405, 408, 409, 410, 412, 413, 414, 415, 416, 418, 419, 420, 421, 422, 424, 425, 427, 430, 431, 433, 434, 435, 436, 437, 438, 439, 440, 441, 442, 445, 446, 448, 449, 450, 451, 453, 456, 458, 459, 462, 463, 464, 465, 466, 467, 469, 470, 471, 472, 473, 474, 476, 481, 482, 484, 485, 486, 488, 489, 491, 492, 494, 499, 500, 504, 506, 508, 509, 510, 511, 512, 513, 515, 520, 523, 524, 526, 527, 529, 533, 535, 537, 540, 543, 547, 548, 550, 551, 553, 556, 558, 559, 561, 562, 565, 570, 571, 573, 574, 575, 577, 579, 580, 581, 583, 584, 585, 587, 588, 590, 591, 593, 594, 597, 603, 606, 608, 610, 611, 613, 616, 617, 618, 622, 623, 625, 627, 629, 633, 635, 637, 638, 642, 643, 646, 648, 652, 654, 656, 657, 659, 660, 661, 664, 666, 674, 675, 678, 679, 680, 682, 683, 684, 687, 690, 692, 693, 696, 701, 703, 705, 707, 709, 712, 717, 719, 720, 721, 722, 724, 725, 726, 729, 730, 733, 735, 736, 738, 741, 743, 746, 748, 749, 750, 753, 756, 757, 758, 759, 760, 763, 764, 766, 767, 768, 769, 777, 779, 780, 782, 787, 788, 790, 792, 796, 797, 800, 803, 804, 807, 809, 810, 811, 812, 813, 815, 816, 818, 819, 820, 821, 822, 824, 825, 834, 836, 840, 843, 847, 850, 852, 854, 859, 861, 862, 863, 865, 866, 868, 873, 875, 877, 879, 881, 882, 885, 888, 891, 893, 894, 895, 897, 898, 899, 900, 901, 904, 906, 910, 911, 912, 914, 915, 916, 917, 919, 921, 924, 926, 928, 929, 931, 933, 938, 939, 946, 947, 949, 952, 957, 958\n",
            "bad trials are :\n",
            " [0, 2, 3, 7, 11, 12, 14, 15, 22, 25, 26, 27, 28, 29, 32, 34, 35, 36, 37, 38, 45, 47, 48, 50, 54, 57, 61, 63, 64, 68, 70, 72, 73, 74, 75, 78, 80, 83, 86, 87, 88, 89, 90, 91, 92, 93, 95, 98, 99, 103, 104, 105, 106, 107, 108, 110, 111, 117, 119, 120, 121, 124, 126, 127, 128, 131, 134, 136, 137, 138, 141, 142, 143, 144, 147, 151, 153, 156, 157, 159, 160, 161, 163, 165, 167, 171, 172, 173, 174, 179, 181, 182, 184, 185, 187, 188, 190, 191, 192, 197, 199, 200, 202, 203, 204, 206, 207, 209, 210, 211, 213, 217, 218, 222, 226, 227, 229, 232, 234, 235, 237, 238, 241, 242, 245, 247, 248, 250, 251, 256, 258, 262, 263, 265, 266, 268, 271, 274, 275, 276, 280, 281, 282, 283, 284, 285, 286, 287, 288, 289, 291, 292, 293, 295, 297, 299, 303, 304, 305, 306, 307, 308, 312, 313, 316, 317, 318, 320, 321, 324, 325, 326, 328, 329, 331, 337, 339, 341, 342, 343, 344, 345, 346, 347, 348, 350, 355, 358, 359, 364, 365, 366, 367, 368, 369, 373, 374, 375, 376, 379, 380, 382, 383, 384, 387, 390, 391, 392, 393, 394, 395, 396, 398, 401, 404, 405, 406, 407, 408, 409, 410, 411, 412, 414, 415, 416, 417, 418, 419, 422, 424, 425, 426, 427, 428, 429, 430, 431, 432, 433, 435, 437, 441, 444, 445, 449, 452, 453, 458, 459, 461, 463, 464, 471, 474, 478, 480, 481, 483, 485, 486, 488, 489, 491, 493, 495, 497, 498, 501, 504, 507, 508, 509, 510, 512, 513, 515, 516, 519, 522, 524, 526, 527, 530, 535, 537, 540, 545, 546, 549, 551, 554, 559, 560, 562, 563, 564, 567, 568, 570, 572, 573, 581, 582, 584, 585, 586, 589, 591, 592, 594, 596, 600, 602, 604, 605, 607, 610, 615, 616, 617, 618, 619, 625, 626, 629, 630, 633, 635, 638, 639, 640, 641, 647, 650, 653, 654, 655, 656, 657, 660, 662, 663, 666, 669, 670, 672, 673, 674, 675, 678, 679, 680, 682, 685, 686, 687, 689, 690, 691, 692, 695, 696, 698, 699, 705, 708, 710, 711, 714, 715, 716, 719, 722, 723, 725, 727, 730, 732, 733, 734, 738, 739, 741, 742, 743, 744, 745, 746, 747, 748, 749, 750, 752, 753, 755, 756, 757, 758, 759, 762, 763, 764, 765, 767, 768, 769, 770, 771, 773, 776, 779, 782, 784, 786, 787, 789, 790, 792, 794, 795, 797, 798, 803, 804, 806, 809, 810, 813, 814, 816, 817, 819, 820, 823, 824, 825, 830, 835, 836, 838, 839, 841, 842, 843, 845, 847, 849, 851, 853, 854, 855, 856, 858, 859, 860, 863, 864, 867, 869, 871, 874, 877, 879, 882, 885, 888, 891, 893, 899, 901, 902, 903, 904, 906, 911, 912, 914, 915, 916, 918, 919, 921, 927, 928, 930, 937, 938, 940, 941, 942, 945, 946, 948, 953, 955, 957]\n",
            "Dropped 497 epochs: 0, 2, 3, 7, 11, 12, 14, 15, 22, 25, 26, 27, 28, 29, 32, 34, 35, 36, 37, 38, 45, 47, 48, 50, 54, 57, 61, 63, 64, 68, 70, 72, 73, 74, 75, 78, 80, 83, 86, 87, 88, 89, 90, 91, 92, 93, 95, 98, 99, 103, 104, 105, 106, 107, 108, 110, 111, 117, 119, 120, 121, 124, 126, 127, 128, 131, 134, 136, 137, 138, 141, 142, 143, 144, 147, 151, 153, 156, 157, 159, 160, 161, 163, 165, 167, 171, 172, 173, 174, 179, 181, 182, 184, 185, 187, 188, 190, 191, 192, 197, 199, 200, 202, 203, 204, 206, 207, 209, 210, 211, 213, 217, 218, 222, 226, 227, 229, 232, 234, 235, 237, 238, 241, 242, 245, 247, 248, 250, 251, 256, 258, 262, 263, 265, 266, 268, 271, 274, 275, 276, 280, 281, 282, 283, 284, 285, 286, 287, 288, 289, 291, 292, 293, 295, 297, 299, 303, 304, 305, 306, 307, 308, 312, 313, 316, 317, 318, 320, 321, 324, 325, 326, 328, 329, 331, 337, 339, 341, 342, 343, 344, 345, 346, 347, 348, 350, 355, 358, 359, 364, 365, 366, 367, 368, 369, 373, 374, 375, 376, 379, 380, 382, 383, 384, 387, 390, 391, 392, 393, 394, 395, 396, 398, 401, 404, 405, 406, 407, 408, 409, 410, 411, 412, 414, 415, 416, 417, 418, 419, 422, 424, 425, 426, 427, 428, 429, 430, 431, 432, 433, 435, 437, 441, 444, 445, 449, 452, 453, 458, 459, 461, 463, 464, 471, 474, 478, 480, 481, 483, 485, 486, 488, 489, 491, 493, 495, 497, 498, 501, 504, 507, 508, 509, 510, 512, 513, 515, 516, 519, 522, 524, 526, 527, 530, 535, 537, 540, 545, 546, 549, 551, 554, 559, 560, 562, 563, 564, 567, 568, 570, 572, 573, 581, 582, 584, 585, 586, 589, 591, 592, 594, 596, 600, 602, 604, 605, 607, 610, 615, 616, 617, 618, 619, 625, 626, 629, 630, 633, 635, 638, 639, 640, 641, 647, 650, 653, 654, 655, 656, 657, 660, 662, 663, 666, 669, 670, 672, 673, 674, 675, 678, 679, 680, 682, 685, 686, 687, 689, 690, 691, 692, 695, 696, 698, 699, 705, 708, 710, 711, 714, 715, 716, 719, 722, 723, 725, 727, 730, 732, 733, 734, 738, 739, 741, 742, 743, 744, 745, 746, 747, 748, 749, 750, 752, 753, 755, 756, 757, 758, 759, 762, 763, 764, 765, 767, 768, 769, 770, 771, 773, 776, 779, 782, 784, 786, 787, 789, 790, 792, 794, 795, 797, 798, 803, 804, 806, 809, 810, 813, 814, 816, 817, 819, 820, 823, 824, 825, 830, 835, 836, 838, 839, 841, 842, 843, 845, 847, 849, 851, 853, 854, 855, 856, 858, 859, 860, 863, 864, 867, 869, 871, 874, 877, 879, 882, 885, 888, 891, 893, 899, 901, 902, 903, 904, 906, 911, 912, 914, 915, 916, 918, 919, 921, 927, 928, 930, 937, 938, 940, 941, 942, 945, 946, 948, 953, 955, 957\n"
          ],
          "name": "stdout"
        },
        {
          "output_type": "stream",
          "text": [
            "/usr/local/lib/python3.7/dist-packages/ipykernel_launcher.py:5: RuntimeWarning: divide by zero encountered in true_divide\n",
            "  \"\"\"\n"
          ],
          "name": "stderr"
        },
        {
          "output_type": "stream",
          "text": [
            "bad trials are :\n",
            " [0, 1, 2, 4, 5, 6, 7, 8, 9, 10, 13, 17, 19, 21, 22, 23, 24, 26, 28, 30, 31, 34, 36, 39, 40, 43, 44, 46, 48, 49, 53, 56, 58, 59, 61, 62, 63, 65, 67, 68, 72, 74, 76, 77, 79, 80, 81, 83, 85, 88, 89, 90, 91, 94, 95, 97, 99, 100, 101, 102, 103, 105, 107, 108, 110, 111, 112, 113, 114, 117, 121, 122, 123, 124, 125, 126, 127, 128, 129, 130, 135, 136, 138, 140, 141, 146, 147, 148, 149, 151, 153, 154, 155, 156, 157, 158, 162, 164, 165, 167, 170, 171, 172, 173, 174, 176, 178, 183, 188, 189, 190, 191, 194, 196, 197, 198, 199, 200, 201, 202, 203, 205, 207, 208, 210, 211, 212, 213, 214, 216, 217, 218, 221, 222, 224, 226, 228, 230, 233, 234, 236, 237, 238, 239, 240, 242, 243, 244, 245, 246, 247, 248, 250, 252, 253, 254, 256, 258, 259, 260, 261, 264, 267, 268, 269, 270, 272, 274, 275, 279, 281, 282, 284, 287, 292, 295, 296, 298, 300, 301, 304, 306, 307, 310, 312, 314, 315, 318, 320, 321, 322, 323, 324, 326, 331, 333, 335, 337, 342, 344, 348, 350, 351, 352, 354, 355, 357, 359, 361, 364, 365, 368, 370, 372, 374, 378, 380, 385, 388, 390, 391, 393, 394, 396, 397, 398, 404, 405, 407, 412, 413, 414, 418, 419, 421, 422, 423, 425, 430, 432, 434, 435, 437, 439, 440, 445, 447, 448, 451, 452, 453, 458, 461, 463, 464, 467, 469, 471, 472, 473, 475, 476, 477, 481, 483, 484, 485, 486, 489, 491, 496, 499, 501, 503, 504, 506, 507, 508, 509, 511, 514, 517, 519, 520, 521, 525, 526, 527, 528, 530, 531, 532, 535, 538, 539, 542, 544, 547, 548, 550, 551, 552, 554, 557, 558, 561, 562, 566, 567, 568, 569, 572, 574, 576, 577, 578, 579, 581, 585, 589, 590, 592, 595, 599, 603, 604, 605, 608, 609, 610, 611, 616, 617, 620, 621, 622, 623, 625, 626, 627, 628, 631, 633, 634, 638, 639, 642, 643, 645, 649, 650, 651, 652, 653, 656, 658, 662, 664, 665, 667, 669, 670, 671, 673, 674, 676, 677, 679, 686, 687, 688, 689, 691, 696, 697, 702, 707, 712, 715, 718, 721, 723, 724, 726, 727, 729, 730, 731, 732, 736, 737, 740, 743, 745, 746, 747, 749, 751, 753, 756, 758, 760, 761, 762, 763, 766, 768, 770, 771, 773, 775, 777, 778, 779, 780, 783, 784, 786, 793, 795, 799, 801, 803, 806, 808, 809, 810, 811, 812, 814, 815, 816, 817, 818, 820, 828, 829, 830, 832, 834, 836, 837, 839, 843, 847, 850, 851, 852, 853, 855, 857, 859, 864, 866, 867, 870, 872, 874, 875, 876, 877, 882, 885, 887, 889, 891, 893, 895, 896, 900, 901, 902, 903, 906, 907, 908, 910, 913, 920, 922, 924, 926, 927, 928, 930, 931, 934, 935, 937, 940, 941, 942, 945, 946, 949, 950, 953, 955, 956]\n",
            "Dropped 499 epochs: 0, 1, 2, 4, 5, 6, 7, 8, 9, 10, 13, 17, 19, 21, 22, 23, 24, 26, 28, 30, 31, 34, 36, 39, 40, 43, 44, 46, 48, 49, 53, 56, 58, 59, 61, 62, 63, 65, 67, 68, 72, 74, 76, 77, 79, 80, 81, 83, 85, 88, 89, 90, 91, 94, 95, 97, 99, 100, 101, 102, 103, 105, 107, 108, 110, 111, 112, 113, 114, 117, 121, 122, 123, 124, 125, 126, 127, 128, 129, 130, 135, 136, 138, 140, 141, 146, 147, 148, 149, 151, 153, 154, 155, 156, 157, 158, 162, 164, 165, 167, 170, 171, 172, 173, 174, 176, 178, 183, 188, 189, 190, 191, 194, 196, 197, 198, 199, 200, 201, 202, 203, 205, 207, 208, 210, 211, 212, 213, 214, 216, 217, 218, 221, 222, 224, 226, 228, 230, 233, 234, 236, 237, 238, 239, 240, 242, 243, 244, 245, 246, 247, 248, 250, 252, 253, 254, 256, 258, 259, 260, 261, 264, 267, 268, 269, 270, 272, 274, 275, 279, 281, 282, 284, 287, 292, 295, 296, 298, 300, 301, 304, 306, 307, 310, 312, 314, 315, 318, 320, 321, 322, 323, 324, 326, 331, 333, 335, 337, 342, 344, 348, 350, 351, 352, 354, 355, 357, 359, 361, 364, 365, 368, 370, 372, 374, 378, 380, 385, 388, 390, 391, 393, 394, 396, 397, 398, 404, 405, 407, 412, 413, 414, 418, 419, 421, 422, 423, 425, 430, 432, 434, 435, 437, 439, 440, 445, 447, 448, 451, 452, 453, 458, 461, 463, 464, 467, 469, 471, 472, 473, 475, 476, 477, 481, 483, 484, 485, 486, 489, 491, 496, 499, 501, 503, 504, 506, 507, 508, 509, 511, 514, 517, 519, 520, 521, 525, 526, 527, 528, 530, 531, 532, 535, 538, 539, 542, 544, 547, 548, 550, 551, 552, 554, 557, 558, 561, 562, 566, 567, 568, 569, 572, 574, 576, 577, 578, 579, 581, 585, 589, 590, 592, 595, 599, 603, 604, 605, 608, 609, 610, 611, 616, 617, 620, 621, 622, 623, 625, 626, 627, 628, 631, 633, 634, 638, 639, 642, 643, 645, 649, 650, 651, 652, 653, 656, 658, 662, 664, 665, 667, 669, 670, 671, 673, 674, 676, 677, 679, 686, 687, 688, 689, 691, 696, 697, 702, 707, 712, 715, 718, 721, 723, 724, 726, 727, 729, 730, 731, 732, 736, 737, 740, 743, 745, 746, 747, 749, 751, 753, 756, 758, 760, 761, 762, 763, 766, 768, 770, 771, 773, 775, 777, 778, 779, 780, 783, 784, 786, 793, 795, 799, 801, 803, 806, 808, 809, 810, 811, 812, 814, 815, 816, 817, 818, 820, 828, 829, 830, 832, 834, 836, 837, 839, 843, 847, 850, 851, 852, 853, 855, 857, 859, 864, 866, 867, 870, 872, 874, 875, 876, 877, 882, 885, 887, 889, 891, 893, 895, 896, 900, 901, 902, 903, 906, 907, 908, 910, 913, 920, 922, 924, 926, 927, 928, 930, 931, 934, 935, 937, 940, 941, 942, 945, 946, 949, 950, 953, 955, 956\n",
            "bad trials are :\n",
            " [0, 2, 6, 20, 24, 29, 35, 38, 44, 50, 55, 60, 65, 68, 71, 72, 73, 75, 76, 77, 80, 81, 83, 88, 90, 94, 95, 103, 105, 108, 112, 113, 115, 128, 134, 146, 148, 151, 173, 174, 178, 184, 191, 196, 207, 210, 213, 215, 219, 220, 222, 231, 245, 273, 281, 293, 300, 312, 325, 334, 346, 361, 363, 364, 384, 388, 400, 418, 433, 440, 444, 467, 476, 478, 488, 493, 497, 518, 528, 531, 536, 548, 556, 559, 567, 578, 584, 587, 602, 610, 633, 637, 654, 678, 691, 696, 735, 736, 745, 766, 767, 777, 796, 801, 827, 830, 850, 866, 892, 904, 908, 917, 922, 932, 939, 955]\n",
            "Dropped 116 epochs: 0, 2, 6, 20, 24, 29, 35, 38, 44, 50, 55, 60, 65, 68, 71, 72, 73, 75, 76, 77, 80, 81, 83, 88, 90, 94, 95, 103, 105, 108, 112, 113, 115, 128, 134, 146, 148, 151, 173, 174, 178, 184, 191, 196, 207, 210, 213, 215, 219, 220, 222, 231, 245, 273, 281, 293, 300, 312, 325, 334, 346, 361, 363, 364, 384, 388, 400, 418, 433, 440, 444, 467, 476, 478, 488, 493, 497, 518, 528, 531, 536, 548, 556, 559, 567, 578, 584, 587, 602, 610, 633, 637, 654, 678, 691, 696, 735, 736, 745, 766, 767, 777, 796, 801, 827, 830, 850, 866, 892, 904, 908, 917, 922, 932, 939, 955\n",
            "bad trials are :\n",
            " [2, 5, 8, 13, 18, 22, 26, 28, 29, 35, 39, 42, 47, 49, 52, 56, 62, 69, 70, 74, 78, 79, 83, 84, 88, 92, 94, 100, 104, 105, 111, 115, 117, 118, 122, 128, 135, 137, 141, 146, 148, 152, 154, 160, 164, 169, 171, 172, 173, 181, 184, 186, 203, 205, 207, 208, 216, 218, 219, 221, 223, 225, 226, 228, 230, 232, 237, 252, 253, 257, 260, 264, 270, 272, 279, 286, 296, 300, 303, 306, 308, 310, 311, 312, 316, 318, 319, 323, 325, 326, 328, 332, 339, 343, 346, 350, 352, 354, 361, 364, 367, 373, 374, 376, 388, 390, 395, 397, 400, 407, 410, 414, 416, 419, 422, 430, 437, 439, 440, 442, 444, 446, 453, 454, 455, 458, 459, 462, 463, 465, 466, 471, 479, 481, 482, 485, 486, 487, 489, 492, 494, 501, 502, 505, 508, 509, 512, 514, 515, 519, 521, 522, 534, 538, 539, 542, 544, 546, 549, 551, 557, 559, 564, 566, 567, 575, 578, 581, 583, 584, 586, 589, 590, 591, 593, 594, 595, 596, 601, 605, 607, 611, 612, 615, 618, 622, 624, 625, 629, 631, 634, 637, 639, 643, 646, 649, 654, 657, 658, 659, 665, 667, 668, 669, 671, 674, 685, 689, 695, 697, 700, 702, 705, 708, 711, 714, 717, 721, 727, 728, 729, 732, 735, 738, 742, 744, 745, 749, 752, 755, 760, 767, 771, 772, 774, 779, 781, 782, 789, 790, 795, 798, 803, 804, 806, 809, 812, 813, 814, 815, 816, 820, 822, 824, 825, 827, 831, 835, 839, 841, 844, 846, 847, 849, 851, 856, 859, 862, 865, 869, 872, 875, 880, 883, 885, 886, 887, 889, 890, 893, 894, 896, 899, 900, 902, 903, 905, 906, 907, 910, 911, 914, 916, 919, 920, 930, 933, 935, 936, 938, 943, 945, 948, 949, 954, 955]\n",
            "Dropped 306 epochs: 2, 5, 8, 13, 18, 22, 26, 28, 29, 35, 39, 42, 47, 49, 52, 56, 62, 69, 70, 74, 78, 79, 83, 84, 88, 92, 94, 100, 104, 105, 111, 115, 117, 118, 122, 128, 135, 137, 141, 146, 148, 152, 154, 160, 164, 169, 171, 172, 173, 181, 184, 186, 203, 205, 207, 208, 216, 218, 219, 221, 223, 225, 226, 228, 230, 232, 237, 252, 253, 257, 260, 264, 270, 272, 279, 286, 296, 300, 303, 306, 308, 310, 311, 312, 316, 318, 319, 323, 325, 326, 328, 332, 339, 343, 346, 350, 352, 354, 361, 364, 367, 373, 374, 376, 388, 390, 395, 397, 400, 407, 410, 414, 416, 419, 422, 430, 437, 439, 440, 442, 444, 446, 453, 454, 455, 458, 459, 462, 463, 465, 466, 471, 479, 481, 482, 485, 486, 487, 489, 492, 494, 501, 502, 505, 508, 509, 512, 514, 515, 519, 521, 522, 534, 538, 539, 542, 544, 546, 549, 551, 557, 559, 564, 566, 567, 575, 578, 581, 583, 584, 586, 589, 590, 591, 593, 594, 595, 596, 601, 605, 607, 611, 612, 615, 618, 622, 624, 625, 629, 631, 634, 637, 639, 643, 646, 649, 654, 657, 658, 659, 665, 667, 668, 669, 671, 674, 685, 689, 695, 697, 700, 702, 705, 708, 711, 714, 717, 721, 727, 728, 729, 732, 735, 738, 742, 744, 745, 749, 752, 755, 760, 767, 771, 772, 774, 779, 781, 782, 789, 790, 795, 798, 803, 804, 806, 809, 812, 813, 814, 815, 816, 820, 822, 824, 825, 827, 831, 835, 839, 841, 844, 846, 847, 849, 851, 856, 859, 862, 865, 869, 872, 875, 880, 883, 885, 886, 887, 889, 890, 893, 894, 896, 899, 900, 902, 903, 905, 906, 907, 910, 911, 914, 916, 919, 920, 930, 933, 935, 936, 938, 943, 945, 948, 949, 954, 955\n",
            "bad trials are :\n",
            " [0, 4, 9, 13, 16, 26, 27, 29, 35, 40, 46, 47, 58, 60, 62, 70, 75, 79, 81, 83, 85, 87, 89, 91, 95, 97, 100, 103, 105, 112, 118, 121, 122, 127, 128, 137, 139, 141, 151, 158, 160, 165, 176, 178, 180, 182, 188, 189, 190, 191, 193, 198, 199, 203, 206, 212, 214, 219, 223, 226, 229, 231, 235, 237, 244, 247, 251, 254, 258, 261, 267, 269, 270, 275, 281, 284, 287, 291, 293, 294, 295, 300, 302, 305, 307, 311, 314, 324, 327, 333, 335, 338, 343, 344, 345, 347, 349, 352, 356, 358, 359, 361, 363, 366, 369, 371, 374, 377, 381, 383, 385, 388, 403, 411, 412, 417, 419, 420, 423, 426, 428, 430, 435, 440, 443, 444, 446, 447, 448, 449, 451, 454, 461, 465, 467, 476, 477, 483, 489, 495, 497, 498, 499, 500, 502, 504, 507, 508, 509, 513, 514, 515, 518, 525, 528, 530, 533, 540, 543, 545, 546, 547, 548, 551, 556, 558, 560, 561, 564, 568, 571, 574, 575, 577, 580, 583, 588, 590, 591, 592, 593, 595, 598, 600, 603, 608, 610, 612, 614, 616, 619, 623, 625, 630, 636, 641, 644, 646, 651, 654, 657, 660, 662, 665, 673, 675, 677, 678, 680, 682, 685, 686, 687, 692, 693, 697, 700, 705, 707, 709, 710, 715, 718, 720, 724, 729, 732, 734, 736, 737, 739, 741, 743, 748, 750, 752, 754, 758, 761, 763, 766, 767, 770, 771, 778, 780, 781, 783, 784, 786, 788, 791, 793, 798, 800, 802, 805, 807, 809, 813, 818, 820, 822, 827, 830, 832, 834, 837, 839, 847, 849, 851, 852, 860, 863, 866, 867, 868, 872, 874, 875, 878, 881, 883, 886, 888, 890, 892, 895, 897, 899, 901, 905, 909, 912, 914, 916, 918, 921, 923, 925, 927, 930, 932, 934, 939, 943, 945, 947, 948, 952, 953]\n",
            "Dropped 312 epochs: 0, 4, 9, 13, 16, 26, 27, 29, 35, 40, 46, 47, 58, 60, 62, 70, 75, 79, 81, 83, 85, 87, 89, 91, 95, 97, 100, 103, 105, 112, 118, 121, 122, 127, 128, 137, 139, 141, 151, 158, 160, 165, 176, 178, 180, 182, 188, 189, 190, 191, 193, 198, 199, 203, 206, 212, 214, 219, 223, 226, 229, 231, 235, 237, 244, 247, 251, 254, 258, 261, 267, 269, 270, 275, 281, 284, 287, 291, 293, 294, 295, 300, 302, 305, 307, 311, 314, 324, 327, 333, 335, 338, 343, 344, 345, 347, 349, 352, 356, 358, 359, 361, 363, 366, 369, 371, 374, 377, 381, 383, 385, 388, 403, 411, 412, 417, 419, 420, 423, 426, 428, 430, 435, 440, 443, 444, 446, 447, 448, 449, 451, 454, 461, 465, 467, 476, 477, 483, 489, 495, 497, 498, 499, 500, 502, 504, 507, 508, 509, 513, 514, 515, 518, 525, 528, 530, 533, 540, 543, 545, 546, 547, 548, 551, 556, 558, 560, 561, 564, 568, 571, 574, 575, 577, 580, 583, 588, 590, 591, 592, 593, 595, 598, 600, 603, 608, 610, 612, 614, 616, 619, 623, 625, 630, 636, 641, 644, 646, 651, 654, 657, 660, 662, 665, 673, 675, 677, 678, 680, 682, 685, 686, 687, 692, 693, 697, 700, 705, 707, 709, 710, 715, 718, 720, 724, 729, 732, 734, 736, 737, 739, 741, 743, 748, 750, 752, 754, 758, 761, 763, 766, 767, 770, 771, 778, 780, 781, 783, 784, 786, 788, 791, 793, 798, 800, 802, 805, 807, 809, 813, 818, 820, 822, 827, 830, 832, 834, 837, 839, 847, 849, 851, 852, 860, 863, 866, 867, 868, 872, 874, 875, 878, 881, 883, 886, 888, 890, 892, 895, 897, 899, 901, 905, 909, 912, 914, 916, 918, 921, 923, 925, 927, 930, 932, 934, 939, 943, 945, 947, 948, 952, 953\n"
          ],
          "name": "stdout"
        }
      ]
    },
    {
      "cell_type": "markdown",
      "metadata": {
        "id": "iV1UGU6SWFAW"
      },
      "source": [
        "#SAVE"
      ]
    },
    {
      "cell_type": "code",
      "metadata": {
        "id": "4i1peXkPWGlC"
      },
      "source": [
        "split = title[0].split('-')\n",
        "file_name = split[1] + '-' +  split[2] + '-epo.fif'\n",
        "filtered_epochs[0].save(file_name, overwrite=True)"
      ],
      "execution_count": null,
      "outputs": []
    },
    {
      "cell_type": "code",
      "metadata": {
        "id": "f7E8kYlmWPoc"
      },
      "source": [
        "split = title[1].split('-')\n",
        "file_name = split[1] + '-' +  split[2] + '-epo.fif'\n",
        "filtered_epochs[1].save(file_name, overwrite=True)"
      ],
      "execution_count": null,
      "outputs": []
    },
    {
      "cell_type": "code",
      "metadata": {
        "id": "0ynczywRWVuE"
      },
      "source": [
        "split = title[2].split('-')\n",
        "file_name = split[1] + '-' +  split[2] + '-epo.fif'\n",
        "filtered_epochs[2].save(file_name, overwrite=True)"
      ],
      "execution_count": null,
      "outputs": []
    },
    {
      "cell_type": "code",
      "metadata": {
        "id": "G5zo1xaGWYEf"
      },
      "source": [
        "split = title[3].split('-')\n",
        "file_name = split[1] + '-' +  split[2] + '-epo.fif'\n",
        "filtered_epochs[3].save(file_name, overwrite=True)"
      ],
      "execution_count": null,
      "outputs": []
    },
    {
      "cell_type": "code",
      "metadata": {
        "id": "nao6KWsjWbW3"
      },
      "source": [
        "split = title[4].split('-')\n",
        "file_name = split[1] + '-' +  split[2] + '-epo.fif'\n",
        "filtered_epochs[4].save(file_name, overwrite=True)"
      ],
      "execution_count": null,
      "outputs": []
    },
    {
      "cell_type": "code",
      "metadata": {
        "id": "g9rpYJ3ZWdt3"
      },
      "source": [
        "split = title[5].split('-')\n",
        "file_name = split[1] + '-' +  split[2] + '-epo.fif'\n",
        "filtered_epochs[5].save(file_name, overwrite=True)"
      ],
      "execution_count": null,
      "outputs": []
    },
    {
      "cell_type": "markdown",
      "metadata": {
        "id": "-ein9IUxyAsO"
      },
      "source": [
        "# MOVE TO FOLDER"
      ]
    },
    {
      "cell_type": "code",
      "metadata": {
        "id": "oYPw0iR4OkaY",
        "colab": {
          "base_uri": "https://localhost:8080/"
        },
        "outputId": "4f585d88-f438-49d0-fbfc-3e881bcfa806"
      },
      "source": [
        "from google.colab import drive\n",
        "drive.mount('/content/drive')"
      ],
      "execution_count": null,
      "outputs": [
        {
          "output_type": "stream",
          "text": [
            "Mounted at /content/drive\n"
          ],
          "name": "stdout"
        }
      ]
    },
    {
      "cell_type": "code",
      "metadata": {
        "id": "GjLrawxt8pSg"
      },
      "source": [
        "currentpath = '/content'"
      ],
      "execution_count": null,
      "outputs": []
    },
    {
      "cell_type": "code",
      "metadata": {
        "id": "oUIBGLh5y1kb"
      },
      "source": [
        "newpath = 'drive/My Drive/preprocessed_EEG/Q2_f'"
      ],
      "execution_count": null,
      "outputs": []
    },
    {
      "cell_type": "code",
      "metadata": {
        "id": "fjWyD5Bi-MCK"
      },
      "source": [
        "import glob, os\n",
        "import shutil\n",
        "os.chdir(currentpath)\n",
        "for file in glob.glob(\"*.fif\"):\n",
        "  shutil.move(file, newpath)"
      ],
      "execution_count": null,
      "outputs": []
    }
  ]
}